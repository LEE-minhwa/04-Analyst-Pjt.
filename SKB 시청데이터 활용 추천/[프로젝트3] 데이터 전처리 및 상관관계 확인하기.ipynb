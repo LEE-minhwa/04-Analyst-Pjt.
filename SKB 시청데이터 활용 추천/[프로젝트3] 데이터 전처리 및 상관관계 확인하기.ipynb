{
 "cells": [
  {
   "cell_type": "markdown",
   "metadata": {
    "id": "-rxt9bMf3orJ"
   },
   "source": [
    "# [프로젝트3] 데이터 전처리 및 상관관계 확인하기\n"
   ]
  },
  {
   "cell_type": "markdown",
   "metadata": {
    "id": "h3g82fmC7IZb"
   },
   "source": [
    "---"
   ]
  },
  {
   "cell_type": "markdown",
   "metadata": {
    "id": "BG_0zjG13zZy"
   },
   "source": [
    "\n",
    "## 프로젝트 목표\n",
    "---\n",
    "- 추천 알고리즘에 적용하기 위해 데이터를 전처리합니다. \n",
    "- 히트맵(heatmap) 시각화를 통해 데이터의 상관관계를 확인합니다. \n"
   ]
  },
  {
   "cell_type": "markdown",
   "metadata": {
    "id": "pS7RvUWi5vJe"
   },
   "source": [
    "## 프로젝트 목차\n",
    "---\n",
    "\n",
    "1. **데이터 불러오기:** 4개의 csv 데이터를 불러옵니다.\n",
    "\n",
    "2. **데이터 전처리하기:** 추천 알고리즘에 적용하기 위해 데이터를 전처리합니다. \n",
    "\n",
    "3. **데이터 상관관계 확인하기:** 전처리한 데이터를 시각화를 통해 데이터간의 상관관계를 확인합니다."
   ]
  },
  {
   "cell_type": "markdown",
   "metadata": {
    "id": "K-rxhtJI5_D2"
   },
   "source": [
    "## 프로젝트 개요\n",
    "---\n",
    "\n",
    "추천 알고리즘에 적용할 수 있도록 데이터를 전처리하고, 전처리한 데이터를 히트맵(heatmap) 시각화를 통해 데이터 내에 존재하는 상관관계를 확인합니다. "
   ]
  },
  {
   "cell_type": "markdown",
   "metadata": {
    "id": "0kOsIuLd6EA9"
   },
   "source": [
    "## 1. 데이터 불러오기\n",
    "---\n",
    "\n",
    "판다스 데이터 프레임 형태로 movie, views, question, test 데이터들을 불러들입니다."
   ]
  },
  {
   "cell_type": "code",
   "execution_count": null,
   "metadata": {
    "colab": {
     "base_uri": "https://localhost:8080/"
    },
    "id": "YGoOOw6lys6u",
    "outputId": "14545a79-7b8b-4636-8d10-c9c090f48372",
    "scrolled": true
   },
   "outputs": [
    {
     "name": "stderr",
     "output_type": "stream",
     "text": [
      "/opt/conda/lib/python3.8/site-packages/IPython/core/interactiveshell.py:3146: DtypeWarning: Columns (0,1,2,3,4) have mixed types.Specify dtype option on import or set low_memory=False.\n",
      "  has_raised = await self.run_ast_nodes(code_ast.body, cell_name,\n",
      "/opt/conda/lib/python3.8/site-packages/IPython/core/interactiveshell.py:3146: DtypeWarning: Columns (0,1) have mixed types.Specify dtype option on import or set low_memory=False.\n",
      "  has_raised = await self.run_ast_nodes(code_ast.body, cell_name,\n"
     ]
    }
   ],
   "source": [
    "# 판다스 라이브러리 사용을 위해\n",
    "import pandas as pd\n",
    "\n",
    "# 데이터 로드 (header=None은 컬럼 이름이 없다는 뜻입니다)\n",
    "df_movie = pd.read_csv('/mnt/data/chapter_4/MYSUNI_MOVIES.csv', header=None)\n",
    "df_views = pd.read_csv('/mnt/data/chapter_4/MYSUNI_VIEWS.csv', header=None)\n",
    "df_question = pd.read_csv('/mnt/data/chapter_4/MYSUNI_QUESTION.csv', header=None)\n",
    "df_test = pd.read_csv('/mnt/data/chapter_4/MYSUNI_TEST.csv', header=None)"
   ]
  },
  {
   "cell_type": "markdown",
   "metadata": {
    "id": "GwZgqaER7IZf"
   },
   "source": [
    "## 2. 데이터 전처리하기\n",
    "---\n",
    "\n",
    "읽어들인 데이터들을 원하는 형태로 전처리 합니다."
   ]
  },
  {
   "cell_type": "markdown",
   "metadata": {
    "id": "471BvUaaTr5Z"
   },
   "source": [
    "### 2.1 문제 정보 전처리\n",
    "---\n",
    "\n",
    "문제 정보 데이터에서 첫 행(열 이름 정보)을 지우고, 데이터 프레임의 열 이름을 `USER_ID`, `MOVIE_ID`, `DURATION`, `WATCH_DAY`, `WATCH_SEQ`으로 지정합니다.\n",
    "\n",
    "또한, 시청 시간을 계산하기 위해 데이터의 타입을 정수형(int)으로 변경하고, 변경한 시청 시간이 10분 미만이면 0으로, 나머지는 1 값으로 설정합니다.\n",
    "\n",
    "이렇게 설정함으로써 `DURATION`이 rating의 역할을 하게 됩니다. "
   ]
  },
  {
   "cell_type": "code",
   "execution_count": null,
   "metadata": {
    "id": "Vnpw3vPw46dD"
   },
   "outputs": [],
   "source": [
    "# 첫 행을 지우기\n",
    "df_question.drop(index=0, inplace=True)\n",
    "\n",
    "# 열 이름 정하기\n",
    "df_question.columns = ['USER_ID', 'MOVIE_ID', 'DURATION', 'WATCH_DAY', 'WATCH_SEQ']"
   ]
  },
  {
   "cell_type": "code",
   "execution_count": null,
   "metadata": {
    "id": "xDItaxgc55oW"
   },
   "outputs": [],
   "source": [
    "# 시청 시간을 rating으로 계산하기 위해 데이터 타입 변경\n",
    "\n",
    "df_question = df_question.astype('int')"
   ]
  },
  {
   "cell_type": "code",
   "execution_count": null,
   "metadata": {
    "id": "9QSSdCPv6djo"
   },
   "outputs": [],
   "source": [
    "# 시청시간이 10분 미만이면 0으로 변경 (시청하지 않음을 의미)\n",
    "df_question.loc[df_question.DURATION<10, 'DURATION']=0\n",
    "# 나머지는 1로 변경 (시청함을 의미)\n",
    "df_question.loc[df_question.DURATION>0, 'DURATION']=1"
   ]
  },
  {
   "cell_type": "code",
   "execution_count": null,
   "metadata": {
    "colab": {
     "base_uri": "https://localhost:8080/",
     "height": 419
    },
    "id": "4PlgBbri6oeS",
    "outputId": "fe190d81-5525-4fc8-f892-0011b03abd31"
   },
   "outputs": [
    {
     "data": {
      "text/html": [
       "<div>\n",
       "<style scoped>\n",
       "    .dataframe tbody tr th:only-of-type {\n",
       "        vertical-align: middle;\n",
       "    }\n",
       "\n",
       "    .dataframe tbody tr th {\n",
       "        vertical-align: top;\n",
       "    }\n",
       "\n",
       "    .dataframe thead th {\n",
       "        text-align: right;\n",
       "    }\n",
       "</style>\n",
       "<table border=\"1\" class=\"dataframe\">\n",
       "  <thead>\n",
       "    <tr style=\"text-align: right;\">\n",
       "      <th></th>\n",
       "      <th>USER_ID</th>\n",
       "      <th>MOVIE_ID</th>\n",
       "      <th>DURATION</th>\n",
       "      <th>WATCH_DAY</th>\n",
       "      <th>WATCH_SEQ</th>\n",
       "    </tr>\n",
       "  </thead>\n",
       "  <tbody>\n",
       "    <tr>\n",
       "      <th>1</th>\n",
       "      <td>1</td>\n",
       "      <td>4660</td>\n",
       "      <td>1</td>\n",
       "      <td>20210424</td>\n",
       "      <td>1</td>\n",
       "    </tr>\n",
       "    <tr>\n",
       "      <th>2</th>\n",
       "      <td>1</td>\n",
       "      <td>6271</td>\n",
       "      <td>0</td>\n",
       "      <td>20210313</td>\n",
       "      <td>1</td>\n",
       "    </tr>\n",
       "    <tr>\n",
       "      <th>3</th>\n",
       "      <td>1</td>\n",
       "      <td>1372</td>\n",
       "      <td>1</td>\n",
       "      <td>20210307</td>\n",
       "      <td>1</td>\n",
       "    </tr>\n",
       "    <tr>\n",
       "      <th>4</th>\n",
       "      <td>1</td>\n",
       "      <td>14282</td>\n",
       "      <td>1</td>\n",
       "      <td>20210207</td>\n",
       "      <td>1</td>\n",
       "    </tr>\n",
       "    <tr>\n",
       "      <th>5</th>\n",
       "      <td>1</td>\n",
       "      <td>1455</td>\n",
       "      <td>1</td>\n",
       "      <td>20210131</td>\n",
       "      <td>1</td>\n",
       "    </tr>\n",
       "    <tr>\n",
       "      <th>...</th>\n",
       "      <td>...</td>\n",
       "      <td>...</td>\n",
       "      <td>...</td>\n",
       "      <td>...</td>\n",
       "      <td>...</td>\n",
       "    </tr>\n",
       "    <tr>\n",
       "      <th>558696</th>\n",
       "      <td>55894</td>\n",
       "      <td>633</td>\n",
       "      <td>0</td>\n",
       "      <td>20210623</td>\n",
       "      <td>1</td>\n",
       "    </tr>\n",
       "    <tr>\n",
       "      <th>558697</th>\n",
       "      <td>55894</td>\n",
       "      <td>13475</td>\n",
       "      <td>1</td>\n",
       "      <td>20210619</td>\n",
       "      <td>4</td>\n",
       "    </tr>\n",
       "    <tr>\n",
       "      <th>558698</th>\n",
       "      <td>55894</td>\n",
       "      <td>9909</td>\n",
       "      <td>0</td>\n",
       "      <td>20210619</td>\n",
       "      <td>3</td>\n",
       "    </tr>\n",
       "    <tr>\n",
       "      <th>558699</th>\n",
       "      <td>55894</td>\n",
       "      <td>13475</td>\n",
       "      <td>0</td>\n",
       "      <td>20210619</td>\n",
       "      <td>2</td>\n",
       "    </tr>\n",
       "    <tr>\n",
       "      <th>558700</th>\n",
       "      <td>55894</td>\n",
       "      <td>697</td>\n",
       "      <td>0</td>\n",
       "      <td>20210619</td>\n",
       "      <td>1</td>\n",
       "    </tr>\n",
       "  </tbody>\n",
       "</table>\n",
       "<p>558700 rows × 5 columns</p>\n",
       "</div>"
      ],
      "text/plain": [
       "        USER_ID  MOVIE_ID  DURATION  WATCH_DAY  WATCH_SEQ\n",
       "1             1      4660         1   20210424          1\n",
       "2             1      6271         0   20210313          1\n",
       "3             1      1372         1   20210307          1\n",
       "4             1     14282         1   20210207          1\n",
       "5             1      1455         1   20210131          1\n",
       "...         ...       ...       ...        ...        ...\n",
       "558696    55894       633         0   20210623          1\n",
       "558697    55894     13475         1   20210619          4\n",
       "558698    55894      9909         0   20210619          3\n",
       "558699    55894     13475         0   20210619          2\n",
       "558700    55894       697         0   20210619          1\n",
       "\n",
       "[558700 rows x 5 columns]"
      ]
     },
     "execution_count": 5,
     "metadata": {},
     "output_type": "execute_result"
    }
   ],
   "source": [
    "# 전처리 된 데이터 프레임 확인, DURATION이 rating의 역할을 함\n",
    "\n",
    "df_question"
   ]
  },
  {
   "cell_type": "markdown",
   "metadata": {},
   "source": [
    "`DURATION`의 값이 0 또는 1로 변경된 것을 확인할 수 있습니다."
   ]
  },
  {
   "cell_type": "markdown",
   "metadata": {
    "id": "C_0NVJhm7IZk"
   },
   "source": [
    "### 2.2 영화 정보 전처리\n",
    "---\n",
    "\n",
    "영화 정보 데이터에서 첫 행(열 이름 정보)을 지우고, 데이터 프레임의 열 이름을 `MOVIE_ID`, `TITLE`, `RELEASE_MONTH` 으로 지정합니다.\n",
    "\n",
    "또한, `MOVIE_ID`의 데이터 타입을 정수형(int)으로 변경합니다. "
   ]
  },
  {
   "cell_type": "code",
   "execution_count": null,
   "metadata": {
    "id": "6XNqdUNb6vPO"
   },
   "outputs": [],
   "source": [
    "# 영화 정보에 대해서도 열 이름을 정하고, 첫 행을 지우고, MOVIE_ID의 데이터 타입을 변경함\n",
    "df_movie.columns = ['MOVIE_ID', 'TITLE', 'RELEASE_MONTH']\n",
    "df_movie.drop(0, inplace=True)\n",
    "df_movie = df_movie.astype({'MOVIE_ID': 'int'})"
   ]
  },
  {
   "cell_type": "markdown",
   "metadata": {
    "id": "jovR2b2B7IZl"
   },
   "source": [
    "`drop()` 메소드를 사용하여 문제 정보와 영화 정보에서 사용하지 않을 열들을 제거합니다.\n",
    "- `axis=1`은 열을 제거한다는 의미입니다.\n",
    "- `inplace=True`는 삭제된 결과를 데이터 프레임에 재할당한다는 의미입니다."
   ]
  },
  {
   "cell_type": "code",
   "execution_count": null,
   "metadata": {
    "id": "xVLuVMep7EJS"
   },
   "outputs": [],
   "source": [
    "# 문제 정보, 영화 정보에서 필요 없는 내용들을 제외함\n",
    "df_question.drop('WATCH_DAY', axis=1, inplace=True)\n",
    "df_question.drop('WATCH_SEQ', axis=1, inplace=True)\n",
    "df_movie.drop('RELEASE_MONTH', axis=1, inplace=True)"
   ]
  },
  {
   "cell_type": "code",
   "execution_count": null,
   "metadata": {
    "colab": {
     "base_uri": "https://localhost:8080/",
     "height": 419
    },
    "id": "0Cx0-9qS7QZD",
    "outputId": "74c4e370-f9da-4686-866d-7c460409f451"
   },
   "outputs": [
    {
     "data": {
      "text/html": [
       "<div>\n",
       "<style scoped>\n",
       "    .dataframe tbody tr th:only-of-type {\n",
       "        vertical-align: middle;\n",
       "    }\n",
       "\n",
       "    .dataframe tbody tr th {\n",
       "        vertical-align: top;\n",
       "    }\n",
       "\n",
       "    .dataframe thead th {\n",
       "        text-align: right;\n",
       "    }\n",
       "</style>\n",
       "<table border=\"1\" class=\"dataframe\">\n",
       "  <thead>\n",
       "    <tr style=\"text-align: right;\">\n",
       "      <th></th>\n",
       "      <th>MOVIE_ID</th>\n",
       "      <th>TITLE</th>\n",
       "    </tr>\n",
       "  </thead>\n",
       "  <tbody>\n",
       "    <tr>\n",
       "      <th>1</th>\n",
       "      <td>0</td>\n",
       "      <td>걸어서하늘까지(1992)</td>\n",
       "    </tr>\n",
       "    <tr>\n",
       "      <th>2</th>\n",
       "      <td>1</td>\n",
       "      <td>너와극장에서</td>\n",
       "    </tr>\n",
       "    <tr>\n",
       "      <th>3</th>\n",
       "      <td>2</td>\n",
       "      <td>가려진시간[가치봄]</td>\n",
       "    </tr>\n",
       "    <tr>\n",
       "      <th>4</th>\n",
       "      <td>3</td>\n",
       "      <td>그링고</td>\n",
       "    </tr>\n",
       "    <tr>\n",
       "      <th>5</th>\n",
       "      <td>4</td>\n",
       "      <td>스위치(2010)</td>\n",
       "    </tr>\n",
       "    <tr>\n",
       "      <th>...</th>\n",
       "      <td>...</td>\n",
       "      <td>...</td>\n",
       "    </tr>\n",
       "    <tr>\n",
       "      <th>14594</th>\n",
       "      <td>14593</td>\n",
       "      <td>영웅:샐러멘더의비밀[감독판]</td>\n",
       "    </tr>\n",
       "    <tr>\n",
       "      <th>14595</th>\n",
       "      <td>14594</td>\n",
       "      <td>더로버</td>\n",
       "    </tr>\n",
       "    <tr>\n",
       "      <th>14596</th>\n",
       "      <td>14595</td>\n",
       "      <td>메디엄</td>\n",
       "    </tr>\n",
       "    <tr>\n",
       "      <th>14597</th>\n",
       "      <td>14596</td>\n",
       "      <td>그린북</td>\n",
       "    </tr>\n",
       "    <tr>\n",
       "      <th>14598</th>\n",
       "      <td>14597</td>\n",
       "      <td>얼라이브(2015)</td>\n",
       "    </tr>\n",
       "  </tbody>\n",
       "</table>\n",
       "<p>14598 rows × 2 columns</p>\n",
       "</div>"
      ],
      "text/plain": [
       "       MOVIE_ID            TITLE\n",
       "1             0    걸어서하늘까지(1992)\n",
       "2             1           너와극장에서\n",
       "3             2       가려진시간[가치봄]\n",
       "4             3              그링고\n",
       "5             4        스위치(2010)\n",
       "...         ...              ...\n",
       "14594     14593  영웅:샐러멘더의비밀[감독판]\n",
       "14595     14594              더로버\n",
       "14596     14595              메디엄\n",
       "14597     14596              그린북\n",
       "14598     14597       얼라이브(2015)\n",
       "\n",
       "[14598 rows x 2 columns]"
      ]
     },
     "execution_count": 8,
     "metadata": {},
     "output_type": "execute_result"
    }
   ],
   "source": [
    "# 전처리 된 영화 정보 확인\n",
    "df_movie"
   ]
  },
  {
   "cell_type": "markdown",
   "metadata": {},
   "source": [
    "`WATCH_DAY`, `WATCH_SEQ`, `RELEASE_MONTH` 열이 삭제되었고, `MOVIE_ID`와 `TITLE` 정보만 남은 것을 확인할 수 있습니다."
   ]
  },
  {
   "cell_type": "code",
   "execution_count": null,
   "metadata": {
    "colab": {
     "base_uri": "https://localhost:8080/",
     "height": 419
    },
    "id": "zGfrrc3o7WRM",
    "outputId": "b2921f22-104e-496f-9f5d-368f85c80aca"
   },
   "outputs": [
    {
     "data": {
      "text/html": [
       "<div>\n",
       "<style scoped>\n",
       "    .dataframe tbody tr th:only-of-type {\n",
       "        vertical-align: middle;\n",
       "    }\n",
       "\n",
       "    .dataframe tbody tr th {\n",
       "        vertical-align: top;\n",
       "    }\n",
       "\n",
       "    .dataframe thead th {\n",
       "        text-align: right;\n",
       "    }\n",
       "</style>\n",
       "<table border=\"1\" class=\"dataframe\">\n",
       "  <thead>\n",
       "    <tr style=\"text-align: right;\">\n",
       "      <th></th>\n",
       "      <th>USER_ID</th>\n",
       "      <th>MOVIE_ID</th>\n",
       "      <th>DURATION</th>\n",
       "    </tr>\n",
       "  </thead>\n",
       "  <tbody>\n",
       "    <tr>\n",
       "      <th>1</th>\n",
       "      <td>1</td>\n",
       "      <td>4660</td>\n",
       "      <td>1</td>\n",
       "    </tr>\n",
       "    <tr>\n",
       "      <th>2</th>\n",
       "      <td>1</td>\n",
       "      <td>6271</td>\n",
       "      <td>0</td>\n",
       "    </tr>\n",
       "    <tr>\n",
       "      <th>3</th>\n",
       "      <td>1</td>\n",
       "      <td>1372</td>\n",
       "      <td>1</td>\n",
       "    </tr>\n",
       "    <tr>\n",
       "      <th>4</th>\n",
       "      <td>1</td>\n",
       "      <td>14282</td>\n",
       "      <td>1</td>\n",
       "    </tr>\n",
       "    <tr>\n",
       "      <th>5</th>\n",
       "      <td>1</td>\n",
       "      <td>1455</td>\n",
       "      <td>1</td>\n",
       "    </tr>\n",
       "    <tr>\n",
       "      <th>...</th>\n",
       "      <td>...</td>\n",
       "      <td>...</td>\n",
       "      <td>...</td>\n",
       "    </tr>\n",
       "    <tr>\n",
       "      <th>558696</th>\n",
       "      <td>55894</td>\n",
       "      <td>633</td>\n",
       "      <td>0</td>\n",
       "    </tr>\n",
       "    <tr>\n",
       "      <th>558697</th>\n",
       "      <td>55894</td>\n",
       "      <td>13475</td>\n",
       "      <td>1</td>\n",
       "    </tr>\n",
       "    <tr>\n",
       "      <th>558698</th>\n",
       "      <td>55894</td>\n",
       "      <td>9909</td>\n",
       "      <td>0</td>\n",
       "    </tr>\n",
       "    <tr>\n",
       "      <th>558699</th>\n",
       "      <td>55894</td>\n",
       "      <td>13475</td>\n",
       "      <td>0</td>\n",
       "    </tr>\n",
       "    <tr>\n",
       "      <th>558700</th>\n",
       "      <td>55894</td>\n",
       "      <td>697</td>\n",
       "      <td>0</td>\n",
       "    </tr>\n",
       "  </tbody>\n",
       "</table>\n",
       "<p>558700 rows × 3 columns</p>\n",
       "</div>"
      ],
      "text/plain": [
       "        USER_ID  MOVIE_ID  DURATION\n",
       "1             1      4660         1\n",
       "2             1      6271         0\n",
       "3             1      1372         1\n",
       "4             1     14282         1\n",
       "5             1      1455         1\n",
       "...         ...       ...       ...\n",
       "558696    55894       633         0\n",
       "558697    55894     13475         1\n",
       "558698    55894      9909         0\n",
       "558699    55894     13475         0\n",
       "558700    55894       697         0\n",
       "\n",
       "[558700 rows x 3 columns]"
      ]
     },
     "execution_count": 9,
     "metadata": {},
     "output_type": "execute_result"
    }
   ],
   "source": [
    "# 전처리 된 문제 정보 확인\n",
    "df_question"
   ]
  },
  {
   "cell_type": "markdown",
   "metadata": {
    "id": "vZmkpqh57IZm"
   },
   "source": [
    "### 2.3 영화 정보와 문제 정보 결합하기\n",
    "---\n",
    "\n",
    "`merge()` 메소드를 사용하여 영화 정보와 문제 정보를 결합합니다. \n",
    "\n",
    "이때 영화 정보와 문제 정보에 공통으로 존재하는 `MOVIE_ID`를 기준 컬럼으로 사용합니다.\n",
    "\n",
    "**Tips**: `merge(df1, df2, on='column')`으로 두 데이터 프레임을 결합할 수 있습니다."
   ]
  },
  {
   "cell_type": "markdown",
   "metadata": {},
   "source": [
    "### [TODO] `MOVIE_ID`를 기준으로 영화 정보와 문제 정보를 합친 `user_movie_data`를 생성하는 코드를 작성하세요."
   ]
  },
  {
   "cell_type": "code",
   "execution_count": null,
   "metadata": {
    "colab": {
     "base_uri": "https://localhost:8080/",
     "height": 419
    },
    "id": "f0NEJYd07ar2",
    "outputId": "64bbc174-b1c3-4a9b-d514-b7f708ab4d35"
   },
   "outputs": [
    {
     "data": {
      "text/html": [
       "<div>\n",
       "<style scoped>\n",
       "    .dataframe tbody tr th:only-of-type {\n",
       "        vertical-align: middle;\n",
       "    }\n",
       "\n",
       "    .dataframe tbody tr th {\n",
       "        vertical-align: top;\n",
       "    }\n",
       "\n",
       "    .dataframe thead th {\n",
       "        text-align: right;\n",
       "    }\n",
       "</style>\n",
       "<table border=\"1\" class=\"dataframe\">\n",
       "  <thead>\n",
       "    <tr style=\"text-align: right;\">\n",
       "      <th></th>\n",
       "      <th>USER_ID</th>\n",
       "      <th>MOVIE_ID</th>\n",
       "      <th>DURATION</th>\n",
       "      <th>TITLE</th>\n",
       "    </tr>\n",
       "  </thead>\n",
       "  <tbody>\n",
       "    <tr>\n",
       "      <th>0</th>\n",
       "      <td>1</td>\n",
       "      <td>4660</td>\n",
       "      <td>1</td>\n",
       "      <td>원더풀라이프(1998)</td>\n",
       "    </tr>\n",
       "    <tr>\n",
       "      <th>1</th>\n",
       "      <td>647</td>\n",
       "      <td>4660</td>\n",
       "      <td>0</td>\n",
       "      <td>원더풀라이프(1998)</td>\n",
       "    </tr>\n",
       "    <tr>\n",
       "      <th>2</th>\n",
       "      <td>38017</td>\n",
       "      <td>4660</td>\n",
       "      <td>0</td>\n",
       "      <td>원더풀라이프(1998)</td>\n",
       "    </tr>\n",
       "    <tr>\n",
       "      <th>3</th>\n",
       "      <td>16671</td>\n",
       "      <td>4660</td>\n",
       "      <td>1</td>\n",
       "      <td>원더풀라이프(1998)</td>\n",
       "    </tr>\n",
       "    <tr>\n",
       "      <th>4</th>\n",
       "      <td>31970</td>\n",
       "      <td>4660</td>\n",
       "      <td>0</td>\n",
       "      <td>원더풀라이프(1998)</td>\n",
       "    </tr>\n",
       "    <tr>\n",
       "      <th>...</th>\n",
       "      <td>...</td>\n",
       "      <td>...</td>\n",
       "      <td>...</td>\n",
       "      <td>...</td>\n",
       "    </tr>\n",
       "    <tr>\n",
       "      <th>558695</th>\n",
       "      <td>55137</td>\n",
       "      <td>14102</td>\n",
       "      <td>0</td>\n",
       "      <td>더캐스팅</td>\n",
       "    </tr>\n",
       "    <tr>\n",
       "      <th>558696</th>\n",
       "      <td>55508</td>\n",
       "      <td>4908</td>\n",
       "      <td>1</td>\n",
       "      <td>부다페스트로큰롤</td>\n",
       "    </tr>\n",
       "    <tr>\n",
       "      <th>558697</th>\n",
       "      <td>55508</td>\n",
       "      <td>4908</td>\n",
       "      <td>0</td>\n",
       "      <td>부다페스트로큰롤</td>\n",
       "    </tr>\n",
       "    <tr>\n",
       "      <th>558698</th>\n",
       "      <td>55743</td>\n",
       "      <td>6120</td>\n",
       "      <td>0</td>\n",
       "      <td>헌티드(2018)</td>\n",
       "    </tr>\n",
       "    <tr>\n",
       "      <th>558699</th>\n",
       "      <td>55870</td>\n",
       "      <td>9059</td>\n",
       "      <td>0</td>\n",
       "      <td>그여름가장조용한바다</td>\n",
       "    </tr>\n",
       "  </tbody>\n",
       "</table>\n",
       "<p>558700 rows × 4 columns</p>\n",
       "</div>"
      ],
      "text/plain": [
       "        USER_ID  MOVIE_ID  DURATION         TITLE\n",
       "0             1      4660         1  원더풀라이프(1998)\n",
       "1           647      4660         0  원더풀라이프(1998)\n",
       "2         38017      4660         0  원더풀라이프(1998)\n",
       "3         16671      4660         1  원더풀라이프(1998)\n",
       "4         31970      4660         0  원더풀라이프(1998)\n",
       "...         ...       ...       ...           ...\n",
       "558695    55137     14102         0          더캐스팅\n",
       "558696    55508      4908         1      부다페스트로큰롤\n",
       "558697    55508      4908         0      부다페스트로큰롤\n",
       "558698    55743      6120         0     헌티드(2018)\n",
       "558699    55870      9059         0    그여름가장조용한바다\n",
       "\n",
       "[558700 rows x 4 columns]"
      ]
     },
     "execution_count": 10,
     "metadata": {},
     "output_type": "execute_result"
    }
   ],
   "source": [
    "# MOVIE_ID를 기준으로 영화 정보, 문제 정보를 합함\n",
    "user_movie_data = pd.merge(df_question, df_movie, on = 'MOVIE_ID')\n",
    "user_movie_data"
   ]
  },
  {
   "cell_type": "markdown",
   "metadata": {},
   "source": [
    "새로운 테이블에는 `USER_ID`, `MOVIE_ID`, `DURATION`, `TITLE`에 대한 정보가 있습니다."
   ]
  },
  {
   "cell_type": "markdown",
   "metadata": {
    "id": "evxOQL3S6mtu"
   },
   "source": [
    "### 2.4 rating(`DURATION`) 기준으로 user-movie matrix 생성\n",
    "---\n",
    "\n",
    "Rating(`DURATION`)을 기준으로 하여 원하는 user-item matrix를 생성합니다."
   ]
  },
  {
   "cell_type": "code",
   "execution_count": null,
   "metadata": {},
   "outputs": [],
   "source": [
    "# 필요한 라이브러리 불러오기\n",
    "import numpy as np\n",
    "from tqdm import tqdm\n",
    "\n",
    "# 결합한 user_movie_data를 이용하여 user_movie_rating 행렬을 데이터 프레임 형태로 생성\n",
    "# columns는 영화의 'TITLE', index는 'USER_ID'로 설정. 이때 unique 메소드로 중복값 처리\n",
    "user_movie_rating = pd.DataFrame(0, columns=user_movie_data[\"TITLE\"].unique(), index=user_movie_data[\"USER_ID\"].unique())"
   ]
  },
  {
   "cell_type": "markdown",
   "metadata": {},
   "source": [
    "### [TODO] `user_movie_rating` 행렬을 만드는 for문을 완성하세요.\n",
    "- `user_movie_data`에서 i번째 줄의 `USER_ID`를 가져오는 코드를 작성하세요.\n",
    "- `user_movie_data`에서 i번째 줄의 `TITLE`을 가져오는 코드를 작성하세요.\n",
    "- `user_movie_data`에서 i번째 줄의 `DURATION`을 가져오는 코드를 작성하세요.\n",
    "\n",
    "**Tips**: `iloc`을 사용하여 i번째 줄의 데이터를 가져올 수 있습니다."
   ]
  },
  {
   "cell_type": "code",
   "execution_count": null,
   "metadata": {
    "id": "gl4qLy7P7IZn",
    "outputId": "e01728be-7775-4e2f-c36f-55739a3ccd8d"
   },
   "outputs": [
    {
     "name": "stderr",
     "output_type": "stream",
     "text": [
      "100%|██████████| 558700/558700 [05:21<00:00, 1735.61it/s]\n"
     ]
    }
   ],
   "source": [
    "for i in tqdm(range(user_movie_data.shape[0])):\n",
    "    # i번째 줄의 USER_ID 가져오기\n",
    "    cur_user_id = user_movie_data.iloc[i][\"USER_ID\"]\n",
    "    # i번째 줄의 TITLE 가져오기\n",
    "    cur_movie_title = user_movie_data.iloc[i][\"TITLE\"]\n",
    "    \n",
    "    # i번째 줄의 DURATION 가져와서 user_movie_rating 행렬에 저장하기\n",
    "    user_movie_rating.loc[cur_user_id, cur_movie_title] = user_movie_data.iloc[i][\"DURATION\"]\n",
    "\n",
    "# user_movie_rating의 index를 USER_ID 기준으로 정렬\n",
    "user_movie_rating.sort_index(axis=0, inplace=True)"
   ]
  },
  {
   "cell_type": "markdown",
   "metadata": {},
   "source": [
    "**Note**: `tqdm`은 반복 작업에서 진행상황을 bar 형태로 보여주는 메소드입니다."
   ]
  },
  {
   "cell_type": "markdown",
   "metadata": {
    "id": "ZROVisQT7IZo"
   },
   "source": [
    "`user_movie_rating` 이름으로 생성된 user-item matrix를 살펴봅니다.\n",
    "행에는 `USER_ID`가 표시되며 열에는 `영화 이름`이 표시됩니다."
   ]
  },
  {
   "cell_type": "code",
   "execution_count": null,
   "metadata": {
    "colab": {
     "base_uri": "https://localhost:8080/",
     "height": 725
    },
    "id": "Zv8_pz4A7s0F",
    "outputId": "1bb651a2-9e41-471a-a955-927e9a216fb3"
   },
   "outputs": [
    {
     "data": {
      "text/html": [
       "<div>\n",
       "<style scoped>\n",
       "    .dataframe tbody tr th:only-of-type {\n",
       "        vertical-align: middle;\n",
       "    }\n",
       "\n",
       "    .dataframe tbody tr th {\n",
       "        vertical-align: top;\n",
       "    }\n",
       "\n",
       "    .dataframe thead th {\n",
       "        text-align: right;\n",
       "    }\n",
       "</style>\n",
       "<table border=\"1\" class=\"dataframe\">\n",
       "  <thead>\n",
       "    <tr style=\"text-align: right;\">\n",
       "      <th></th>\n",
       "      <th>원더풀라이프(1998)</th>\n",
       "      <th>레컨</th>\n",
       "      <th>프리즌브레이커스</th>\n",
       "      <th>삼진그룹영어토익반</th>\n",
       "      <th>몬스터호텔3</th>\n",
       "      <th>런</th>\n",
       "      <th>나이브스아웃</th>\n",
       "      <th>어디갔어,버나뎃</th>\n",
       "      <th>테넷</th>\n",
       "      <th>주먹왕랄프2:인터넷속으로</th>\n",
       "      <th>...</th>\n",
       "      <th>초능력자제레미</th>\n",
       "      <th>나의엔젤</th>\n",
       "      <th>[OCEAN공개]황무지5월의고해</th>\n",
       "      <th>골든슬럼버[가치봄]</th>\n",
       "      <th>어라이벌</th>\n",
       "      <th>개인교수2012(2008)</th>\n",
       "      <th>더캐스팅</th>\n",
       "      <th>부다페스트로큰롤</th>\n",
       "      <th>헌티드(2018)</th>\n",
       "      <th>그여름가장조용한바다</th>\n",
       "    </tr>\n",
       "  </thead>\n",
       "  <tbody>\n",
       "    <tr>\n",
       "      <th>0</th>\n",
       "      <td>0</td>\n",
       "      <td>0</td>\n",
       "      <td>0</td>\n",
       "      <td>0</td>\n",
       "      <td>0</td>\n",
       "      <td>0</td>\n",
       "      <td>0</td>\n",
       "      <td>0</td>\n",
       "      <td>0</td>\n",
       "      <td>0</td>\n",
       "      <td>...</td>\n",
       "      <td>0</td>\n",
       "      <td>0</td>\n",
       "      <td>0</td>\n",
       "      <td>0</td>\n",
       "      <td>0</td>\n",
       "      <td>0</td>\n",
       "      <td>0</td>\n",
       "      <td>0</td>\n",
       "      <td>0</td>\n",
       "      <td>0</td>\n",
       "    </tr>\n",
       "    <tr>\n",
       "      <th>1</th>\n",
       "      <td>1</td>\n",
       "      <td>0</td>\n",
       "      <td>1</td>\n",
       "      <td>1</td>\n",
       "      <td>1</td>\n",
       "      <td>1</td>\n",
       "      <td>1</td>\n",
       "      <td>0</td>\n",
       "      <td>1</td>\n",
       "      <td>1</td>\n",
       "      <td>...</td>\n",
       "      <td>0</td>\n",
       "      <td>0</td>\n",
       "      <td>0</td>\n",
       "      <td>0</td>\n",
       "      <td>0</td>\n",
       "      <td>0</td>\n",
       "      <td>0</td>\n",
       "      <td>0</td>\n",
       "      <td>0</td>\n",
       "      <td>0</td>\n",
       "    </tr>\n",
       "    <tr>\n",
       "      <th>2</th>\n",
       "      <td>0</td>\n",
       "      <td>0</td>\n",
       "      <td>0</td>\n",
       "      <td>0</td>\n",
       "      <td>0</td>\n",
       "      <td>0</td>\n",
       "      <td>0</td>\n",
       "      <td>0</td>\n",
       "      <td>0</td>\n",
       "      <td>0</td>\n",
       "      <td>...</td>\n",
       "      <td>0</td>\n",
       "      <td>0</td>\n",
       "      <td>0</td>\n",
       "      <td>0</td>\n",
       "      <td>0</td>\n",
       "      <td>0</td>\n",
       "      <td>0</td>\n",
       "      <td>0</td>\n",
       "      <td>0</td>\n",
       "      <td>0</td>\n",
       "    </tr>\n",
       "    <tr>\n",
       "      <th>3</th>\n",
       "      <td>0</td>\n",
       "      <td>0</td>\n",
       "      <td>0</td>\n",
       "      <td>0</td>\n",
       "      <td>0</td>\n",
       "      <td>0</td>\n",
       "      <td>0</td>\n",
       "      <td>0</td>\n",
       "      <td>0</td>\n",
       "      <td>0</td>\n",
       "      <td>...</td>\n",
       "      <td>0</td>\n",
       "      <td>0</td>\n",
       "      <td>0</td>\n",
       "      <td>0</td>\n",
       "      <td>0</td>\n",
       "      <td>0</td>\n",
       "      <td>0</td>\n",
       "      <td>0</td>\n",
       "      <td>0</td>\n",
       "      <td>0</td>\n",
       "    </tr>\n",
       "    <tr>\n",
       "      <th>4</th>\n",
       "      <td>0</td>\n",
       "      <td>0</td>\n",
       "      <td>0</td>\n",
       "      <td>0</td>\n",
       "      <td>1</td>\n",
       "      <td>0</td>\n",
       "      <td>0</td>\n",
       "      <td>0</td>\n",
       "      <td>0</td>\n",
       "      <td>0</td>\n",
       "      <td>...</td>\n",
       "      <td>0</td>\n",
       "      <td>0</td>\n",
       "      <td>0</td>\n",
       "      <td>0</td>\n",
       "      <td>0</td>\n",
       "      <td>0</td>\n",
       "      <td>0</td>\n",
       "      <td>0</td>\n",
       "      <td>0</td>\n",
       "      <td>0</td>\n",
       "    </tr>\n",
       "    <tr>\n",
       "      <th>...</th>\n",
       "      <td>...</td>\n",
       "      <td>...</td>\n",
       "      <td>...</td>\n",
       "      <td>...</td>\n",
       "      <td>...</td>\n",
       "      <td>...</td>\n",
       "      <td>...</td>\n",
       "      <td>...</td>\n",
       "      <td>...</td>\n",
       "      <td>...</td>\n",
       "      <td>...</td>\n",
       "      <td>...</td>\n",
       "      <td>...</td>\n",
       "      <td>...</td>\n",
       "      <td>...</td>\n",
       "      <td>...</td>\n",
       "      <td>...</td>\n",
       "      <td>...</td>\n",
       "      <td>...</td>\n",
       "      <td>...</td>\n",
       "      <td>...</td>\n",
       "    </tr>\n",
       "    <tr>\n",
       "      <th>55895</th>\n",
       "      <td>0</td>\n",
       "      <td>0</td>\n",
       "      <td>0</td>\n",
       "      <td>0</td>\n",
       "      <td>0</td>\n",
       "      <td>0</td>\n",
       "      <td>0</td>\n",
       "      <td>0</td>\n",
       "      <td>0</td>\n",
       "      <td>0</td>\n",
       "      <td>...</td>\n",
       "      <td>0</td>\n",
       "      <td>0</td>\n",
       "      <td>0</td>\n",
       "      <td>0</td>\n",
       "      <td>0</td>\n",
       "      <td>0</td>\n",
       "      <td>0</td>\n",
       "      <td>0</td>\n",
       "      <td>0</td>\n",
       "      <td>0</td>\n",
       "    </tr>\n",
       "    <tr>\n",
       "      <th>55896</th>\n",
       "      <td>0</td>\n",
       "      <td>0</td>\n",
       "      <td>0</td>\n",
       "      <td>0</td>\n",
       "      <td>0</td>\n",
       "      <td>0</td>\n",
       "      <td>0</td>\n",
       "      <td>0</td>\n",
       "      <td>0</td>\n",
       "      <td>0</td>\n",
       "      <td>...</td>\n",
       "      <td>0</td>\n",
       "      <td>0</td>\n",
       "      <td>0</td>\n",
       "      <td>0</td>\n",
       "      <td>0</td>\n",
       "      <td>0</td>\n",
       "      <td>0</td>\n",
       "      <td>0</td>\n",
       "      <td>0</td>\n",
       "      <td>0</td>\n",
       "    </tr>\n",
       "    <tr>\n",
       "      <th>55897</th>\n",
       "      <td>0</td>\n",
       "      <td>0</td>\n",
       "      <td>0</td>\n",
       "      <td>0</td>\n",
       "      <td>0</td>\n",
       "      <td>0</td>\n",
       "      <td>0</td>\n",
       "      <td>0</td>\n",
       "      <td>0</td>\n",
       "      <td>0</td>\n",
       "      <td>...</td>\n",
       "      <td>0</td>\n",
       "      <td>0</td>\n",
       "      <td>0</td>\n",
       "      <td>0</td>\n",
       "      <td>0</td>\n",
       "      <td>0</td>\n",
       "      <td>0</td>\n",
       "      <td>0</td>\n",
       "      <td>0</td>\n",
       "      <td>0</td>\n",
       "    </tr>\n",
       "    <tr>\n",
       "      <th>55898</th>\n",
       "      <td>0</td>\n",
       "      <td>0</td>\n",
       "      <td>0</td>\n",
       "      <td>0</td>\n",
       "      <td>0</td>\n",
       "      <td>0</td>\n",
       "      <td>0</td>\n",
       "      <td>0</td>\n",
       "      <td>0</td>\n",
       "      <td>0</td>\n",
       "      <td>...</td>\n",
       "      <td>0</td>\n",
       "      <td>0</td>\n",
       "      <td>0</td>\n",
       "      <td>0</td>\n",
       "      <td>0</td>\n",
       "      <td>0</td>\n",
       "      <td>0</td>\n",
       "      <td>0</td>\n",
       "      <td>0</td>\n",
       "      <td>0</td>\n",
       "    </tr>\n",
       "    <tr>\n",
       "      <th>55899</th>\n",
       "      <td>0</td>\n",
       "      <td>0</td>\n",
       "      <td>0</td>\n",
       "      <td>0</td>\n",
       "      <td>0</td>\n",
       "      <td>0</td>\n",
       "      <td>0</td>\n",
       "      <td>0</td>\n",
       "      <td>0</td>\n",
       "      <td>0</td>\n",
       "      <td>...</td>\n",
       "      <td>0</td>\n",
       "      <td>0</td>\n",
       "      <td>0</td>\n",
       "      <td>0</td>\n",
       "      <td>0</td>\n",
       "      <td>0</td>\n",
       "      <td>0</td>\n",
       "      <td>0</td>\n",
       "      <td>0</td>\n",
       "      <td>0</td>\n",
       "    </tr>\n",
       "  </tbody>\n",
       "</table>\n",
       "<p>55870 rows × 9218 columns</p>\n",
       "</div>"
      ],
      "text/plain": [
       "       원더풀라이프(1998)  레컨  프리즌브레이커스  삼진그룹영어토익반  몬스터호텔3  런  나이브스아웃  어디갔어,버나뎃  테넷  \\\n",
       "0                 0   0         0          0       0  0       0         0   0   \n",
       "1                 1   0         1          1       1  1       1         0   1   \n",
       "2                 0   0         0          0       0  0       0         0   0   \n",
       "3                 0   0         0          0       0  0       0         0   0   \n",
       "4                 0   0         0          0       1  0       0         0   0   \n",
       "...             ...  ..       ...        ...     ... ..     ...       ...  ..   \n",
       "55895             0   0         0          0       0  0       0         0   0   \n",
       "55896             0   0         0          0       0  0       0         0   0   \n",
       "55897             0   0         0          0       0  0       0         0   0   \n",
       "55898             0   0         0          0       0  0       0         0   0   \n",
       "55899             0   0         0          0       0  0       0         0   0   \n",
       "\n",
       "       주먹왕랄프2:인터넷속으로  ...  초능력자제레미  나의엔젤  [OCEAN공개]황무지5월의고해  골든슬럼버[가치봄]  어라이벌  \\\n",
       "0                  0  ...        0     0                  0           0     0   \n",
       "1                  1  ...        0     0                  0           0     0   \n",
       "2                  0  ...        0     0                  0           0     0   \n",
       "3                  0  ...        0     0                  0           0     0   \n",
       "4                  0  ...        0     0                  0           0     0   \n",
       "...              ...  ...      ...   ...                ...         ...   ...   \n",
       "55895              0  ...        0     0                  0           0     0   \n",
       "55896              0  ...        0     0                  0           0     0   \n",
       "55897              0  ...        0     0                  0           0     0   \n",
       "55898              0  ...        0     0                  0           0     0   \n",
       "55899              0  ...        0     0                  0           0     0   \n",
       "\n",
       "       개인교수2012(2008)  더캐스팅  부다페스트로큰롤  헌티드(2018)  그여름가장조용한바다  \n",
       "0                   0     0         0          0           0  \n",
       "1                   0     0         0          0           0  \n",
       "2                   0     0         0          0           0  \n",
       "3                   0     0         0          0           0  \n",
       "4                   0     0         0          0           0  \n",
       "...               ...   ...       ...        ...         ...  \n",
       "55895               0     0         0          0           0  \n",
       "55896               0     0         0          0           0  \n",
       "55897               0     0         0          0           0  \n",
       "55898               0     0         0          0           0  \n",
       "55899               0     0         0          0           0  \n",
       "\n",
       "[55870 rows x 9218 columns]"
      ]
     },
     "execution_count": 14,
     "metadata": {},
     "output_type": "execute_result"
    }
   ],
   "source": [
    "# user_movie_rating 행렬 확인 \n",
    "user_movie_rating"
   ]
  },
  {
   "cell_type": "markdown",
   "metadata": {
    "id": "L-wO8y8J6ye0"
   },
   "source": [
    "### 2.5 SVD를 위한 준비\n",
    "---\n",
    "\n",
    "SVD를 구하기 위하여 `user_movie_rating` matrix를 transpose 하고 `movie_user_rating` matrix에 저장합니다."
   ]
  },
  {
   "cell_type": "code",
   "execution_count": null,
   "metadata": {
    "colab": {
     "base_uri": "https://localhost:8080/"
    },
    "id": "ugVEIhad7ynr",
    "outputId": "1fa15449-f07a-4577-9045-14128cd32ff4"
   },
   "outputs": [
    {
     "data": {
      "text/plain": [
       "(9218, 55870)"
      ]
     },
     "execution_count": 15,
     "metadata": {},
     "output_type": "execute_result"
    }
   ],
   "source": [
    "# user_movie_rating을 transpose하여 movie_user_rating 행렬로 변경\n",
    "movie_user_rating = user_movie_rating.T\n",
    "\n",
    "# 생성된 movie_user_rating 행렬 shape 확인\n",
    "movie_user_rating.shape"
   ]
  },
  {
   "cell_type": "code",
   "execution_count": null,
   "metadata": {
    "id": "F6hIudfZ737G"
   },
   "outputs": [],
   "source": [
    "# 필요한 패키지들 로드\n",
    "\n",
    "from sklearn.decomposition import TruncatedSVD\n",
    "from scipy.sparse.linalg import svds\n",
    "import numpy as np\n",
    "import matplotlib.pyplot as plt\n",
    "import seaborn as sns"
   ]
  },
  {
   "cell_type": "markdown",
   "metadata": {
    "id": "OL_CNb1B7IZp"
   },
   "source": [
    "SVD 연산을 위하여 `movie_user_rating` matrix를 `numpy` 형태의 행렬로 변경합니다."
   ]
  },
  {
   "cell_type": "code",
   "execution_count": null,
   "metadata": {
    "colab": {
     "base_uri": "https://localhost:8080/"
    },
    "id": "fE6Ut3lI8SkG",
    "outputId": "42baf199-3a0a-4255-c198-7f75306c4080"
   },
   "outputs": [
    {
     "data": {
      "text/plain": [
       "numpy.ndarray"
      ]
     },
     "execution_count": 17,
     "metadata": {},
     "output_type": "execute_result"
    }
   ],
   "source": [
    "# movie_user_rating 행렬을 numpy 형태 행렬로 변경하고 확인\n",
    "movie_user_rating = movie_user_rating.to_numpy()\n",
    "type(movie_user_rating)"
   ]
  },
  {
   "cell_type": "markdown",
   "metadata": {
    "id": "MzcQcnlu67wU"
   },
   "source": [
    "### 2.6 상위 15개를 이용하여 Truncated SVD 하기\n",
    "---\n",
    "\n",
    "`user-item matrix`로부터 얻은 `Full SVD`를 그대로 사용하지 않고 주요한 상위 15개 요소만을 취한 `Truncated SVD`를 구합니다."
   ]
  },
  {
   "cell_type": "markdown",
   "metadata": {},
   "source": [
    "### [TODO] Truncated SVD를 수행하는 코드를 작성하세요.\n",
    "- Truncated SVD를 수행하는 클래스의 객체를 생성하세요.\n",
    "- 사용하는 components의 개수는 15개입니다.\n",
    "- `movie_user_rating`에 Truncated SVD를 적용한 행렬을 만드는 코드를 작성하세요.\n",
    "\n",
    "**Tips**: `TruncatedSVD(n_components=n)` 메소드를 사용하여 n개의 요소만을 취한 Truncated SVD를 구할 수 있습니다."
   ]
  },
  {
   "cell_type": "code",
   "execution_count": null,
   "metadata": {
    "colab": {
     "base_uri": "https://localhost:8080/"
    },
    "id": "XcCwBDFl8cqd",
    "outputId": "e0ec6349-766c-4f90-d0ea-951ebbd2d3b9"
   },
   "outputs": [],
   "source": [
    "# 상위 15개를 이용한 Truncated SVD를 사용하여 movie_user_rating 행렬을 분해하고 행렬 shape 확인\n",
    "SVD = TruncatedSVD(n_components=15)\n",
    "matrix = SVD.fit_transform(movie_user_rating)\n",
    "matrix.shape"
   ]
  },
  {
   "cell_type": "code",
   "execution_count": null,
   "metadata": {
    "colab": {
     "base_uri": "https://localhost:8080/"
    },
    "id": "qZa2S99-8wdx",
    "outputId": "65e04ee4-c674-4e31-cfcf-502270d37e90"
   },
   "outputs": [
    {
     "name": "stderr",
     "output_type": "stream",
     "text": [
      "/opt/conda/lib/python3.8/site-packages/numpy/lib/function_base.py:2559: RuntimeWarning: invalid value encountered in true_divide\n",
      "  c /= stddev[:, None]\n",
      "/opt/conda/lib/python3.8/site-packages/numpy/lib/function_base.py:2560: RuntimeWarning: invalid value encountered in true_divide\n",
      "  c /= stddev[None, :]\n"
     ]
    },
    {
     "data": {
      "text/plain": [
       "(9218, 9218)"
      ]
     },
     "execution_count": 19,
     "metadata": {},
     "output_type": "execute_result"
    }
   ],
   "source": [
    "# 행렬의 coefficent를 가지고 correlation을 구함\n",
    "corr = np.corrcoef(matrix)\n",
    "corr.shape"
   ]
  },
  {
   "cell_type": "markdown",
   "metadata": {
    "id": "LAuup-A87CSw"
   },
   "source": [
    "## 3. 데이터 상관관계 확인하기\n",
    "---\n",
    "Correlation 기반의 heatmap을 살펴봅니다. "
   ]
  },
  {
   "cell_type": "markdown",
   "metadata": {
    "id": "s38I2Jtp7IZr"
   },
   "source": [
    "20개의 Correlation으로 heatmap을 그립니다. \n",
    "\n",
    "Heatmap의 전체 사이즈를 16x10으로 합니다. \n",
    "Heatmap의 밝은 부분이 가장 correlation이 높기 때문에 대각선에 위치한 블록들이 가장 밝은 값을 가집니다."
   ]
  },
  {
   "cell_type": "code",
   "execution_count": null,
   "metadata": {
    "colab": {
     "base_uri": "https://localhost:8080/",
     "height": 613
    },
    "id": "UOAyDrvL88TM",
    "outputId": "3320e11e-5ab5-406f-a160-9ac152c5c374"
   },
   "outputs": [
    {
     "data": {
      "text/plain": [
       "<AxesSubplot:>"
      ]
     },
     "execution_count": 20,
     "metadata": {},
     "output_type": "execute_result"
    },
    {
     "data": {
      "image/png": "[encoded data removed]",
      "text/plain": [
       "<Figure size 1152x720 with 2 Axes>"
      ]
     },
     "metadata": {
      "needs_background": "light"
     },
     "output_type": "display_data"
    }
   ],
   "source": [
    "# correlation에서 20개만으로 heatmap을 그림\n",
    "corr2 = corr[:20, :20]\n",
    "plt.figure(figsize=(16, 10))\n",
    "sns.heatmap(corr2)"
   ]
  },
  {
   "cell_type": "markdown",
   "metadata": {
    "id": "H9YXMgkU7IZr"
   },
   "source": [
    "200개의 Correlation으로 heatmap을 그립니다. \n",
    "\n",
    "Heatmap의 전체 사이즈를 16x10으로 합니다. 마찬가지로 Heatmap의 밝은 부분이 가장 correlation이 높기 때문에 대각선에 위치한 블록들이 가장 밝은 값을 가집니다."
   ]
  },
  {
   "cell_type": "code",
   "execution_count": null,
   "metadata": {
    "colab": {
     "base_uri": "https://localhost:8080/",
     "height": 623
    },
    "id": "8HWrspfR9JPV",
    "outputId": "10a72d50-09de-400c-b0a7-96aca9887a64",
    "scrolled": true
   },
   "outputs": [
    {
     "data": {
      "text/plain": [
       "<AxesSubplot:>"
      ]
     },
     "execution_count": 21,
     "metadata": {},
     "output_type": "execute_result"
    },
    {
     "data": {
      "image/png": "[encoded data removed]",
      "text/plain": [
       "<Figure size 1152x720 with 2 Axes>"
      ]
     },
     "metadata": {
      "needs_background": "light"
     },
     "output_type": "display_data"
    }
   ],
   "source": [
    "# correlation에서 200개로 heatmap을 그림\n",
    "corr2 = corr[:200, :200]\n",
    "plt.figure(figsize=(16, 10))\n",
    "sns.heatmap(corr2)"
   ]
  },
  {
   "cell_type": "markdown",
   "metadata": {},
   "source": [
    "대각선에 위치한 블록들 외에 밝은 값을 가진 블록들은 상관관계가 높은 영화들을 나타냅니다."
   ]
  },
  {
   "cell_type": "markdown",
   "metadata": {
    "id": "Oa_RWI4B7IZs"
   },
   "source": [
    "다음으로 Query로 사용할 영화를 선택합니다. 아래 예제에서는 `히든피겨스`를 사용하였습니다."
   ]
  },
  {
   "cell_type": "code",
   "execution_count": null,
   "metadata": {
    "id": "ihs5FJJy9Ms6"
   },
   "outputs": [],
   "source": [
    "# 영화 제목을 넣어서 그 영화의 coefficient를 계산 \n",
    "movie_title = user_movie_rating.columns # 영화 제목 주출\n",
    "movie_title_list = list(movie_title) # 영화 제목 리스트 생성\n",
    "coffey_hands = movie_title_list.index('히든피겨스') # Query 영화 선택"
   ]
  },
  {
   "cell_type": "markdown",
   "metadata": {
    "id": "27ZyxjiC7IZs"
   },
   "source": [
    "Query로 사용할 영화의 `coefficient`를 계산하고 가장 비슷한 영화를 50개 골라냅니다. (0.85이상의 비슷한 영화) "
   ]
  },
  {
   "cell_type": "code",
   "execution_count": 22,
   "metadata": {
    "colab": {
     "base_uri": "https://localhost:8080/"
    },
    "id": "bZ_SzjKf9pmM",
    "outputId": "a50367f2-009b-4eb4-80be-0b33cc2daeae"
   },
   "outputs": [
    {
     "data": {
      "text/plain": [
       "['나이브스아웃',\n",
       " '담보',\n",
       " '데몰리션',\n",
       " '북스마트',\n",
       " '타이타닉(1998)',\n",
       " '이웃사촌',\n",
       " '밀정',\n",
       " '조작된도시',\n",
       " '히든피겨스',\n",
       " '애프터(2019)',\n",
       " '컨테이젼',\n",
       " '반지의제왕:반지원정대',\n",
       " '반지의제왕2:두개의탑',\n",
       " '체르노빌(2018)',\n",
       " '자산어보',\n",
       " '반지의제왕3:왕의귀환',\n",
       " '나우유씨미2',\n",
       " '조선명탐정:흡혈괴마의비밀',\n",
       " '내일의기억(2021)',\n",
       " '나의소녀시대',\n",
       " '보헤미안랩소디',\n",
       " '나는내일,어제의너와만난다',\n",
       " '부라더',\n",
       " '원더우먼',\n",
       " '안시성',\n",
       " '군함도[감독판]',\n",
       " '컨저링',\n",
       " '콜오브와일드',\n",
       " '어느가족',\n",
       " '신과함께:죄와벌',\n",
       " '가려진시간',\n",
       " '오!문희',\n",
       " '쟈니잉글리쉬2:네버다이',\n",
       " '그린북',\n",
       " '코마',\n",
       " '청년경찰',\n",
       " '그래도좋아해',\n",
       " '힘을내요,미스터리',\n",
       " '2012',\n",
       " '원더풀고스트',\n",
       " '해피해피와이너리',\n",
       " '스윙키즈',\n",
       " '지오스톰',\n",
       " '아이캔스피크',\n",
       " '나는왕이로소이다',\n",
       " '분노의질주',\n",
       " '적벽대전1부:거대한전쟁의시작',\n",
       " '터널(2016)',\n",
       " '플라이트플랜',\n",
       " '거북이달린다(2009)']"
      ]
     },
     "execution_count": 22,
     "metadata": {},
     "output_type": "execute_result"
    }
   ],
   "source": [
    "# 계산된 coefficient 값을 기반으로 가장 비슷한 영화를 골라냄 (item-based cf or content-based filtering)\n",
    "corr_coffey_hands  = corr[coffey_hands]\n",
    "list(movie_title[(corr_coffey_hands >= 0.85)])[:50] #5 0개 영화 추출"
   ]
  },
  {
   "cell_type": "markdown",
   "metadata": {},
   "source": [
    "추천 성능의 향상을 위하여 `coefficient`가 0.9 이상의 비슷한 영화 50개를 골라냅니다."
   ]
  },
  {
   "cell_type": "code",
   "execution_count": 23,
   "metadata": {
    "colab": {
     "base_uri": "https://localhost:8080/"
    },
    "id": "bZ_SzjKf9pmM",
    "outputId": "a50367f2-009b-4eb4-80be-0b33cc2daeae"
   },
   "outputs": [
    {
     "data": {
      "text/plain": [
       "['담보',\n",
       " '히든피겨스',\n",
       " '애프터(2019)',\n",
       " '안시성',\n",
       " '군함도[감독판]',\n",
       " '콜오브와일드',\n",
       " '그린북',\n",
       " '2012',\n",
       " '아이캔스피크',\n",
       " '거북이달린다(2009)',\n",
       " '매트릭스3:레볼루션',\n",
       " '폭력탈옥']"
      ]
     },
     "execution_count": 23,
     "metadata": {},
     "output_type": "execute_result"
    }
   ],
   "source": [
    "# 계산된 coefficient 값을 기반으로 가장 비슷한 영화를 골라냄 (item-based cf or content-based filtering)\n",
    "corr_coffey_hands  = corr[coffey_hands]\n",
    "list(movie_title[(corr_coffey_hands >= 0.9)])[:50] # 50개 영화 추출"
   ]
  },
  {
   "cell_type": "markdown",
   "metadata": {},
   "source": [
    "**Note**: `coefficient`가 0.9 이상인 영화의 개수가 50개 미만이기 때문에 이 조건에 해당하는 모든 영화가 출력됩니다."
   ]
  },
  {
   "cell_type": "markdown",
   "metadata": {},
   "source": [
    "---"
   ]
  }
 ],
 "metadata": {
  "colab": {
   "collapsed_sections": [],
   "name": "[프로젝트3] 데이터 전처리 및 상관관계 확인하기.ipynb",
   "provenance": []
  },
  "kernelspec": {
   "display_name": "Python 3",
   "language": "python",
   "name": "python3"
  },
  "language_info": {
   "codemirror_mode": {
    "name": "ipython",
    "version": 3
   },
   "file_extension": ".py",
   "mimetype": "text/x-python",
   "name": "python",
   "nbconvert_exporter": "python",
   "pygments_lexer": "ipython3",
   "version": "3.8.6"
  }
 },
 "nbformat": 4,
 "nbformat_minor": 4
}
