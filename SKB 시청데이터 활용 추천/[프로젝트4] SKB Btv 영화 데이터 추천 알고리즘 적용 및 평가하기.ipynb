{
 "cells": [
  {
   "cell_type": "markdown",
   "metadata": {
    "id": "-rxt9bMf3orJ"
   },
   "source": [
    "# [프로젝트4] SKB Btv 영화 데이터 추천 알고리즘 적용 및 평가하기\n"
   ]
  },
  {
   "cell_type": "markdown",
   "metadata": {
    "id": "wQAQvByO-YBQ"
   },
   "source": [
    "---"
   ]
  },
  {
   "cell_type": "markdown",
   "metadata": {
    "id": "BG_0zjG13zZy"
   },
   "source": [
    "\n",
    "## 프로젝트 목표\n",
    "---\n",
    "- Latent factor collaborative filtering 추천 알고리즘을 적용해 봅니다.\n",
    "- 추천 알고리즘 평가 방법(mAP, entropy, nDCG)을 통해 추천 알고리즘의 성능을 확인합니다. \n"
   ]
  },
  {
   "cell_type": "markdown",
   "metadata": {
    "id": "pS7RvUWi5vJe"
   },
   "source": [
    "## 프로젝트 목차\n",
    "---\n",
    "\n",
    "1. **데이터 불러오기:** 4개의 csv 데이터를 불러옵니다.\n",
    "\n",
    "2. **데이터 전처리하기:** 추천 알고리즘 적용을 위해 데이터를 전처리합니다. \n",
    "\n",
    "3. **추천 알고리즘 적용하기:** latent factor collaborative filtering 추천 알고리즘을 적용합니다. \n",
    "\n",
    "4. **추천 알고리즘 결과 평가하기:** 예측한 결과를 mAP, Entropy Diversity, nDCG로 평가합니다.\n"
   ]
  },
  {
   "cell_type": "markdown",
   "metadata": {
    "id": "K-rxhtJI5_D2"
   },
   "source": [
    "## 프로젝트 개요\n",
    "---\n",
    "\n",
    "SKB Btv 시청 데이터를 활용하여  latent factor collaborative filtering 추천 알고리즘을 적용한 후, 예측 결과를 다양한 지표(mAP, Entropy Diversity, nDCG)를 활용하여 평가합니다."
   ]
  },
  {
   "cell_type": "markdown",
   "metadata": {
    "id": "0kOsIuLd6EA9"
   },
   "source": [
    "## 1. 데이터 불러오기\n",
    "---\n",
    "\n",
    "판다스 데이터 프레임 형태로 movie, views, question, test 데이터들을 불러들입니다."
   ]
  },
  {
   "cell_type": "code",
   "execution_count": null,
   "metadata": {
    "colab": {
     "base_uri": "https://localhost:8080/"
    },
    "id": "YGoOOw6lys6u",
    "outputId": "14545a79-7b8b-4636-8d10-c9c090f48372",
    "scrolled": false
   },
   "outputs": [
    {
     "name": "stderr",
     "output_type": "stream",
     "text": [
      "/opt/conda/lib/python3.8/site-packages/IPython/core/interactiveshell.py:3146: DtypeWarning: Columns (0,1,2,3,4) have mixed types.Specify dtype option on import or set low_memory=False.\n",
      "  has_raised = await self.run_ast_nodes(code_ast.body, cell_name,\n",
      "/opt/conda/lib/python3.8/site-packages/IPython/core/interactiveshell.py:3146: DtypeWarning: Columns (0,1) have mixed types.Specify dtype option on import or set low_memory=False.\n",
      "  has_raised = await self.run_ast_nodes(code_ast.body, cell_name,\n"
     ]
    }
   ],
   "source": [
    "# 판다스 라이브러리 사용을 위해\n",
    "import pandas as pd\n",
    "\n",
    "# 데이터 로드 (header=None은 컬럼 이름이 없다는 뜻입니다)\n",
    "df_movie = pd.read_csv('/mnt/data/chapter_4/MYSUNI_MOVIES.csv', header=None)\n",
    "df_views = pd.read_csv('/mnt/data/chapter_4/MYSUNI_VIEWS.csv', header=None)\n",
    "df_question = pd.read_csv('/mnt/data/chapter_4/MYSUNI_QUESTION.csv', header=None)\n",
    "df_test = pd.read_csv('/mnt/data/chapter_4/MYSUNI_TEST.csv', header=None)"
   ]
  },
  {
   "cell_type": "markdown",
   "metadata": {
    "id": "p1OWWU9a-YBW"
   },
   "source": [
    "## 2. 데이터 전처리하기\n",
    "---\n",
    "\n",
    "읽어들인 데이터들을 원하는 형태로 전처리 합니다."
   ]
  },
  {
   "cell_type": "markdown",
   "metadata": {
    "id": "monm72hU-YBW"
   },
   "source": [
    "`영화 정보`를 원하는 정보로 전처리 합니다."
   ]
  },
  {
   "cell_type": "code",
   "execution_count": null,
   "metadata": {
    "id": "60lE-rqU_4Zu"
   },
   "outputs": [],
   "source": [
    "# 영화 정보에 대해서 열 이름을 정하고, 첫 행을 지우고, MOVIE_ID의 데이터 타입을 변경함\n",
    "df_movie.columns = ['MOVIE_ID', 'TITLE', 'RELEASE_MONTH']\n",
    "df_movie.drop(0, inplace=True)\n",
    "df_movie = df_movie.astype({'MOVIE_ID': 'int'})"
   ]
  },
  {
   "cell_type": "markdown",
   "metadata": {
    "id": "V8oJPXoi-YBX"
   },
   "source": [
    "`정답 정보`를 원하는 정보로 전처리 합니다."
   ]
  },
  {
   "cell_type": "code",
   "execution_count": null,
   "metadata": {
    "id": "sHBn7YHT_-_u"
   },
   "outputs": [],
   "source": [
    "# 정답 정보에 대해서 열 이름을 정하고, 첫 행을 지움\n",
    "df_test.columns = ['USER_ID', 'MOVIE_ID', 'TITLE']\n",
    "df_test.drop(0, inplace=True)\n",
    "\n",
    "# 정답 정보에 대해서 MOVIE_ID, USER_ID 데이터 타입을 변경\n",
    "df_test = df_test.astype({'MOVIE_ID': 'int'})\n",
    "df_test = df_test.astype({'USER_ID': 'int'})\n",
    "\n",
    "# 정답 정보에 대해 TITLE 열을 없애고, DURATION 열을 모두 1값으로 하여 추가함\n",
    "df_test.drop('TITLE', axis=1, inplace=True)\n",
    "df_test['DURATION']=1"
   ]
  },
  {
   "cell_type": "markdown",
   "metadata": {
    "id": "Bc_ZK4fu-YBY"
   },
   "source": [
    "본 예제에서는 서버단의 메모리 한계로 인하여 데이터 중 처음 100만개 만을 사용합니다.\n",
    "\n",
    "**Tips**: `head(n)` 메소드를 사용하여 처음 n개 행의 데이터를 불러올 수 있습니다."
   ]
  },
  {
   "cell_type": "code",
   "execution_count": null,
   "metadata": {
    "id": "kw346-QyAaK4"
   },
   "outputs": [],
   "source": [
    "# 메모리 한계로 인하여 처음 100만개만 사용함\n",
    "df_test = df_test.head(1000000)"
   ]
  },
  {
   "cell_type": "code",
   "execution_count": null,
   "metadata": {
    "colab": {
     "base_uri": "https://localhost:8080/",
     "height": 419
    },
    "id": "2y4GLZ8UAtzu",
    "outputId": "6353def2-cedc-416d-91bf-a72b8cbc6c29",
    "scrolled": true
   },
   "outputs": [
    {
     "data": {
      "text/html": [
       "<div>\n",
       "<style scoped>\n",
       "    .dataframe tbody tr th:only-of-type {\n",
       "        vertical-align: middle;\n",
       "    }\n",
       "\n",
       "    .dataframe tbody tr th {\n",
       "        vertical-align: top;\n",
       "    }\n",
       "\n",
       "    .dataframe thead th {\n",
       "        text-align: right;\n",
       "    }\n",
       "</style>\n",
       "<table border=\"1\" class=\"dataframe\">\n",
       "  <thead>\n",
       "    <tr style=\"text-align: right;\">\n",
       "      <th></th>\n",
       "      <th>USER_ID</th>\n",
       "      <th>MOVIE_ID</th>\n",
       "      <th>DURATION</th>\n",
       "    </tr>\n",
       "  </thead>\n",
       "  <tbody>\n",
       "    <tr>\n",
       "      <th>1</th>\n",
       "      <td>0</td>\n",
       "      <td>1892</td>\n",
       "      <td>1</td>\n",
       "    </tr>\n",
       "    <tr>\n",
       "      <th>2</th>\n",
       "      <td>0</td>\n",
       "      <td>3082</td>\n",
       "      <td>1</td>\n",
       "    </tr>\n",
       "    <tr>\n",
       "      <th>3</th>\n",
       "      <td>0</td>\n",
       "      <td>3720</td>\n",
       "      <td>1</td>\n",
       "    </tr>\n",
       "    <tr>\n",
       "      <th>4</th>\n",
       "      <td>0</td>\n",
       "      <td>7938</td>\n",
       "      <td>1</td>\n",
       "    </tr>\n",
       "    <tr>\n",
       "      <th>5</th>\n",
       "      <td>0</td>\n",
       "      <td>8480</td>\n",
       "      <td>1</td>\n",
       "    </tr>\n",
       "    <tr>\n",
       "      <th>...</th>\n",
       "      <td>...</td>\n",
       "      <td>...</td>\n",
       "      <td>...</td>\n",
       "    </tr>\n",
       "    <tr>\n",
       "      <th>999996</th>\n",
       "      <td>35163</td>\n",
       "      <td>10894</td>\n",
       "      <td>1</td>\n",
       "    </tr>\n",
       "    <tr>\n",
       "      <th>999997</th>\n",
       "      <td>35163</td>\n",
       "      <td>10909</td>\n",
       "      <td>1</td>\n",
       "    </tr>\n",
       "    <tr>\n",
       "      <th>999998</th>\n",
       "      <td>35163</td>\n",
       "      <td>13336</td>\n",
       "      <td>1</td>\n",
       "    </tr>\n",
       "    <tr>\n",
       "      <th>999999</th>\n",
       "      <td>35163</td>\n",
       "      <td>14381</td>\n",
       "      <td>1</td>\n",
       "    </tr>\n",
       "    <tr>\n",
       "      <th>1000000</th>\n",
       "      <td>35163</td>\n",
       "      <td>14407</td>\n",
       "      <td>1</td>\n",
       "    </tr>\n",
       "  </tbody>\n",
       "</table>\n",
       "<p>1000000 rows × 3 columns</p>\n",
       "</div>"
      ],
      "text/plain": [
       "         USER_ID  MOVIE_ID  DURATION\n",
       "1              0      1892         1\n",
       "2              0      3082         1\n",
       "3              0      3720         1\n",
       "4              0      7938         1\n",
       "5              0      8480         1\n",
       "...          ...       ...       ...\n",
       "999996     35163     10894         1\n",
       "999997     35163     10909         1\n",
       "999998     35163     13336         1\n",
       "999999     35163     14381         1\n",
       "1000000    35163     14407         1\n",
       "\n",
       "[1000000 rows x 3 columns]"
      ]
     },
     "execution_count": 6,
     "metadata": {},
     "output_type": "execute_result"
    }
   ],
   "source": [
    "# 정답 정보 확인\n",
    "df_test"
   ]
  },
  {
   "cell_type": "markdown",
   "metadata": {},
   "source": [
    "정답 정보 데이터가 1000000개 남은 것을 확인할 수 있습니다."
   ]
  },
  {
   "cell_type": "markdown",
   "metadata": {
    "id": "QMUGyNmT-YBY"
   },
   "source": [
    "`문제 정보`에 대해 필요한 전처리를 합니다."
   ]
  },
  {
   "cell_type": "code",
   "execution_count": null,
   "metadata": {
    "id": "nnuiNfUrAw38"
   },
   "outputs": [],
   "source": [
    "# 문제 정보에 대해서 열 이름을 정하고, 첫 행을 지우고, 데이터 타입을 변경함\n",
    "df_question.columns = ['USER_ID', 'MOVIE_ID', 'DURATION', 'WATCH_DAY', 'WATCH_SEQ']\n",
    "df_question.drop(0, inplace=True)\n",
    "df_question = df_question.astype('int')"
   ]
  },
  {
   "cell_type": "markdown",
   "metadata": {
    "id": "SsPmzEKV-YBZ"
   },
   "source": [
    "`DURATION`을 기반으로 rating 값을 계산합니다."
   ]
  },
  {
   "cell_type": "code",
   "execution_count": null,
   "metadata": {
    "id": "WPoyIfxXBIrz"
   },
   "outputs": [],
   "source": [
    "# 시청시간이 10분 이하면 0으로 변경\n",
    "df_question.loc[df_question.DURATION<10, 'DURATION']=0\n",
    "# 나머지는 1로 변경\n",
    "df_question.loc[df_question.DURATION>0, 'DURATION']=1"
   ]
  },
  {
   "cell_type": "markdown",
   "metadata": {
    "id": "2f6f6w54-YBZ"
   },
   "source": [
    "`문제 정보`, `영화 정보` 에서 필요한 내용만 남겨둡니다."
   ]
  },
  {
   "cell_type": "code",
   "execution_count": null,
   "metadata": {
    "id": "KQCa5XWYBRbT"
   },
   "outputs": [],
   "source": [
    "# 문제 정보, 영화 정보에서 필요 없는 내용들을 제외함\n",
    "df_question.drop('WATCH_DAY', axis=1, inplace=True)\n",
    "df_question.drop('WATCH_SEQ', axis=1, inplace=True)\n",
    "df_movie.drop('RELEASE_MONTH', axis=1, inplace=True)"
   ]
  },
  {
   "cell_type": "markdown",
   "metadata": {
    "id": "Lz8QkLdP-YBa"
   },
   "source": [
    "`MOVIE_ID`를 기준으로 `영화 정보`, `문제 정보`를 결합합니다."
   ]
  },
  {
   "cell_type": "code",
   "execution_count": null,
   "metadata": {
    "colab": {
     "base_uri": "https://localhost:8080/",
     "height": 419
    },
    "id": "qMU-tX7ZBSgb",
    "outputId": "d3d02619-eddc-43b2-a8b0-32af58b4bd13",
    "scrolled": true
   },
   "outputs": [
    {
     "data": {
      "text/html": [
       "<div>\n",
       "<style scoped>\n",
       "    .dataframe tbody tr th:only-of-type {\n",
       "        vertical-align: middle;\n",
       "    }\n",
       "\n",
       "    .dataframe tbody tr th {\n",
       "        vertical-align: top;\n",
       "    }\n",
       "\n",
       "    .dataframe thead th {\n",
       "        text-align: right;\n",
       "    }\n",
       "</style>\n",
       "<table border=\"1\" class=\"dataframe\">\n",
       "  <thead>\n",
       "    <tr style=\"text-align: right;\">\n",
       "      <th></th>\n",
       "      <th>USER_ID</th>\n",
       "      <th>MOVIE_ID</th>\n",
       "      <th>DURATION</th>\n",
       "      <th>TITLE</th>\n",
       "    </tr>\n",
       "  </thead>\n",
       "  <tbody>\n",
       "    <tr>\n",
       "      <th>0</th>\n",
       "      <td>1</td>\n",
       "      <td>4660</td>\n",
       "      <td>1</td>\n",
       "      <td>원더풀라이프(1998)</td>\n",
       "    </tr>\n",
       "    <tr>\n",
       "      <th>1</th>\n",
       "      <td>647</td>\n",
       "      <td>4660</td>\n",
       "      <td>0</td>\n",
       "      <td>원더풀라이프(1998)</td>\n",
       "    </tr>\n",
       "    <tr>\n",
       "      <th>2</th>\n",
       "      <td>38017</td>\n",
       "      <td>4660</td>\n",
       "      <td>0</td>\n",
       "      <td>원더풀라이프(1998)</td>\n",
       "    </tr>\n",
       "    <tr>\n",
       "      <th>3</th>\n",
       "      <td>16671</td>\n",
       "      <td>4660</td>\n",
       "      <td>1</td>\n",
       "      <td>원더풀라이프(1998)</td>\n",
       "    </tr>\n",
       "    <tr>\n",
       "      <th>4</th>\n",
       "      <td>31970</td>\n",
       "      <td>4660</td>\n",
       "      <td>0</td>\n",
       "      <td>원더풀라이프(1998)</td>\n",
       "    </tr>\n",
       "    <tr>\n",
       "      <th>...</th>\n",
       "      <td>...</td>\n",
       "      <td>...</td>\n",
       "      <td>...</td>\n",
       "      <td>...</td>\n",
       "    </tr>\n",
       "    <tr>\n",
       "      <th>558695</th>\n",
       "      <td>55137</td>\n",
       "      <td>14102</td>\n",
       "      <td>0</td>\n",
       "      <td>더캐스팅</td>\n",
       "    </tr>\n",
       "    <tr>\n",
       "      <th>558696</th>\n",
       "      <td>55508</td>\n",
       "      <td>4908</td>\n",
       "      <td>1</td>\n",
       "      <td>부다페스트로큰롤</td>\n",
       "    </tr>\n",
       "    <tr>\n",
       "      <th>558697</th>\n",
       "      <td>55508</td>\n",
       "      <td>4908</td>\n",
       "      <td>0</td>\n",
       "      <td>부다페스트로큰롤</td>\n",
       "    </tr>\n",
       "    <tr>\n",
       "      <th>558698</th>\n",
       "      <td>55743</td>\n",
       "      <td>6120</td>\n",
       "      <td>0</td>\n",
       "      <td>헌티드(2018)</td>\n",
       "    </tr>\n",
       "    <tr>\n",
       "      <th>558699</th>\n",
       "      <td>55870</td>\n",
       "      <td>9059</td>\n",
       "      <td>0</td>\n",
       "      <td>그여름가장조용한바다</td>\n",
       "    </tr>\n",
       "  </tbody>\n",
       "</table>\n",
       "<p>558700 rows × 4 columns</p>\n",
       "</div>"
      ],
      "text/plain": [
       "        USER_ID  MOVIE_ID  DURATION         TITLE\n",
       "0             1      4660         1  원더풀라이프(1998)\n",
       "1           647      4660         0  원더풀라이프(1998)\n",
       "2         38017      4660         0  원더풀라이프(1998)\n",
       "3         16671      4660         1  원더풀라이프(1998)\n",
       "4         31970      4660         0  원더풀라이프(1998)\n",
       "...         ...       ...       ...           ...\n",
       "558695    55137     14102         0          더캐스팅\n",
       "558696    55508      4908         1      부다페스트로큰롤\n",
       "558697    55508      4908         0      부다페스트로큰롤\n",
       "558698    55743      6120         0     헌티드(2018)\n",
       "558699    55870      9059         0    그여름가장조용한바다\n",
       "\n",
       "[558700 rows x 4 columns]"
      ]
     },
     "execution_count": 10,
     "metadata": {},
     "output_type": "execute_result"
    }
   ],
   "source": [
    "# MOVIE_ID를 기준으로 영화 정보, 문제 정보를 합함\n",
    "user_movie_data = pd.merge(df_question, df_movie, on = 'MOVIE_ID')\n",
    "user_movie_data"
   ]
  },
  {
   "cell_type": "markdown",
   "metadata": {
    "id": "MvG-dLXJ-YBa"
   },
   "source": [
    "본 예제에서는 서버단의 메모리 한계로 인하여 `user_movie_data` 행렬의 처음 3만개 만을 사용합니다."
   ]
  },
  {
   "cell_type": "code",
   "execution_count": null,
   "metadata": {
    "id": "xeaDlytMBVCK"
   },
   "outputs": [],
   "source": [
    "# 메모리 한계로 인하여 user_movie_data 행렬의 처음 3만개만 사용함\n",
    "user_movie_data = user_movie_data.head(30000)"
   ]
  },
  {
   "cell_type": "markdown",
   "metadata": {
    "id": "JOCx94Td-YBb"
   },
   "source": [
    "`user_movie_data`를 이용하여 `user_movie_rating` 행렬을 생성 합니다."
   ]
  },
  {
   "cell_type": "code",
   "execution_count": null,
   "metadata": {
    "id": "-OBoWtmMBhQ4"
   },
   "outputs": [],
   "source": [
    "# user_movie_data를 이용하여 user_movie_rating 행렬을 생성함\n",
    "# index는 USER_ID, columns는 MOVIE_ID로 설정. 이때 fillna를 사용하여 결측치를 0으로 처리\n",
    "df_user_movie_ratings = user_movie_data.pivot_table('DURATION', index='USER_ID', columns='MOVIE_ID').fillna(0)"
   ]
  },
  {
   "cell_type": "markdown",
   "metadata": {},
   "source": [
    "1) 각 사용자가 각 영화에 대해 평점(보았다 안보았다)을 매긴 값이 존재하도록 전처리를 하였습니다.\n",
    "\n",
    "2) 각 사용자의 평균 평점을 구합니다.\n",
    "\n",
    "3) 각 사용자의 각 영화에 대한 평점을 계산합니다."
   ]
  },
  {
   "cell_type": "code",
   "execution_count": null,
   "metadata": {
    "id": "w9cASPL4BoCH"
   },
   "outputs": [],
   "source": [
    "# numpy 라이브러리 불러오기\n",
    "import numpy as np\n",
    "\n",
    "# matrix는 pivot_table 값을 numpy matrix로 만든 것 \n",
    "matrix = df_user_movie_ratings.to_numpy()\n",
    "\n",
    "# user_ratings_mean은 각 영화에 대한 사용자의 평균 평점\n",
    "user_ratings_mean = np.mean(matrix, axis = 1)\n",
    "\n",
    "# 사용자-영화에 대해 사용자 평균 평점을 뺀 것\n",
    "# reshape 메소드를 사용하여 user_rating_mean의 dimension을 맞추기\n",
    "matrix_user_mean = matrix - user_ratings_mean.reshape(-1, 1)"
   ]
  },
  {
   "cell_type": "code",
   "execution_count": null,
   "metadata": {
    "colab": {
     "base_uri": "https://localhost:8080/",
     "height": 470
    },
    "id": "I9oD3v0DBrnH",
    "outputId": "818c0110-1f85-4a5a-89a2-ad32523ded7f"
   },
   "outputs": [
    {
     "data": {
      "text/html": [
       "<div>\n",
       "<style scoped>\n",
       "    .dataframe tbody tr th:only-of-type {\n",
       "        vertical-align: middle;\n",
       "    }\n",
       "\n",
       "    .dataframe tbody tr th {\n",
       "        vertical-align: top;\n",
       "    }\n",
       "\n",
       "    .dataframe thead th {\n",
       "        text-align: right;\n",
       "    }\n",
       "</style>\n",
       "<table border=\"1\" class=\"dataframe\">\n",
       "  <thead>\n",
       "    <tr style=\"text-align: right;\">\n",
       "      <th>MOVIE_ID</th>\n",
       "      <th>579</th>\n",
       "      <th>1253</th>\n",
       "      <th>1372</th>\n",
       "      <th>1455</th>\n",
       "      <th>1616</th>\n",
       "      <th>3345</th>\n",
       "      <th>4660</th>\n",
       "      <th>4702</th>\n",
       "      <th>4863</th>\n",
       "      <th>5020</th>\n",
       "      <th>...</th>\n",
       "      <th>9722</th>\n",
       "      <th>10488</th>\n",
       "      <th>11538</th>\n",
       "      <th>11845</th>\n",
       "      <th>12364</th>\n",
       "      <th>13953</th>\n",
       "      <th>14282</th>\n",
       "      <th>14437</th>\n",
       "      <th>14489</th>\n",
       "      <th>14516</th>\n",
       "    </tr>\n",
       "    <tr>\n",
       "      <th>USER_ID</th>\n",
       "      <th></th>\n",
       "      <th></th>\n",
       "      <th></th>\n",
       "      <th></th>\n",
       "      <th></th>\n",
       "      <th></th>\n",
       "      <th></th>\n",
       "      <th></th>\n",
       "      <th></th>\n",
       "      <th></th>\n",
       "      <th></th>\n",
       "      <th></th>\n",
       "      <th></th>\n",
       "      <th></th>\n",
       "      <th></th>\n",
       "      <th></th>\n",
       "      <th></th>\n",
       "      <th></th>\n",
       "      <th></th>\n",
       "      <th></th>\n",
       "      <th></th>\n",
       "    </tr>\n",
       "  </thead>\n",
       "  <tbody>\n",
       "    <tr>\n",
       "      <th>1</th>\n",
       "      <td>0.0</td>\n",
       "      <td>0.0</td>\n",
       "      <td>1.0</td>\n",
       "      <td>1.0</td>\n",
       "      <td>0.0</td>\n",
       "      <td>0.0</td>\n",
       "      <td>1.0</td>\n",
       "      <td>0.0</td>\n",
       "      <td>0.0</td>\n",
       "      <td>1.0</td>\n",
       "      <td>...</td>\n",
       "      <td>0.0</td>\n",
       "      <td>0.0</td>\n",
       "      <td>1.0</td>\n",
       "      <td>1.0</td>\n",
       "      <td>1.0</td>\n",
       "      <td>0.0</td>\n",
       "      <td>1.0</td>\n",
       "      <td>0.0</td>\n",
       "      <td>0.0</td>\n",
       "      <td>0.0</td>\n",
       "    </tr>\n",
       "    <tr>\n",
       "      <th>4</th>\n",
       "      <td>0.0</td>\n",
       "      <td>0.0</td>\n",
       "      <td>0.0</td>\n",
       "      <td>1.0</td>\n",
       "      <td>0.0</td>\n",
       "      <td>0.0</td>\n",
       "      <td>0.0</td>\n",
       "      <td>0.0</td>\n",
       "      <td>0.0</td>\n",
       "      <td>0.0</td>\n",
       "      <td>...</td>\n",
       "      <td>0.0</td>\n",
       "      <td>0.0</td>\n",
       "      <td>0.0</td>\n",
       "      <td>0.0</td>\n",
       "      <td>0.0</td>\n",
       "      <td>0.0</td>\n",
       "      <td>0.0</td>\n",
       "      <td>0.0</td>\n",
       "      <td>0.0</td>\n",
       "      <td>0.0</td>\n",
       "    </tr>\n",
       "    <tr>\n",
       "      <th>5</th>\n",
       "      <td>0.0</td>\n",
       "      <td>0.0</td>\n",
       "      <td>0.0</td>\n",
       "      <td>0.0</td>\n",
       "      <td>0.0</td>\n",
       "      <td>0.0</td>\n",
       "      <td>0.0</td>\n",
       "      <td>0.0</td>\n",
       "      <td>0.0</td>\n",
       "      <td>0.0</td>\n",
       "      <td>...</td>\n",
       "      <td>0.0</td>\n",
       "      <td>0.0</td>\n",
       "      <td>0.0</td>\n",
       "      <td>0.0</td>\n",
       "      <td>0.0</td>\n",
       "      <td>0.0</td>\n",
       "      <td>0.0</td>\n",
       "      <td>0.0</td>\n",
       "      <td>0.0</td>\n",
       "      <td>0.0</td>\n",
       "    </tr>\n",
       "    <tr>\n",
       "      <th>6</th>\n",
       "      <td>0.0</td>\n",
       "      <td>0.0</td>\n",
       "      <td>0.0</td>\n",
       "      <td>0.0</td>\n",
       "      <td>0.0</td>\n",
       "      <td>0.0</td>\n",
       "      <td>0.0</td>\n",
       "      <td>0.0</td>\n",
       "      <td>0.0</td>\n",
       "      <td>0.0</td>\n",
       "      <td>...</td>\n",
       "      <td>0.0</td>\n",
       "      <td>0.0</td>\n",
       "      <td>0.0</td>\n",
       "      <td>0.0</td>\n",
       "      <td>0.0</td>\n",
       "      <td>0.0</td>\n",
       "      <td>0.0</td>\n",
       "      <td>0.0</td>\n",
       "      <td>0.0</td>\n",
       "      <td>0.0</td>\n",
       "    </tr>\n",
       "    <tr>\n",
       "      <th>7</th>\n",
       "      <td>0.0</td>\n",
       "      <td>0.0</td>\n",
       "      <td>0.0</td>\n",
       "      <td>0.0</td>\n",
       "      <td>0.0</td>\n",
       "      <td>0.0</td>\n",
       "      <td>0.0</td>\n",
       "      <td>0.0</td>\n",
       "      <td>0.0</td>\n",
       "      <td>0.0</td>\n",
       "      <td>...</td>\n",
       "      <td>0.0</td>\n",
       "      <td>0.0</td>\n",
       "      <td>0.0</td>\n",
       "      <td>0.0</td>\n",
       "      <td>0.0</td>\n",
       "      <td>0.0</td>\n",
       "      <td>0.0</td>\n",
       "      <td>0.0</td>\n",
       "      <td>0.0</td>\n",
       "      <td>0.0</td>\n",
       "    </tr>\n",
       "    <tr>\n",
       "      <th>...</th>\n",
       "      <td>...</td>\n",
       "      <td>...</td>\n",
       "      <td>...</td>\n",
       "      <td>...</td>\n",
       "      <td>...</td>\n",
       "      <td>...</td>\n",
       "      <td>...</td>\n",
       "      <td>...</td>\n",
       "      <td>...</td>\n",
       "      <td>...</td>\n",
       "      <td>...</td>\n",
       "      <td>...</td>\n",
       "      <td>...</td>\n",
       "      <td>...</td>\n",
       "      <td>...</td>\n",
       "      <td>...</td>\n",
       "      <td>...</td>\n",
       "      <td>...</td>\n",
       "      <td>...</td>\n",
       "      <td>...</td>\n",
       "      <td>...</td>\n",
       "    </tr>\n",
       "    <tr>\n",
       "      <th>55875</th>\n",
       "      <td>0.0</td>\n",
       "      <td>0.0</td>\n",
       "      <td>0.0</td>\n",
       "      <td>0.0</td>\n",
       "      <td>0.0</td>\n",
       "      <td>0.0</td>\n",
       "      <td>0.0</td>\n",
       "      <td>0.0</td>\n",
       "      <td>0.0</td>\n",
       "      <td>0.0</td>\n",
       "      <td>...</td>\n",
       "      <td>0.0</td>\n",
       "      <td>0.0</td>\n",
       "      <td>0.0</td>\n",
       "      <td>0.0</td>\n",
       "      <td>0.0</td>\n",
       "      <td>0.0</td>\n",
       "      <td>0.0</td>\n",
       "      <td>0.0</td>\n",
       "      <td>0.0</td>\n",
       "      <td>0.0</td>\n",
       "    </tr>\n",
       "    <tr>\n",
       "      <th>55877</th>\n",
       "      <td>0.0</td>\n",
       "      <td>0.0</td>\n",
       "      <td>0.0</td>\n",
       "      <td>0.0</td>\n",
       "      <td>0.0</td>\n",
       "      <td>0.0</td>\n",
       "      <td>0.0</td>\n",
       "      <td>0.0</td>\n",
       "      <td>0.0</td>\n",
       "      <td>0.0</td>\n",
       "      <td>...</td>\n",
       "      <td>0.0</td>\n",
       "      <td>0.0</td>\n",
       "      <td>0.0</td>\n",
       "      <td>0.0</td>\n",
       "      <td>0.5</td>\n",
       "      <td>0.0</td>\n",
       "      <td>0.0</td>\n",
       "      <td>0.0</td>\n",
       "      <td>0.0</td>\n",
       "      <td>0.0</td>\n",
       "    </tr>\n",
       "    <tr>\n",
       "      <th>55878</th>\n",
       "      <td>0.0</td>\n",
       "      <td>0.0</td>\n",
       "      <td>0.0</td>\n",
       "      <td>0.0</td>\n",
       "      <td>0.0</td>\n",
       "      <td>0.0</td>\n",
       "      <td>0.0</td>\n",
       "      <td>0.0</td>\n",
       "      <td>0.0</td>\n",
       "      <td>0.0</td>\n",
       "      <td>...</td>\n",
       "      <td>0.0</td>\n",
       "      <td>0.0</td>\n",
       "      <td>0.0</td>\n",
       "      <td>0.0</td>\n",
       "      <td>0.0</td>\n",
       "      <td>0.0</td>\n",
       "      <td>0.0</td>\n",
       "      <td>0.0</td>\n",
       "      <td>0.0</td>\n",
       "      <td>0.0</td>\n",
       "    </tr>\n",
       "    <tr>\n",
       "      <th>55887</th>\n",
       "      <td>0.0</td>\n",
       "      <td>0.0</td>\n",
       "      <td>0.0</td>\n",
       "      <td>0.0</td>\n",
       "      <td>0.0</td>\n",
       "      <td>0.0</td>\n",
       "      <td>0.0</td>\n",
       "      <td>0.0</td>\n",
       "      <td>0.0</td>\n",
       "      <td>0.0</td>\n",
       "      <td>...</td>\n",
       "      <td>0.0</td>\n",
       "      <td>0.0</td>\n",
       "      <td>1.0</td>\n",
       "      <td>0.0</td>\n",
       "      <td>0.0</td>\n",
       "      <td>0.0</td>\n",
       "      <td>0.0</td>\n",
       "      <td>0.0</td>\n",
       "      <td>0.0</td>\n",
       "      <td>0.0</td>\n",
       "    </tr>\n",
       "    <tr>\n",
       "      <th>55899</th>\n",
       "      <td>0.0</td>\n",
       "      <td>0.0</td>\n",
       "      <td>0.0</td>\n",
       "      <td>0.0</td>\n",
       "      <td>0.0</td>\n",
       "      <td>0.0</td>\n",
       "      <td>0.0</td>\n",
       "      <td>0.0</td>\n",
       "      <td>0.0</td>\n",
       "      <td>0.0</td>\n",
       "      <td>...</td>\n",
       "      <td>0.0</td>\n",
       "      <td>0.0</td>\n",
       "      <td>0.0</td>\n",
       "      <td>0.0</td>\n",
       "      <td>0.0</td>\n",
       "      <td>0.0</td>\n",
       "      <td>0.0</td>\n",
       "      <td>0.0</td>\n",
       "      <td>0.0</td>\n",
       "      <td>0.0</td>\n",
       "    </tr>\n",
       "  </tbody>\n",
       "</table>\n",
       "<p>19303 rows × 28 columns</p>\n",
       "</div>"
      ],
      "text/plain": [
       "MOVIE_ID  579    1253   1372   1455   1616   3345   4660   4702   4863   \\\n",
       "USER_ID                                                                   \n",
       "1           0.0    0.0    1.0    1.0    0.0    0.0    1.0    0.0    0.0   \n",
       "4           0.0    0.0    0.0    1.0    0.0    0.0    0.0    0.0    0.0   \n",
       "5           0.0    0.0    0.0    0.0    0.0    0.0    0.0    0.0    0.0   \n",
       "6           0.0    0.0    0.0    0.0    0.0    0.0    0.0    0.0    0.0   \n",
       "7           0.0    0.0    0.0    0.0    0.0    0.0    0.0    0.0    0.0   \n",
       "...         ...    ...    ...    ...    ...    ...    ...    ...    ...   \n",
       "55875       0.0    0.0    0.0    0.0    0.0    0.0    0.0    0.0    0.0   \n",
       "55877       0.0    0.0    0.0    0.0    0.0    0.0    0.0    0.0    0.0   \n",
       "55878       0.0    0.0    0.0    0.0    0.0    0.0    0.0    0.0    0.0   \n",
       "55887       0.0    0.0    0.0    0.0    0.0    0.0    0.0    0.0    0.0   \n",
       "55899       0.0    0.0    0.0    0.0    0.0    0.0    0.0    0.0    0.0   \n",
       "\n",
       "MOVIE_ID  5020   ...  9722   10488  11538  11845  12364  13953  14282  14437  \\\n",
       "USER_ID          ...                                                           \n",
       "1           1.0  ...    0.0    0.0    1.0    1.0    1.0    0.0    1.0    0.0   \n",
       "4           0.0  ...    0.0    0.0    0.0    0.0    0.0    0.0    0.0    0.0   \n",
       "5           0.0  ...    0.0    0.0    0.0    0.0    0.0    0.0    0.0    0.0   \n",
       "6           0.0  ...    0.0    0.0    0.0    0.0    0.0    0.0    0.0    0.0   \n",
       "7           0.0  ...    0.0    0.0    0.0    0.0    0.0    0.0    0.0    0.0   \n",
       "...         ...  ...    ...    ...    ...    ...    ...    ...    ...    ...   \n",
       "55875       0.0  ...    0.0    0.0    0.0    0.0    0.0    0.0    0.0    0.0   \n",
       "55877       0.0  ...    0.0    0.0    0.0    0.0    0.5    0.0    0.0    0.0   \n",
       "55878       0.0  ...    0.0    0.0    0.0    0.0    0.0    0.0    0.0    0.0   \n",
       "55887       0.0  ...    0.0    0.0    1.0    0.0    0.0    0.0    0.0    0.0   \n",
       "55899       0.0  ...    0.0    0.0    0.0    0.0    0.0    0.0    0.0    0.0   \n",
       "\n",
       "MOVIE_ID  14489  14516  \n",
       "USER_ID                 \n",
       "1           0.0    0.0  \n",
       "4           0.0    0.0  \n",
       "5           0.0    0.0  \n",
       "6           0.0    0.0  \n",
       "7           0.0    0.0  \n",
       "...         ...    ...  \n",
       "55875       0.0    0.0  \n",
       "55877       0.0    0.0  \n",
       "55878       0.0    0.0  \n",
       "55887       0.0    0.0  \n",
       "55899       0.0    0.0  \n",
       "\n",
       "[19303 rows x 28 columns]"
      ]
     },
     "execution_count": 14,
     "metadata": {},
     "output_type": "execute_result"
    }
   ],
   "source": [
    "# matrix_user_mean 행렬의 shape 확인\n",
    "df_user_movie_ratings"
   ]
  },
  {
   "cell_type": "markdown",
   "metadata": {
    "id": "PlfAmA95-YBc"
   },
   "source": [
    "최종적으로 생성한 `matrix_user_mean` 행렬을 확인합니다. `head()`를 사용하여 첫 5개의 데이터를 출력해 봅니다."
   ]
  },
  {
   "cell_type": "code",
   "execution_count": null,
   "metadata": {
    "colab": {
     "base_uri": "https://localhost:8080/",
     "height": 224
    },
    "id": "stteaELuBx3u",
    "outputId": "1fd47c8e-3052-4a0f-fb73-69311c73be42"
   },
   "outputs": [
    {
     "data": {
      "text/html": [
       "<div>\n",
       "<style scoped>\n",
       "    .dataframe tbody tr th:only-of-type {\n",
       "        vertical-align: middle;\n",
       "    }\n",
       "\n",
       "    .dataframe tbody tr th {\n",
       "        vertical-align: top;\n",
       "    }\n",
       "\n",
       "    .dataframe thead th {\n",
       "        text-align: right;\n",
       "    }\n",
       "</style>\n",
       "<table border=\"1\" class=\"dataframe\">\n",
       "  <thead>\n",
       "    <tr style=\"text-align: right;\">\n",
       "      <th>MOVIE_ID</th>\n",
       "      <th>579</th>\n",
       "      <th>1253</th>\n",
       "      <th>1372</th>\n",
       "      <th>1455</th>\n",
       "      <th>1616</th>\n",
       "      <th>3345</th>\n",
       "      <th>4660</th>\n",
       "      <th>4702</th>\n",
       "      <th>4863</th>\n",
       "      <th>5020</th>\n",
       "      <th>...</th>\n",
       "      <th>9722</th>\n",
       "      <th>10488</th>\n",
       "      <th>11538</th>\n",
       "      <th>11845</th>\n",
       "      <th>12364</th>\n",
       "      <th>13953</th>\n",
       "      <th>14282</th>\n",
       "      <th>14437</th>\n",
       "      <th>14489</th>\n",
       "      <th>14516</th>\n",
       "    </tr>\n",
       "  </thead>\n",
       "  <tbody>\n",
       "    <tr>\n",
       "      <th>0</th>\n",
       "      <td>-0.285714</td>\n",
       "      <td>-0.285714</td>\n",
       "      <td>0.714286</td>\n",
       "      <td>0.714286</td>\n",
       "      <td>-0.285714</td>\n",
       "      <td>-0.285714</td>\n",
       "      <td>0.714286</td>\n",
       "      <td>-0.285714</td>\n",
       "      <td>-0.285714</td>\n",
       "      <td>0.714286</td>\n",
       "      <td>...</td>\n",
       "      <td>-0.285714</td>\n",
       "      <td>-0.285714</td>\n",
       "      <td>0.714286</td>\n",
       "      <td>0.714286</td>\n",
       "      <td>0.714286</td>\n",
       "      <td>-0.285714</td>\n",
       "      <td>0.714286</td>\n",
       "      <td>-0.285714</td>\n",
       "      <td>-0.285714</td>\n",
       "      <td>-0.285714</td>\n",
       "    </tr>\n",
       "    <tr>\n",
       "      <th>1</th>\n",
       "      <td>-0.035714</td>\n",
       "      <td>-0.035714</td>\n",
       "      <td>-0.035714</td>\n",
       "      <td>0.964286</td>\n",
       "      <td>-0.035714</td>\n",
       "      <td>-0.035714</td>\n",
       "      <td>-0.035714</td>\n",
       "      <td>-0.035714</td>\n",
       "      <td>-0.035714</td>\n",
       "      <td>-0.035714</td>\n",
       "      <td>...</td>\n",
       "      <td>-0.035714</td>\n",
       "      <td>-0.035714</td>\n",
       "      <td>-0.035714</td>\n",
       "      <td>-0.035714</td>\n",
       "      <td>-0.035714</td>\n",
       "      <td>-0.035714</td>\n",
       "      <td>-0.035714</td>\n",
       "      <td>-0.035714</td>\n",
       "      <td>-0.035714</td>\n",
       "      <td>-0.035714</td>\n",
       "    </tr>\n",
       "    <tr>\n",
       "      <th>2</th>\n",
       "      <td>0.000000</td>\n",
       "      <td>0.000000</td>\n",
       "      <td>0.000000</td>\n",
       "      <td>0.000000</td>\n",
       "      <td>0.000000</td>\n",
       "      <td>0.000000</td>\n",
       "      <td>0.000000</td>\n",
       "      <td>0.000000</td>\n",
       "      <td>0.000000</td>\n",
       "      <td>0.000000</td>\n",
       "      <td>...</td>\n",
       "      <td>0.000000</td>\n",
       "      <td>0.000000</td>\n",
       "      <td>0.000000</td>\n",
       "      <td>0.000000</td>\n",
       "      <td>0.000000</td>\n",
       "      <td>0.000000</td>\n",
       "      <td>0.000000</td>\n",
       "      <td>0.000000</td>\n",
       "      <td>0.000000</td>\n",
       "      <td>0.000000</td>\n",
       "    </tr>\n",
       "    <tr>\n",
       "      <th>3</th>\n",
       "      <td>0.000000</td>\n",
       "      <td>0.000000</td>\n",
       "      <td>0.000000</td>\n",
       "      <td>0.000000</td>\n",
       "      <td>0.000000</td>\n",
       "      <td>0.000000</td>\n",
       "      <td>0.000000</td>\n",
       "      <td>0.000000</td>\n",
       "      <td>0.000000</td>\n",
       "      <td>0.000000</td>\n",
       "      <td>...</td>\n",
       "      <td>0.000000</td>\n",
       "      <td>0.000000</td>\n",
       "      <td>0.000000</td>\n",
       "      <td>0.000000</td>\n",
       "      <td>0.000000</td>\n",
       "      <td>0.000000</td>\n",
       "      <td>0.000000</td>\n",
       "      <td>0.000000</td>\n",
       "      <td>0.000000</td>\n",
       "      <td>0.000000</td>\n",
       "    </tr>\n",
       "    <tr>\n",
       "      <th>4</th>\n",
       "      <td>0.000000</td>\n",
       "      <td>0.000000</td>\n",
       "      <td>0.000000</td>\n",
       "      <td>0.000000</td>\n",
       "      <td>0.000000</td>\n",
       "      <td>0.000000</td>\n",
       "      <td>0.000000</td>\n",
       "      <td>0.000000</td>\n",
       "      <td>0.000000</td>\n",
       "      <td>0.000000</td>\n",
       "      <td>...</td>\n",
       "      <td>0.000000</td>\n",
       "      <td>0.000000</td>\n",
       "      <td>0.000000</td>\n",
       "      <td>0.000000</td>\n",
       "      <td>0.000000</td>\n",
       "      <td>0.000000</td>\n",
       "      <td>0.000000</td>\n",
       "      <td>0.000000</td>\n",
       "      <td>0.000000</td>\n",
       "      <td>0.000000</td>\n",
       "    </tr>\n",
       "  </tbody>\n",
       "</table>\n",
       "<p>5 rows × 28 columns</p>\n",
       "</div>"
      ],
      "text/plain": [
       "MOVIE_ID     579       1253      1372      1455      1616      3345   \\\n",
       "0        -0.285714 -0.285714  0.714286  0.714286 -0.285714 -0.285714   \n",
       "1        -0.035714 -0.035714 -0.035714  0.964286 -0.035714 -0.035714   \n",
       "2         0.000000  0.000000  0.000000  0.000000  0.000000  0.000000   \n",
       "3         0.000000  0.000000  0.000000  0.000000  0.000000  0.000000   \n",
       "4         0.000000  0.000000  0.000000  0.000000  0.000000  0.000000   \n",
       "\n",
       "MOVIE_ID     4660      4702      4863      5020   ...     9722      10488  \\\n",
       "0         0.714286 -0.285714 -0.285714  0.714286  ... -0.285714 -0.285714   \n",
       "1        -0.035714 -0.035714 -0.035714 -0.035714  ... -0.035714 -0.035714   \n",
       "2         0.000000  0.000000  0.000000  0.000000  ...  0.000000  0.000000   \n",
       "3         0.000000  0.000000  0.000000  0.000000  ...  0.000000  0.000000   \n",
       "4         0.000000  0.000000  0.000000  0.000000  ...  0.000000  0.000000   \n",
       "\n",
       "MOVIE_ID     11538     11845     12364     13953     14282     14437  \\\n",
       "0         0.714286  0.714286  0.714286 -0.285714  0.714286 -0.285714   \n",
       "1        -0.035714 -0.035714 -0.035714 -0.035714 -0.035714 -0.035714   \n",
       "2         0.000000  0.000000  0.000000  0.000000  0.000000  0.000000   \n",
       "3         0.000000  0.000000  0.000000  0.000000  0.000000  0.000000   \n",
       "4         0.000000  0.000000  0.000000  0.000000  0.000000  0.000000   \n",
       "\n",
       "MOVIE_ID     14489     14516  \n",
       "0        -0.285714 -0.285714  \n",
       "1        -0.035714 -0.035714  \n",
       "2         0.000000  0.000000  \n",
       "3         0.000000  0.000000  \n",
       "4         0.000000  0.000000  \n",
       "\n",
       "[5 rows x 28 columns]"
      ]
     },
     "execution_count": 15,
     "metadata": {},
     "output_type": "execute_result"
    }
   ],
   "source": [
    "# matrix_user_mean을 데이터 프레임 형태로 바꾸고 행렬 앞 부분 확인\n",
    "pd.DataFrame(matrix_user_mean, columns = df_user_movie_ratings.columns).head()"
   ]
  },
  {
   "cell_type": "markdown",
   "metadata": {
    "id": "oWil6Un_-YBc"
   },
   "source": [
    "## 3. 추천 알고리즘 적용하기\n",
    "---"
   ]
  },
  {
   "cell_type": "markdown",
   "metadata": {},
   "source": [
    "Latent factor collaborative filtering 추천 알고리즘을 적용합니다.\n",
    "\n",
    "1) `matrix_user_mean` 행렬에 SVD를 적용합니다.\n",
    "\n",
    "2) SVD 결과에서 얻은 `sigma` 값을 대각 행렬(diagonal matrix)로 바꿉니다.\n",
    "\n",
    "3) SVD 행렬들의 곱과 `user_ratings_mean`을 사용하여 `svd_user_predicted_ratings` 행렬을 생성합니다."
   ]
  },
  {
   "cell_type": "markdown",
   "metadata": {},
   "source": [
    "### [TODO] `matrix_user_mean` 행렬에 SVD를 적용하는 코드를 작성하세요.\n",
    "\n",
    "**Tips**: `svds(matrix, k=n)`를 사용하여 상위 n개의 truncated SVD를 구할 수 있습니다."
   ]
  },
  {
   "cell_type": "code",
   "execution_count": null,
   "metadata": {
    "id": "MazyPfStB3Za"
   },
   "outputs": [],
   "source": [
    "# scipy에서 제공해주는 svds 사용\n",
    "from scipy.sparse.linalg import svds\n",
    "\n",
    "# U 행렬, sigma 행렬, V 전치 행렬을 반환\n",
    "U, sigma, Vt = svds(matrix_user_mean, k = 5)"
   ]
  },
  {
   "cell_type": "code",
   "execution_count": null,
   "metadata": {
    "colab": {
     "base_uri": "https://localhost:8080/"
    },
    "id": "EZ2YamFZC240",
    "outputId": "a0eb554e-bab2-4215-96b1-012f13e92264"
   },
   "outputs": [
    {
     "name": "stdout",
     "output_type": "stream",
     "text": [
      "(19303, 5)\n",
      "(5,)\n",
      "(5, 28)\n"
     ]
    }
   ],
   "source": [
    "# 각 행렬의 shape을 확인\n",
    "\n",
    "print(U.shape)\n",
    "print(sigma.shape)\n",
    "print(Vt.shape)"
   ]
  },
  {
   "cell_type": "markdown",
   "metadata": {},
   "source": [
    "### [TODO] SVD 결과에서 `sigma`로 나온 값을 **대각 행렬(diagonal matrix)** 로 바꾸는 코드를 작성하세요.\n",
    "\n",
    "**Tips**: numpy의 `diag()`를 사용하여 대각 행렬을 생성할 수 있습니다."
   ]
  },
  {
   "cell_type": "code",
   "execution_count": null,
   "metadata": {
    "id": "yrpOWdTSC7Vc"
   },
   "outputs": [],
   "source": [
    "# 현재 이 Sigma 행렬은 0이 아닌 값만 1차원 행렬로 표현되었으므로, 0이 포함된 대칭행렬로 변환을 위해 diag함\n",
    "sigma = np.diag(sigma)"
   ]
  },
  {
   "cell_type": "code",
   "execution_count": null,
   "metadata": {
    "colab": {
     "base_uri": "https://localhost:8080/"
    },
    "id": "W6dIhmREC-8T",
    "outputId": "7716bcba-0d1c-4424-b6d7-badda31affc1"
   },
   "outputs": [
    {
     "data": {
      "text/plain": [
       "(5, 5)"
      ]
     },
     "execution_count": 19,
     "metadata": {},
     "output_type": "execute_result"
    }
   ],
   "source": [
    "# sigma 행렬의 shape 확인\n",
    "sigma.shape"
   ]
  },
  {
   "cell_type": "code",
   "execution_count": null,
   "metadata": {
    "colab": {
     "base_uri": "https://localhost:8080/"
    },
    "id": "9qfsK7BBDC4u",
    "outputId": "6c208428-0646-4c83-a56f-fc34291e9814"
   },
   "outputs": [
    {
     "data": {
      "text/plain": [
       "array([34.9198233,  0.       ,  0.       ,  0.       ,  0.       ])"
      ]
     },
     "execution_count": 20,
     "metadata": {},
     "output_type": "execute_result"
    }
   ],
   "source": [
    "# sigam[0]의 값 확인\n",
    "sigma[0]"
   ]
  },
  {
   "cell_type": "code",
   "execution_count": null,
   "metadata": {
    "colab": {
     "base_uri": "https://localhost:8080/"
    },
    "id": "E0IuUa8ADHXq",
    "outputId": "a62b0c0f-a2d7-43b0-f495-f41b2682442d"
   },
   "outputs": [
    {
     "data": {
      "text/plain": [
       "array([ 0.      , 35.270901,  0.      ,  0.      ,  0.      ])"
      ]
     },
     "execution_count": 21,
     "metadata": {},
     "output_type": "execute_result"
    }
   ],
   "source": [
    "# sigam[1]의 값 확인\n",
    "sigma[1]"
   ]
  },
  {
   "cell_type": "code",
   "execution_count": null,
   "metadata": {
    "id": "_XfXVtet-YBe",
    "outputId": "43f2a751-919a-4c67-bb2f-4c0938f49797"
   },
   "outputs": [
    {
     "data": {
      "text/plain": [
       "array([[34.9198233 ,  0.        ,  0.        ,  0.        ,  0.        ],\n",
       "       [ 0.        , 35.270901  ,  0.        ,  0.        ,  0.        ],\n",
       "       [ 0.        ,  0.        , 41.70367768,  0.        ,  0.        ],\n",
       "       [ 0.        ,  0.        ,  0.        , 42.66813404,  0.        ],\n",
       "       [ 0.        ,  0.        ,  0.        ,  0.        , 44.98636909]])"
      ]
     },
     "execution_count": 30,
     "metadata": {},
     "output_type": "execute_result"
    }
   ],
   "source": [
    "sigma"
   ]
  },
  {
   "cell_type": "markdown",
   "metadata": {},
   "source": [
    "`diag`를 적용한 `sigma` 행렬은 대각값들만 있는 것을 확인할 수 있습니다."
   ]
  },
  {
   "cell_type": "markdown",
   "metadata": {
    "id": "V43CE-_sDLla"
   },
   "source": [
    "1) 원본 `user-movie` 평점 행렬을 만듭니다. \n",
    "\n",
    "2) 이를 user의 평균 점수를 빼서 `matrix_user_mean` 이라는 행렬로 만듭니다.\n",
    "\n",
    "3) 2)번의 값에 SVD를 적용해 `U`, `sigma`, `Vt` 행렬을 구합니다.\n",
    "\n",
    "4) `sigma` 행렬은 현재 0이 포함이 되지 않은 값으로만 구성되어 있으므로 이를 대칭행렬로 변환합니다."
   ]
  },
  {
   "cell_type": "markdown",
   "metadata": {},
   "source": [
    "### [TODO] SVD의 결과 행렬들의 곱과 `user_ratings_mean`을 사용하여 `svd_user_predicted_ratings` 행렬을 만드는 코드를 작성하세요\n",
    "\n",
    "**Tips**: numpy의 `dot()`을 사용하여 행렬 내적을 수행할 수 있습니다."
   ]
  },
  {
   "cell_type": "code",
   "execution_count": null,
   "metadata": {
    "id": "Ksa18Is0DJvo"
   },
   "outputs": [],
   "source": [
    "# U, Sigma, Vt의 내적을 수행하면, 다시 원본 행렬로 복원이 된다. \n",
    "# 거기에 + 사용자 평균 rating을 적용한다. \n",
    "svd_user_predicted_ratings = np.dot(np.dot(U, sigma), Vt) + user_ratings_mean.reshape(-1, 1)"
   ]
  },
  {
   "cell_type": "code",
   "execution_count": null,
   "metadata": {
    "colab": {
     "base_uri": "https://localhost:8080/",
     "height": 224
    },
    "id": "InS2tSSVDNiz",
    "outputId": "968bd612-2e01-47b8-fc40-b27055679892"
   },
   "outputs": [
    {
     "data": {
      "text/html": [
       "<div>\n",
       "<style scoped>\n",
       "    .dataframe tbody tr th:only-of-type {\n",
       "        vertical-align: middle;\n",
       "    }\n",
       "\n",
       "    .dataframe tbody tr th {\n",
       "        vertical-align: top;\n",
       "    }\n",
       "\n",
       "    .dataframe thead th {\n",
       "        text-align: right;\n",
       "    }\n",
       "</style>\n",
       "<table border=\"1\" class=\"dataframe\">\n",
       "  <thead>\n",
       "    <tr style=\"text-align: right;\">\n",
       "      <th>MOVIE_ID</th>\n",
       "      <th>579</th>\n",
       "      <th>1253</th>\n",
       "      <th>1372</th>\n",
       "      <th>1455</th>\n",
       "      <th>1616</th>\n",
       "      <th>3345</th>\n",
       "      <th>4660</th>\n",
       "      <th>4702</th>\n",
       "      <th>4863</th>\n",
       "      <th>5020</th>\n",
       "      <th>...</th>\n",
       "      <th>9722</th>\n",
       "      <th>10488</th>\n",
       "      <th>11538</th>\n",
       "      <th>11845</th>\n",
       "      <th>12364</th>\n",
       "      <th>13953</th>\n",
       "      <th>14282</th>\n",
       "      <th>14437</th>\n",
       "      <th>14489</th>\n",
       "      <th>14516</th>\n",
       "    </tr>\n",
       "  </thead>\n",
       "  <tbody>\n",
       "    <tr>\n",
       "      <th>0</th>\n",
       "      <td>0.308978</td>\n",
       "      <td>0.302964</td>\n",
       "      <td>0.305143</td>\n",
       "      <td>0.314296</td>\n",
       "      <td>-0.029316</td>\n",
       "      <td>0.302784</td>\n",
       "      <td>0.304263</td>\n",
       "      <td>0.306069</td>\n",
       "      <td>0.303110</td>\n",
       "      <td>0.317110</td>\n",
       "      <td>...</td>\n",
       "      <td>0.302958</td>\n",
       "      <td>0.303704</td>\n",
       "      <td>0.324480</td>\n",
       "      <td>0.428526</td>\n",
       "      <td>0.321769</td>\n",
       "      <td>0.254453</td>\n",
       "      <td>1.062628</td>\n",
       "      <td>0.303273</td>\n",
       "      <td>0.306057</td>\n",
       "      <td>-0.070155</td>\n",
       "    </tr>\n",
       "    <tr>\n",
       "      <th>1</th>\n",
       "      <td>0.043476</td>\n",
       "      <td>0.044295</td>\n",
       "      <td>0.043494</td>\n",
       "      <td>0.045237</td>\n",
       "      <td>-0.002651</td>\n",
       "      <td>0.043454</td>\n",
       "      <td>0.043410</td>\n",
       "      <td>0.043677</td>\n",
       "      <td>0.043376</td>\n",
       "      <td>0.045788</td>\n",
       "      <td>...</td>\n",
       "      <td>0.043622</td>\n",
       "      <td>0.043351</td>\n",
       "      <td>0.045192</td>\n",
       "      <td>0.049213</td>\n",
       "      <td>0.045182</td>\n",
       "      <td>0.045701</td>\n",
       "      <td>-0.003221</td>\n",
       "      <td>0.043366</td>\n",
       "      <td>0.043423</td>\n",
       "      <td>-0.001783</td>\n",
       "    </tr>\n",
       "    <tr>\n",
       "      <th>2</th>\n",
       "      <td>0.000000</td>\n",
       "      <td>0.000000</td>\n",
       "      <td>0.000000</td>\n",
       "      <td>0.000000</td>\n",
       "      <td>0.000000</td>\n",
       "      <td>0.000000</td>\n",
       "      <td>0.000000</td>\n",
       "      <td>0.000000</td>\n",
       "      <td>0.000000</td>\n",
       "      <td>0.000000</td>\n",
       "      <td>...</td>\n",
       "      <td>0.000000</td>\n",
       "      <td>0.000000</td>\n",
       "      <td>0.000000</td>\n",
       "      <td>0.000000</td>\n",
       "      <td>0.000000</td>\n",
       "      <td>0.000000</td>\n",
       "      <td>0.000000</td>\n",
       "      <td>0.000000</td>\n",
       "      <td>0.000000</td>\n",
       "      <td>0.000000</td>\n",
       "    </tr>\n",
       "    <tr>\n",
       "      <th>3</th>\n",
       "      <td>0.000000</td>\n",
       "      <td>0.000000</td>\n",
       "      <td>0.000000</td>\n",
       "      <td>0.000000</td>\n",
       "      <td>0.000000</td>\n",
       "      <td>0.000000</td>\n",
       "      <td>0.000000</td>\n",
       "      <td>0.000000</td>\n",
       "      <td>0.000000</td>\n",
       "      <td>0.000000</td>\n",
       "      <td>...</td>\n",
       "      <td>0.000000</td>\n",
       "      <td>0.000000</td>\n",
       "      <td>0.000000</td>\n",
       "      <td>0.000000</td>\n",
       "      <td>0.000000</td>\n",
       "      <td>0.000000</td>\n",
       "      <td>0.000000</td>\n",
       "      <td>0.000000</td>\n",
       "      <td>0.000000</td>\n",
       "      <td>0.000000</td>\n",
       "    </tr>\n",
       "    <tr>\n",
       "      <th>4</th>\n",
       "      <td>0.000000</td>\n",
       "      <td>0.000000</td>\n",
       "      <td>0.000000</td>\n",
       "      <td>0.000000</td>\n",
       "      <td>0.000000</td>\n",
       "      <td>0.000000</td>\n",
       "      <td>0.000000</td>\n",
       "      <td>0.000000</td>\n",
       "      <td>0.000000</td>\n",
       "      <td>0.000000</td>\n",
       "      <td>...</td>\n",
       "      <td>0.000000</td>\n",
       "      <td>0.000000</td>\n",
       "      <td>0.000000</td>\n",
       "      <td>0.000000</td>\n",
       "      <td>0.000000</td>\n",
       "      <td>0.000000</td>\n",
       "      <td>0.000000</td>\n",
       "      <td>0.000000</td>\n",
       "      <td>0.000000</td>\n",
       "      <td>0.000000</td>\n",
       "    </tr>\n",
       "  </tbody>\n",
       "</table>\n",
       "<p>5 rows × 28 columns</p>\n",
       "</div>"
      ],
      "text/plain": [
       "MOVIE_ID     579       1253      1372      1455      1616      3345   \\\n",
       "0         0.308978  0.302964  0.305143  0.314296 -0.029316  0.302784   \n",
       "1         0.043476  0.044295  0.043494  0.045237 -0.002651  0.043454   \n",
       "2         0.000000  0.000000  0.000000  0.000000  0.000000  0.000000   \n",
       "3         0.000000  0.000000  0.000000  0.000000  0.000000  0.000000   \n",
       "4         0.000000  0.000000  0.000000  0.000000  0.000000  0.000000   \n",
       "\n",
       "MOVIE_ID     4660      4702      4863      5020   ...     9722      10488  \\\n",
       "0         0.304263  0.306069  0.303110  0.317110  ...  0.302958  0.303704   \n",
       "1         0.043410  0.043677  0.043376  0.045788  ...  0.043622  0.043351   \n",
       "2         0.000000  0.000000  0.000000  0.000000  ...  0.000000  0.000000   \n",
       "3         0.000000  0.000000  0.000000  0.000000  ...  0.000000  0.000000   \n",
       "4         0.000000  0.000000  0.000000  0.000000  ...  0.000000  0.000000   \n",
       "\n",
       "MOVIE_ID     11538     11845     12364     13953     14282     14437  \\\n",
       "0         0.324480  0.428526  0.321769  0.254453  1.062628  0.303273   \n",
       "1         0.045192  0.049213  0.045182  0.045701 -0.003221  0.043366   \n",
       "2         0.000000  0.000000  0.000000  0.000000  0.000000  0.000000   \n",
       "3         0.000000  0.000000  0.000000  0.000000  0.000000  0.000000   \n",
       "4         0.000000  0.000000  0.000000  0.000000  0.000000  0.000000   \n",
       "\n",
       "MOVIE_ID     14489     14516  \n",
       "0         0.306057 -0.070155  \n",
       "1         0.043423 -0.001783  \n",
       "2         0.000000  0.000000  \n",
       "3         0.000000  0.000000  \n",
       "4         0.000000  0.000000  \n",
       "\n",
       "[5 rows x 28 columns]"
      ]
     },
     "execution_count": 23,
     "metadata": {},
     "output_type": "execute_result"
    }
   ],
   "source": [
    "# svd를 이용한 prediction 값들을 계산하고 확인\n",
    "df_svd_preds = pd.DataFrame(svd_user_predicted_ratings, columns = df_user_movie_ratings.columns)\n",
    "df_svd_preds.head() # 첫 5개의 값만 출력"
   ]
  },
  {
   "cell_type": "code",
   "execution_count": null,
   "metadata": {
    "colab": {
     "base_uri": "https://localhost:8080/"
    },
    "id": "rSUvggCRDbTo",
    "outputId": "0737e316-fd3a-4829-8687-c657a8f371f0"
   },
   "outputs": [
    {
     "data": {
      "text/plain": [
       "(19303, 28)"
      ]
     },
     "execution_count": 24,
     "metadata": {},
     "output_type": "execute_result"
    }
   ],
   "source": [
    "# df_svd_preds 행렬의 shape 확인\n",
    "df_svd_preds.shape"
   ]
  },
  {
   "cell_type": "code",
   "execution_count": null,
   "metadata": {
    "id": "QZqTsGtFDgYQ"
   },
   "outputs": [],
   "source": [
    "# 영화를 latent 기반 cf로 추천하는 메소드\n",
    "\n",
    "def recommend_movies(df_svd_preds, user_id, ori_movies_df, ori_ratings_df, num_recommendations=5):\n",
    "    # 현재는 index(0부터 시작)로 적용이 되어있으므로 user_id - 1을 해야함\n",
    "    user_row_number = user_id - 1 \n",
    "    \n",
    "    # 최종적으로 만든 pred_df에서 사용자 index에 따라 영화 데이터 정렬 -> 영화 평점이 높은 순으로 정렬 됨\n",
    "    sorted_user_predictions = df_svd_preds.iloc[user_row_number].sort_values(ascending=False)\n",
    "    \n",
    "    # 원본 평점 데이터에서 user id에 해당하는 데이터를 뽑아냄\n",
    "    user_data = ori_ratings_df[ori_ratings_df.USER_ID == user_id]\n",
    "    \n",
    "    # 위에서 뽑은 user_data와 원본 영화 데이터를 합친다. \n",
    "    user_history = user_data.merge(ori_movies_df, on = 'MOVIE_ID').sort_values(['DURATION'], ascending=False)\n",
    "    \n",
    "    # 원본 영화 데이터에서 사용자가 본 영화 데이터를 제외한 데이터를 추출\n",
    "    recommendations = ori_movies_df[~ori_movies_df['MOVIE_ID'].isin(user_history['MOVIE_ID'])]\n",
    "\n",
    "    # 사용자의 영화 평점이 높은 순으로 정렬된 데이터와 위 recommendations을 합함 \n",
    "    recommendations = recommendations.merge( pd.DataFrame(sorted_user_predictions).reset_index(), on = 'MOVIE_ID')\n",
    "    \n",
    "    # 컬럼 이름 바꾸고 정렬해서 return\n",
    "    recommendations = recommendations.rename(columns = {user_row_number: 'Predictions'}).sort_values('Predictions', ascending = False).iloc[:num_recommendations, :]\n",
    "    \n",
    "    # 사용자의 시청 기록과 추천 영화 반환\n",
    "    return user_history, recommendations"
   ]
  },
  {
   "cell_type": "code",
   "execution_count": null,
   "metadata": {
    "colab": {
     "base_uri": "https://localhost:8080/",
     "height": 359
    },
    "id": "2_tK0V8uDoyW",
    "outputId": "836b4ad6-9f89-445e-f2fe-9565f05e0a33"
   },
   "outputs": [
    {
     "data": {
      "text/html": [
       "<div>\n",
       "<style scoped>\n",
       "    .dataframe tbody tr th:only-of-type {\n",
       "        vertical-align: middle;\n",
       "    }\n",
       "\n",
       "    .dataframe tbody tr th {\n",
       "        vertical-align: top;\n",
       "    }\n",
       "\n",
       "    .dataframe thead th {\n",
       "        text-align: right;\n",
       "    }\n",
       "</style>\n",
       "<table border=\"1\" class=\"dataframe\">\n",
       "  <thead>\n",
       "    <tr style=\"text-align: right;\">\n",
       "      <th></th>\n",
       "      <th>USER_ID</th>\n",
       "      <th>MOVIE_ID</th>\n",
       "      <th>DURATION</th>\n",
       "      <th>TITLE</th>\n",
       "    </tr>\n",
       "  </thead>\n",
       "  <tbody>\n",
       "    <tr>\n",
       "      <th>0</th>\n",
       "      <td>270</td>\n",
       "      <td>42</td>\n",
       "      <td>1</td>\n",
       "      <td>천장지구(1990)</td>\n",
       "    </tr>\n",
       "    <tr>\n",
       "      <th>1</th>\n",
       "      <td>270</td>\n",
       "      <td>237</td>\n",
       "      <td>1</td>\n",
       "      <td>어바웃타임</td>\n",
       "    </tr>\n",
       "    <tr>\n",
       "      <th>30</th>\n",
       "      <td>270</td>\n",
       "      <td>14054</td>\n",
       "      <td>1</td>\n",
       "      <td>A-특공대</td>\n",
       "    </tr>\n",
       "    <tr>\n",
       "      <th>29</th>\n",
       "      <td>270</td>\n",
       "      <td>13784</td>\n",
       "      <td>1</td>\n",
       "      <td>로그</td>\n",
       "    </tr>\n",
       "    <tr>\n",
       "      <th>28</th>\n",
       "      <td>270</td>\n",
       "      <td>13519</td>\n",
       "      <td>1</td>\n",
       "      <td>겟썸3</td>\n",
       "    </tr>\n",
       "    <tr>\n",
       "      <th>27</th>\n",
       "      <td>270</td>\n",
       "      <td>13336</td>\n",
       "      <td>1</td>\n",
       "      <td>지금만나러갑니다(2018)</td>\n",
       "    </tr>\n",
       "    <tr>\n",
       "      <th>26</th>\n",
       "      <td>270</td>\n",
       "      <td>12968</td>\n",
       "      <td>1</td>\n",
       "      <td>아이언마스크:용패지미</td>\n",
       "    </tr>\n",
       "    <tr>\n",
       "      <th>25</th>\n",
       "      <td>270</td>\n",
       "      <td>12558</td>\n",
       "      <td>1</td>\n",
       "      <td>검객</td>\n",
       "    </tr>\n",
       "    <tr>\n",
       "      <th>24</th>\n",
       "      <td>270</td>\n",
       "      <td>11674</td>\n",
       "      <td>1</td>\n",
       "      <td>반지의제왕:반지원정대</td>\n",
       "    </tr>\n",
       "    <tr>\n",
       "      <th>23</th>\n",
       "      <td>270</td>\n",
       "      <td>11546</td>\n",
       "      <td>1</td>\n",
       "      <td>세이프(2011)</td>\n",
       "    </tr>\n",
       "  </tbody>\n",
       "</table>\n",
       "</div>"
      ],
      "text/plain": [
       "    USER_ID  MOVIE_ID  DURATION           TITLE\n",
       "0       270        42         1      천장지구(1990)\n",
       "1       270       237         1           어바웃타임\n",
       "30      270     14054         1           A-특공대\n",
       "29      270     13784         1              로그\n",
       "28      270     13519         1             겟썸3\n",
       "27      270     13336         1  지금만나러갑니다(2018)\n",
       "26      270     12968         1     아이언마스크:용패지미\n",
       "25      270     12558         1              검객\n",
       "24      270     11674         1     반지의제왕:반지원정대\n",
       "23      270     11546         1       세이프(2011)"
      ]
     },
     "execution_count": 26,
     "metadata": {},
     "output_type": "execute_result"
    }
   ],
   "source": [
    "# USER_ID 270번에 대해 10개 추천하고 이미 시청한 리스트 확인\n",
    "already_rated, predictions = recommend_movies(df_svd_preds, 270, df_movie, df_test, 10)\n",
    "already_rated.head(10) "
   ]
  },
  {
   "cell_type": "code",
   "execution_count": null,
   "metadata": {
    "colab": {
     "base_uri": "https://localhost:8080/",
     "height": 359
    },
    "id": "8xkOV8PxD8KX",
    "outputId": "4a711de8-35b7-4d03-fdfc-10f03d608793"
   },
   "outputs": [
    {
     "data": {
      "text/html": [
       "<div>\n",
       "<style scoped>\n",
       "    .dataframe tbody tr th:only-of-type {\n",
       "        vertical-align: middle;\n",
       "    }\n",
       "\n",
       "    .dataframe tbody tr th {\n",
       "        vertical-align: top;\n",
       "    }\n",
       "\n",
       "    .dataframe thead th {\n",
       "        text-align: right;\n",
       "    }\n",
       "</style>\n",
       "<table border=\"1\" class=\"dataframe\">\n",
       "  <thead>\n",
       "    <tr style=\"text-align: right;\">\n",
       "      <th></th>\n",
       "      <th>MOVIE_ID</th>\n",
       "      <th>TITLE</th>\n",
       "      <th>Predictions</th>\n",
       "    </tr>\n",
       "  </thead>\n",
       "  <tbody>\n",
       "    <tr>\n",
       "      <th>24</th>\n",
       "      <td>14282</td>\n",
       "      <td>삼진그룹영어토익반</td>\n",
       "      <td>0.989920</td>\n",
       "    </tr>\n",
       "    <tr>\n",
       "      <th>21</th>\n",
       "      <td>11845</td>\n",
       "      <td>런</td>\n",
       "      <td>0.069371</td>\n",
       "    </tr>\n",
       "    <tr>\n",
       "      <th>16</th>\n",
       "      <td>7874</td>\n",
       "      <td>해피엔드</td>\n",
       "      <td>0.013815</td>\n",
       "    </tr>\n",
       "    <tr>\n",
       "      <th>12</th>\n",
       "      <td>6094</td>\n",
       "      <td>어디갔어,버나뎃</td>\n",
       "      <td>0.008760</td>\n",
       "    </tr>\n",
       "    <tr>\n",
       "      <th>15</th>\n",
       "      <td>7421</td>\n",
       "      <td>콜래트럴(2004)</td>\n",
       "      <td>0.007986</td>\n",
       "    </tr>\n",
       "    <tr>\n",
       "      <th>20</th>\n",
       "      <td>11538</td>\n",
       "      <td>나이브스아웃</td>\n",
       "      <td>0.005999</td>\n",
       "    </tr>\n",
       "    <tr>\n",
       "      <th>27</th>\n",
       "      <td>14516</td>\n",
       "      <td>빅매치</td>\n",
       "      <td>0.004110</td>\n",
       "    </tr>\n",
       "    <tr>\n",
       "      <th>0</th>\n",
       "      <td>579</td>\n",
       "      <td>담보</td>\n",
       "      <td>0.004059</td>\n",
       "    </tr>\n",
       "    <tr>\n",
       "      <th>22</th>\n",
       "      <td>12364</td>\n",
       "      <td>테넷</td>\n",
       "      <td>0.003891</td>\n",
       "    </tr>\n",
       "    <tr>\n",
       "      <th>26</th>\n",
       "      <td>14489</td>\n",
       "      <td>더레이서</td>\n",
       "      <td>0.001929</td>\n",
       "    </tr>\n",
       "  </tbody>\n",
       "</table>\n",
       "</div>"
      ],
      "text/plain": [
       "    MOVIE_ID       TITLE  Predictions\n",
       "24     14282   삼진그룹영어토익반     0.989920\n",
       "21     11845           런     0.069371\n",
       "16      7874        해피엔드     0.013815\n",
       "12      6094    어디갔어,버나뎃     0.008760\n",
       "15      7421  콜래트럴(2004)     0.007986\n",
       "20     11538      나이브스아웃     0.005999\n",
       "27     14516         빅매치     0.004110\n",
       "0        579          담보     0.004059\n",
       "22     12364          테넷     0.003891\n",
       "26     14489        더레이서     0.001929"
      ]
     },
     "execution_count": 27,
     "metadata": {},
     "output_type": "execute_result"
    }
   ],
   "source": [
    "# 아직 보지 않은 영화로 10개 추천한 리스트 확인\n",
    "predictions"
   ]
  },
  {
   "cell_type": "markdown",
   "metadata": {
    "id": "Ehc5VjdB-YBf"
   },
   "source": [
    "## 4. 추천 알고리즘 결과 평가하기\n",
    "---\n",
    "\n",
    "추천 알고리즘의 성능을 평가하기 위하여 `mAP`와 `Entropy Diversity`, `nDCG`를 이해하고 실행해봅니다."
   ]
  },
  {
   "cell_type": "markdown",
   "metadata": {
    "id": "wKZ6RgKR-YBf"
   },
   "source": [
    "### 4.1 mAP 구현하기\n",
    "---\n",
    "\n",
    "`mAP` (mean Average Precision)은 추천 알고리즘의 정답 비율의 평균을 계산한 값입니다.\n",
    "\n",
    "아래 코드는 `mAP`를 간략히 구현한 메소드입니다. 추천 결과를 입력으로 넣으면 평균을 구하여 `mAP`에 저장 후 리턴합니다."
   ]
  },
  {
   "cell_type": "code",
   "execution_count": null,
   "metadata": {
    "id": "ph7VsjzpKavd"
   },
   "outputs": [],
   "source": [
    "# mean Average Precision\n",
    "def mAP(result):\n",
    "    ap = 0\n",
    "    \n",
    "    # 각 사용자의 AP(Average Precision)의 합을 구합니다\n",
    "    for r in result:\n",
    "        ap += r['AP']\n",
    "    \n",
    "    # AP의 합을 사용자의 수로 나누어 mAP를 구합니다\n",
    "    mAP = ap / len(result)\n",
    "    \n",
    "    return mAP"
   ]
  },
  {
   "cell_type": "markdown",
   "metadata": {},
   "source": [
    "### 4.2 Entropy Diversity 구현하기\n",
    "---\n",
    "\n",
    "`Entropy Diversity`를 통해 추천 알고리즘이 얼마나 다양한 영화 장르를 추천했는지 평가합니다.\n",
    "\n",
    "아래 코드는 `Entropy Diversity`를 계산하는 간단한 예제 코드입니다. 추천 영화의 장르 목록을 입력으로 넣으면 다양성을 계산한 값을 리턴합니다."
   ]
  },
  {
   "cell_type": "code",
   "execution_count": 1,
   "metadata": {},
   "outputs": [
    {
     "name": "stdout",
     "output_type": "stream",
     "text": [
      "1.1669366259497473\n",
      "1.376055285260417\n"
     ]
    }
   ],
   "source": [
    "from math import log as ln\n",
    "\n",
    "# Entropy Diversity\n",
    "def diversity(dict_recommended):\n",
    "    def p(n, N):\n",
    "        if n == 0:\n",
    "            return 0\n",
    "        else:\n",
    "            return (float(n) / N) * ln(float(n) / N)\n",
    "    N = sum(dict_recommended.values())\n",
    "\n",
    "    return -sum(p(n, N) for n in dict_recommended.values() if n != 0)\n",
    "\n",
    "# Entropy Diversity를 계산해 봅니다\n",
    "# 값이 클수록 더 다양한 상품을 추천한 것을 의미합니다\n",
    "print(diversity({'act': 2, 'sf': 10, 'com': 10, 'thr': 5, 'spo': 10, 'mel': 100, 'rel': 10}))\n",
    "print(diversity({'act': 30, 'sf': 40, 'com': 40, 'mel': 30}))"
   ]
  },
  {
   "cell_type": "markdown",
   "metadata": {},
   "source": [
    "결과를 살펴보면 두 번째 목록이 좀 더 다양한 영화를 추천한 것을 확인할 수 있습니다."
   ]
  },
  {
   "cell_type": "markdown",
   "metadata": {
    "id": "O6ON_KTb-YBg"
   },
   "source": [
    "### 4.3 nDCG 구현하기\n",
    "---\n",
    "\n",
    "`nDCG`(normalized Discounted Cumulative Gain)는 랭킹 기반 추천 시스템에 주로 쓰이는 평가지표로, 추천 영화의 순서에 따라 추천 알고리즘을 평가합니다.\n",
    "\n",
    "아래 코드는 `nDCG`를 구현한 메소드입니다. \n",
    "\n",
    "입력 변수를 `linear`, `exponetial`의 파라미터로 주어 어떤 식으로 `nDCG`를 계산할지 정할 수 있도록 하였습니다."
   ]
  },
  {
   "cell_type": "markdown",
   "metadata": {
    "id": "M9uX_m0s-YBg"
   },
   "source": [
    "입력 값은 다음과 같습니다.\n",
    "- `rel_true`: 1차원 배열이며 특정 사용자가 본 영화 목록\n",
    "- `rel_pred`: 1차원 배열이며 특정 사용자에게 추천 시스템이 추천한 영화 목록\n",
    "- `p`: 십진 정수이며 몇개를 추천할지 나타냄\n",
    "- `form`: 스트링이며 `nDCG`를 계산할 때, `linear`, `exp.` 중 어떤 것을 사용할지 정함 (default는 `linear`)"
   ]
  },
  {
   "cell_type": "code",
   "execution_count": 1,
   "metadata": {},
   "outputs": [],
   "source": [
    "import numpy as np\n",
    "\n",
    "# rel_true: 1D array, relevance lists for paticual user, # of movies\n",
    "# rel_pred: 1D array, predicted relevance lists, # of pred\n",
    "# p: int, particular rank position\n",
    "# form: string, two types of nDCG formula, linear/exp.\n",
    "\n",
    "def ndcg(rel_true, rel_pred, p=None, form=\"linear\"):\n",
    "    rel_true = np.sort(rel_true)[::-1]\n",
    "    p = min(len(rel_true), min(len(rel_pred), p))\n",
    "    \n",
    "    # 랭킹 순서에 따라 점점 비중을 줄여서 관련도를 계산\n",
    "    discount = 1 / (np.log2(np.arange(p) + 2))\n",
    "\n",
    "    # linear 계산식\n",
    "    if form == \"linear\":\n",
    "        idcg = np.sum(rel_true[:p] * discount)\n",
    "        dcg = np.sum(rel_pred[:p] * discount)\n",
    "    # exponential 계산식\n",
    "    elif form == \"exponential\" or form == \"exp\":\n",
    "        idcg = np.sum([2**x - 1 for x in rel_true[:p]] * discount)\n",
    "        dcg = np.sum([2**x - 1 for x in rel_pred[:p]] * discount)\n",
    "    # 그 외의 경우는 에러 처리\n",
    "    else:\n",
    "        raise ValueError(\"Only supported for two formula, 'linear' or 'exp'\")\n",
    "\n",
    "    # 정규화된 평가지표 반환\n",
    "    return dcg / idcg"
   ]
  },
  {
   "cell_type": "markdown",
   "metadata": {},
   "source": [
    "위의 `nDCG` 메소드를 적용하여 추천 알고리즘을 평가합니다."
   ]
  },
  {
   "cell_type": "code",
   "execution_count": null,
   "metadata": {
    "id": "xPPxdyGwJrfE",
    "outputId": "65e15503-dcf2-4bf5-890c-ecc474d96a6d"
   },
   "outputs": [
    {
     "name": "stdout",
     "output_type": "stream",
     "text": [
      "====USER1===\n",
      "S1 nDCG@5 (linear): 0.8232936061974518\n",
      "S2 nDCG@5 (linear): 0.8793791209851007\n",
      "S1 nDCG@5 (exponential): 0.7406319169800546\n",
      "S2 nDCG@5 (exponential): 0.911476869939315\n",
      "====USER2===\n",
      "S1 nDCG@5 (linear): 0.8241067540896558\n",
      "S2 nDCG@5 (linear): 0.864255024163802\n",
      "S1 nDCG@5 (exponential): 0.7200216168193889\n",
      "S2 nDCG@5 (exponential): 0.821434096248145\n",
      "====USER3===\n",
      "S1 nDCG@5 (linear): 0.6850898875992608\n",
      "S2 nDCG@5 (linear): 0.867837452040598\n",
      "S1 nDCG@5 (exponential): 0.6922758990315323\n",
      "S2 nDCG@5 (exponential): 0.826208951093206\n"
     ]
    }
   ],
   "source": [
    "# simple example of nDCG\n",
    "if __name__ == \"__main__\":\n",
    "    song_index = {'A': 0, 'B': 1, 'C': 2, 'D': 3, 'E': 4,\n",
    "                  'F': 5, 'G': 6, 'H': 7, 'I': 8}\n",
    "    user_lists = [\"USER1\", \"USER2\", \"USER3\"]\n",
    "\n",
    "    # 각 사용자의 실제 플레이리스트\n",
    "    relevance_true = {\n",
    "        \"USER1\": [3, 3, 2, 2, 1, 1, 0, 0, 0],\n",
    "        \"USER2\": [3, 2, 1, 1, 2, 0, 1, 1, 1],\n",
    "        \"USER3\": [0, 1, 0, 1, 2, 3, 3, 1, 0]\n",
    "    }\n",
    "\n",
    "    # 추천 예시 1\n",
    "    s1_prediction = {\n",
    "        \"USER1\": ['A', 'E', 'C', 'D', 'F'],\n",
    "        \"USER2\": ['G', 'E', 'A', 'B', 'D'],\n",
    "        \"USER3\": ['C', 'G', 'F', 'B', 'E']\n",
    "    }\n",
    "\n",
    "    # 추천 예시 2\n",
    "    s2_prediction = {\n",
    "        \"USER1\": ['A', 'B', 'C', 'G', 'E'],\n",
    "        \"USER2\": ['B', 'A', 'G', 'E', 'F'],\n",
    "        \"USER3\": ['E', 'G', 'F', 'B', 'I']      \n",
    "    }\n",
    "\n",
    "    # 각 사용자별 추천 결과 nDCG 평가\n",
    "    for user in user_lists:\n",
    "        print(f'===={user}===')\n",
    "        r_true = relevance_true[user]\n",
    "\n",
    "        s1_pred = [r_true[song_index[song]] for song in s1_prediction[user]]\n",
    "        s2_pred = [r_true[song_index[song]] for song in s2_prediction[user]]\n",
    "   \n",
    "        # linear nDCG 계산\n",
    "        print(f'S1 nDCG@5 (linear): {ndcg(r_true, s1_pred, 5, \"linear\")}')\n",
    "        print(f'S2 nDCG@5 (linear): {ndcg(r_true, s2_pred, 5, \"linear\")}')\n",
    "        \n",
    "        # exponential nDCG 계산\n",
    "        print(f'S1 nDCG@5 (exponential): {ndcg(r_true, s1_pred, 5, \"exp\")}')\n",
    "        print(f'S2 nDCG@5 (exponential): {ndcg(r_true, s2_pred, 5, \"exp\")}')"
   ]
  },
  {
   "cell_type": "markdown",
   "metadata": {},
   "source": [
    "`nDCG`의 값이 클수록 올바른 순서로 상품을 추천했다는 의미입니다.\n",
    "\n",
    "위의 결과값을 살펴보면 두 번째 추천 목록이 모든 사용자에 대해 더 높은 `nDCG` 값을 가지므로 더 좋은 추천 목록이라 평가할 수 있습니다."
   ]
  },
  {
   "cell_type": "markdown",
   "metadata": {
    "id": "gZ278rGo-YBh"
   },
   "source": [
    "---"
   ]
  }
 ],
 "metadata": {
  "colab": {
   "collapsed_sections": [],
   "name": "[프로젝트4] SKB Btv 영화 데이터 추천 알고리즘 적용 및 평가하기.ipynb",
   "provenance": []
  },
  "kernelspec": {
   "display_name": "Python 3",
   "language": "python",
   "name": "python3"
  },
  "language_info": {
   "codemirror_mode": {
    "name": "ipython",
    "version": 3
   },
   "file_extension": ".py",
   "mimetype": "text/x-python",
   "name": "python",
   "nbconvert_exporter": "python",
   "pygments_lexer": "ipython3",
   "version": "3.8.6"
  }
 },
 "nbformat": 4,
 "nbformat_minor": 4
}
