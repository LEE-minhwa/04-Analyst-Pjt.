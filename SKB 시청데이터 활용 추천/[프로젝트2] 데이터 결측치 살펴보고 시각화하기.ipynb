{
 "cells": [
  {
   "cell_type": "markdown",
   "metadata": {
    "id": "-rxt9bMf3orJ"
   },
   "source": [
    "# [프로젝트2] 데이터 결측치 살펴보고 시각화하기\n"
   ]
  },
  {
   "cell_type": "markdown",
   "metadata": {
    "id": "cd1BSD6-4pDT"
   },
   "source": [
    "---"
   ]
  },
  {
   "cell_type": "markdown",
   "metadata": {
    "id": "BG_0zjG13zZy"
   },
   "source": [
    "\n",
    "## 프로젝트 목표\n",
    "---\n",
    "- 프로젝트에 활용할 데이터셋에서 결측치 존재 여부를 확인합니다. \n",
    "- 데이터의 분포를 boxplot 시각화를 통해 확인합니다. "
   ]
  },
  {
   "cell_type": "markdown",
   "metadata": {
    "id": "pS7RvUWi5vJe"
   },
   "source": [
    "## 프로젝트 목차\n",
    "---\n",
    "\n",
    "1. **데이터 불러오기:** 4개의 csv 데이터를 불러옵니다.\n",
    "\n",
    "2. **데이터 결측치 확인하고 시각화하기:** movie, views, question, test 데이터의 결측치의 개수와 시각화(boxplot)를 통한 데이터의 분포를 확인합니다. "
   ]
  },
  {
   "cell_type": "markdown",
   "metadata": {
    "id": "K-rxhtJI5_D2",
    "jp-MarkdownHeadingCollapsed": true,
    "tags": []
   },
   "source": [
    "## 프로젝트 개요\n",
    "---\n",
    "\n",
    "4개의 데이터(movie, views, question, test)에 존재하는 결측치의 개수를 확인하고 시각화(boxplot)를 통해 데이터의 분포를 이해합니다."
   ]
  },
  {
   "cell_type": "markdown",
   "metadata": {
    "id": "0kOsIuLd6EA9"
   },
   "source": [
    "## 1. 데이터 불러오기\n",
    "---\n",
    "\n",
    "판다스 데이터 프레임 형태로 movie, views, question, test 데이터들을 불러들입니다."
   ]
  },
  {
   "cell_type": "code",
   "execution_count": null,
   "metadata": {
    "colab": {
     "base_uri": "https://localhost:8080/"
    },
    "id": "YGoOOw6lys6u",
    "outputId": "14545a79-7b8b-4636-8d10-c9c090f48372"
   },
   "outputs": [
    {
     "name": "stderr",
     "output_type": "stream",
     "text": [
      "/usr/local/lib/python3.7/dist-packages/IPython/core/interactiveshell.py:2718: DtypeWarning: Columns (0,1,2,3,4) have mixed types.Specify dtype option on import or set low_memory=False.\n",
      "  interactivity=interactivity, compiler=compiler, result=result)\n",
      "/usr/local/lib/python3.7/dist-packages/IPython/core/interactiveshell.py:2718: DtypeWarning: Columns (0,1) have mixed types.Specify dtype option on import or set low_memory=False.\n",
      "  interactivity=interactivity, compiler=compiler, result=result)\n"
     ]
    }
   ],
   "source": [
    "# 판다스 라이브러리 사용을 위해\n",
    "import pandas as pd\n",
    "\n",
    "# 데이터 로드 (header=None은 컬럼 이름이 없다는 뜻입니다)\n",
    "df_movie = pd.read_csv('/mnt/data/chapter_4/MYSUNI_MOVIES.csv', header=None)\n",
    "df_views = pd.read_csv('/mnt/data/chapter_4/MYSUNI_VIEWS.csv', header=None)\n",
    "df_question = pd.read_csv('/mnt/data/chapter_4/MYSUNI_QUESTION.csv', header=None)\n",
    "df_test = pd.read_csv('/mnt/data/chapter_4/MYSUNI_TEST.csv', header=None)"
   ]
  },
  {
   "cell_type": "markdown",
   "metadata": {
    "id": "jfUJC_zh6tph"
   },
   "source": [
    "## 2. 데이터 결측치 확인하고 시각화하기\n",
    "---\n",
    "\n",
    "불러온 4개 데이터에 대해 결측치의 개수를 확인하고, 시각화(boxplot)를 통해 데이터의 분포를 이해합니다."
   ]
  },
  {
   "cell_type": "markdown",
   "metadata": {
    "id": "471BvUaaTr5Z"
   },
   "source": [
    "### 2.1 결측치 개수 확인하기\n",
    "---\n",
    "\n",
    "`isnull()`과 `sum()` 메소드를 사용하여 각 데이터의 결측(null)을 카운트합니다.\n",
    "- `isnull()`은 결측치의 존재 여부를 확인하는 메소드로, 관측치가 결측이면 True, 아니면 False 값을 반환합니다.\n",
    "- `sum()`은 합을 계산하는 메소드로, 결측치의 개수를 세기 위해 사용할 수 있습니다.\n",
    "\n",
    "본 자료는 정제된 자료이므로 결측치 개수는 0으로 확인됩니다.\n",
    "\n",
    "### [TODO] 데이터 결측치의 개수를 확인하는 코드를 작성합니다.\n",
    "- 영화 정보 (movie)\n",
    "- 관람 정보 (views)\n",
    "- 문제 정보 (question)\n",
    "- 답안 정보 (test)"
   ]
  },
  {
   "cell_type": "code",
   "execution_count": null,
   "metadata": {
    "colab": {
     "base_uri": "https://localhost:8080/"
    },
    "id": "DgEjnQSR0eii",
    "outputId": "61546bbb-0156-418c-cac7-ccf8d97a515f"
   },
   "outputs": [
    {
     "data": {
      "text/plain": [
       "0    0\n",
       "1    0\n",
       "2    0\n",
       "dtype: int64"
      ]
     },
     "execution_count": 4,
     "metadata": {},
     "output_type": "execute_result"
    }
   ],
   "source": [
    "# 데이터의 결측 살펴보기 (movie)\n",
    "\n",
    "df_movie.isnull().sum()"
   ]
  },
  {
   "cell_type": "markdown",
   "metadata": {},
   "source": [
    "각 열에는 결측치가 없는 것을 확인할 수 있습니다."
   ]
  },
  {
   "cell_type": "code",
   "execution_count": null,
   "metadata": {
    "colab": {
     "base_uri": "https://localhost:8080/"
    },
    "id": "dWR3eViW0lhs",
    "outputId": "515cf8ad-0284-4fab-8f47-bd059bbdbec8"
   },
   "outputs": [
    {
     "data": {
      "text/plain": [
       "0    0\n",
       "1    0\n",
       "2    0\n",
       "3    0\n",
       "4    0\n",
       "dtype: int64"
      ]
     },
     "execution_count": 5,
     "metadata": {},
     "output_type": "execute_result"
    }
   ],
   "source": [
    "# 데이터의 결측 살펴보기 (views)\n",
    "\n",
    "df_views.isnull().sum()"
   ]
  },
  {
   "cell_type": "code",
   "execution_count": null,
   "metadata": {
    "colab": {
     "base_uri": "https://localhost:8080/"
    },
    "id": "4KUwLa8j0pdZ",
    "outputId": "bbbd0e29-0c2c-4426-935c-18d5aec04767"
   },
   "outputs": [
    {
     "data": {
      "text/plain": [
       "0    0\n",
       "1    0\n",
       "2    0\n",
       "3    0\n",
       "4    0\n",
       "dtype: int64"
      ]
     },
     "execution_count": 6,
     "metadata": {},
     "output_type": "execute_result"
    }
   ],
   "source": [
    "# 데이터의 결측 살펴보기 (question)\n",
    "\n",
    "df_question.isnull().sum()"
   ]
  },
  {
   "cell_type": "code",
   "execution_count": null,
   "metadata": {
    "colab": {
     "base_uri": "https://localhost:8080/"
    },
    "id": "MIuzHWoT0tq4",
    "outputId": "b069e943-4198-4d5e-f81c-b894c75e8479"
   },
   "outputs": [
    {
     "data": {
      "text/plain": [
       "0    0\n",
       "1    0\n",
       "2    0\n",
       "dtype: int64"
      ]
     },
     "execution_count": 7,
     "metadata": {},
     "output_type": "execute_result"
    }
   ],
   "source": [
    "# 데이터의 결측 살펴보기 (test)\n",
    "\n",
    "df_test.isnull().sum()"
   ]
  },
  {
   "cell_type": "markdown",
   "metadata": {
    "id": "Ice3n3754pDa"
   },
   "source": [
    "### 2.2 영화 정보에 대해 전처리 및 시각화하기\n",
    "---\n",
    "\n",
    "영화 정보에 대해 전처리 및 시각화를 진행하기 위하여 먼저 데이터 프레임의 이름(`df_movie`)을 입력하여 각 데이터의 구성을 살펴볼 수 있습니다. \n",
    "\n",
    "잘 정제된 데이터들이므로 간단히 박스플롯(boxplot)으로 데이터의 분포를 살펴봅니다."
   ]
  },
  {
   "cell_type": "code",
   "execution_count": null,
   "metadata": {
    "colab": {
     "base_uri": "https://localhost:8080/",
     "height": 419
    },
    "id": "rV6pW1_B0y9V",
    "outputId": "e72b03bf-2a69-4472-9323-2223aeb8200d"
   },
   "outputs": [
    {
     "data": {
      "text/html": [
       "<div>\n",
       "<style scoped>\n",
       "    .dataframe tbody tr th:only-of-type {\n",
       "        vertical-align: middle;\n",
       "    }\n",
       "\n",
       "    .dataframe tbody tr th {\n",
       "        vertical-align: top;\n",
       "    }\n",
       "\n",
       "    .dataframe thead th {\n",
       "        text-align: right;\n",
       "    }\n",
       "</style>\n",
       "<table border=\"1\" class=\"dataframe\">\n",
       "  <thead>\n",
       "    <tr style=\"text-align: right;\">\n",
       "      <th></th>\n",
       "      <th>0</th>\n",
       "      <th>1</th>\n",
       "      <th>2</th>\n",
       "    </tr>\n",
       "  </thead>\n",
       "  <tbody>\n",
       "    <tr>\n",
       "      <th>0</th>\n",
       "      <td>MOVIE_ID</td>\n",
       "      <td>TITLE</td>\n",
       "      <td>RELEASE_MONTH</td>\n",
       "    </tr>\n",
       "    <tr>\n",
       "      <th>1</th>\n",
       "      <td>0</td>\n",
       "      <td>걸어서하늘까지(1992)</td>\n",
       "      <td>202103</td>\n",
       "    </tr>\n",
       "    <tr>\n",
       "      <th>2</th>\n",
       "      <td>1</td>\n",
       "      <td>너와극장에서</td>\n",
       "      <td>201807</td>\n",
       "    </tr>\n",
       "    <tr>\n",
       "      <th>3</th>\n",
       "      <td>2</td>\n",
       "      <td>가려진시간[가치봄]</td>\n",
       "      <td>202010</td>\n",
       "    </tr>\n",
       "    <tr>\n",
       "      <th>4</th>\n",
       "      <td>3</td>\n",
       "      <td>그링고</td>\n",
       "      <td>202003</td>\n",
       "    </tr>\n",
       "    <tr>\n",
       "      <th>...</th>\n",
       "      <td>...</td>\n",
       "      <td>...</td>\n",
       "      <td>...</td>\n",
       "    </tr>\n",
       "    <tr>\n",
       "      <th>14594</th>\n",
       "      <td>14593</td>\n",
       "      <td>영웅:샐러멘더의비밀[감독판]</td>\n",
       "      <td>201309</td>\n",
       "    </tr>\n",
       "    <tr>\n",
       "      <th>14595</th>\n",
       "      <td>14594</td>\n",
       "      <td>더로버</td>\n",
       "      <td>201505</td>\n",
       "    </tr>\n",
       "    <tr>\n",
       "      <th>14596</th>\n",
       "      <td>14595</td>\n",
       "      <td>메디엄</td>\n",
       "      <td>201410</td>\n",
       "    </tr>\n",
       "    <tr>\n",
       "      <th>14597</th>\n",
       "      <td>14596</td>\n",
       "      <td>그린북</td>\n",
       "      <td>201903</td>\n",
       "    </tr>\n",
       "    <tr>\n",
       "      <th>14598</th>\n",
       "      <td>14597</td>\n",
       "      <td>얼라이브(2015)</td>\n",
       "      <td>201704</td>\n",
       "    </tr>\n",
       "  </tbody>\n",
       "</table>\n",
       "<p>14599 rows × 3 columns</p>\n",
       "</div>"
      ],
      "text/plain": [
       "              0                1              2\n",
       "0      MOVIE_ID            TITLE  RELEASE_MONTH\n",
       "1             0    걸어서하늘까지(1992)         202103\n",
       "2             1           너와극장에서         201807\n",
       "3             2       가려진시간[가치봄]         202010\n",
       "4             3              그링고         202003\n",
       "...         ...              ...            ...\n",
       "14594     14593  영웅:샐러멘더의비밀[감독판]         201309\n",
       "14595     14594              더로버         201505\n",
       "14596     14595              메디엄         201410\n",
       "14597     14596              그린북         201903\n",
       "14598     14597       얼라이브(2015)         201704\n",
       "\n",
       "[14599 rows x 3 columns]"
      ]
     },
     "execution_count": 8,
     "metadata": {},
     "output_type": "execute_result"
    }
   ],
   "source": [
    "# 영화 정보의 구성\n",
    "\n",
    "df_movie"
   ]
  },
  {
   "cell_type": "markdown",
   "metadata": {},
   "source": [
    "`df_movie`를 살펴보면 첫 행에 각 열의 이름이 있으므로 첫 행을 지운 후 나머지 데이터를 사용합니다. 각 열의 이름은 새로 정합니다."
   ]
  },
  {
   "cell_type": "code",
   "execution_count": null,
   "metadata": {
    "id": "AdN3wAqx08Sl"
   },
   "outputs": [],
   "source": [
    "# 첫 행을 지우기\n",
    "df_movie.drop(index=0, inplace=True)\n",
    "\n",
    "# 열 이름 정하기\n",
    "df_movie.columns = ['MOVIE_ID', 'TITLE', 'RELEASE_MONTH']"
   ]
  },
  {
   "cell_type": "markdown",
   "metadata": {
    "id": "KX9fZo8u4pDb"
   },
   "source": [
    "`matplotlib.pyplot`을 사용하여 박스플롯을 그려봅니다.\n",
    "\n",
    "### [TODO] 영화 정보의 컬럼들을 박스플롯으로 그려봅니다.\n",
    "- `MOVIE_ID`를 `int` 형으로 변경한 후에 박스플롯(boxplot)으로 그려봅니다.\n",
    "- `RELEASE_MONTH`를 `int` 형으로 변경한 후에 박스플롯(boxplot)으로 그려봅니다.\n",
    "\n",
    "**Tips**: 데이터 프레임의 자료형을 바꿀 때는 `df.astype({컬럼 : 자료형})` 메소드를 사용할 수 있습니다."
   ]
  },
  {
   "cell_type": "code",
   "execution_count": null,
   "metadata": {
    "colab": {
     "base_uri": "https://localhost:8080/",
     "height": 265
    },
    "id": "S5D-qX_q1s9f",
    "outputId": "30222b1f-4505-429b-c3e7-32a41b7cf614"
   },
   "outputs": [
    {
     "data": {
      "image/png": "[encoded data removed]",
      "text/plain": [
       "<Figure size 432x288 with 1 Axes>"
      ]
     },
     "metadata": {
      "needs_background": "light"
     },
     "output_type": "display_data"
    }
   ],
   "source": [
    "# 박스플롯을 그리기 (MOVIE_ID)\n",
    "import matplotlib.pyplot as plt # 라이브러리 불러오기\n",
    "\n",
    "plt.boxplot(df_movie.astype({'MOVIE_ID':'int'})['MOVIE_ID'])\n",
    "plt.show()"
   ]
  },
  {
   "cell_type": "markdown",
   "metadata": {},
   "source": [
    "위 박스플롯을 살펴보면 `MOVIE_ID`는 0번부터 마지막 번호까지 균일하게 분포되어 있는 것을 확인할 수 있습니다."
   ]
  },
  {
   "cell_type": "code",
   "execution_count": null,
   "metadata": {
    "colab": {
     "base_uri": "https://localhost:8080/",
     "height": 265
    },
    "id": "ktWjXzqM2Kee",
    "outputId": "b032af92-50ef-40b0-b41f-1d8aee4bba60"
   },
   "outputs": [
    {
     "data": {
      "image/png": "[encoded data removed]",
      "text/plain": [
       "<Figure size 432x288 with 1 Axes>"
      ]
     },
     "metadata": {
      "needs_background": "light"
     },
     "output_type": "display_data"
    }
   ],
   "source": [
    "# 박스플롯을 그리기 (RELEASE_MONTH)\n",
    "\n",
    "plt.boxplot(df_movie.astype({'RELEASE_MONTH':'int'})['RELEASE_MONTH'])\n",
    "plt.show()"
   ]
  },
  {
   "cell_type": "markdown",
   "metadata": {},
   "source": [
    "y축을 살펴보면 `RELEASE_MONTH`를 `int`로 나타냈기 때문에 실제로 존재하지 않는 날짜도 포함되어 있는 것을 확인할 수 있습니다.\n",
    "\n",
    "전체적인 분포를 보아 비교적 최신 영화가 많은 것을 알 수 있습니다."
   ]
  },
  {
   "cell_type": "markdown",
   "metadata": {
    "id": "PnKSQ5MT4pDc"
   },
   "source": [
    "### 2.2 시청 정보에 대해 전처리 및 시각화하기\n",
    "---\n",
    "\n",
    "시청 정보에 대해 전처리 및 시각화를 진행하기 위하여 데이터 프레임의 이름(`df_views`)을 입력하여 각 데이터의 구성을 살펴볼 수 있습니다. \n",
    "\n",
    "잘 정제된 데이터들이므로 간단히 박스플롯(boxplot)으로 데이터의 분포를 살펴봅니다."
   ]
  },
  {
   "cell_type": "code",
   "execution_count": null,
   "metadata": {
    "colab": {
     "base_uri": "https://localhost:8080/",
     "height": 419
    },
    "id": "xASmm8zG2PW-",
    "outputId": "b0a47873-48f9-4bcc-b089-f3109528b3f6"
   },
   "outputs": [
    {
     "data": {
      "text/html": [
       "<div>\n",
       "<style scoped>\n",
       "    .dataframe tbody tr th:only-of-type {\n",
       "        vertical-align: middle;\n",
       "    }\n",
       "\n",
       "    .dataframe tbody tr th {\n",
       "        vertical-align: top;\n",
       "    }\n",
       "\n",
       "    .dataframe thead th {\n",
       "        text-align: right;\n",
       "    }\n",
       "</style>\n",
       "<table border=\"1\" class=\"dataframe\">\n",
       "  <thead>\n",
       "    <tr style=\"text-align: right;\">\n",
       "      <th></th>\n",
       "      <th>0</th>\n",
       "      <th>1</th>\n",
       "      <th>2</th>\n",
       "      <th>3</th>\n",
       "      <th>4</th>\n",
       "    </tr>\n",
       "  </thead>\n",
       "  <tbody>\n",
       "    <tr>\n",
       "      <th>0</th>\n",
       "      <td>USER_ID</td>\n",
       "      <td>MOVIE_ID</td>\n",
       "      <td>DURATION</td>\n",
       "      <td>WATCH_DAY</td>\n",
       "      <td>WATCH_SEQ</td>\n",
       "    </tr>\n",
       "    <tr>\n",
       "      <th>1</th>\n",
       "      <td>0</td>\n",
       "      <td>11587</td>\n",
       "      <td>1</td>\n",
       "      <td>20210110</td>\n",
       "      <td>1</td>\n",
       "    </tr>\n",
       "    <tr>\n",
       "      <th>2</th>\n",
       "      <td>0</td>\n",
       "      <td>7240</td>\n",
       "      <td>116</td>\n",
       "      <td>20210117</td>\n",
       "      <td>1</td>\n",
       "    </tr>\n",
       "    <tr>\n",
       "      <th>3</th>\n",
       "      <td>0</td>\n",
       "      <td>9669</td>\n",
       "      <td>117</td>\n",
       "      <td>20210124</td>\n",
       "      <td>1</td>\n",
       "    </tr>\n",
       "    <tr>\n",
       "      <th>4</th>\n",
       "      <td>0</td>\n",
       "      <td>9669</td>\n",
       "      <td>1</td>\n",
       "      <td>20210124</td>\n",
       "      <td>2</td>\n",
       "    </tr>\n",
       "    <tr>\n",
       "      <th>...</th>\n",
       "      <td>...</td>\n",
       "      <td>...</td>\n",
       "      <td>...</td>\n",
       "      <td>...</td>\n",
       "      <td>...</td>\n",
       "    </tr>\n",
       "    <tr>\n",
       "      <th>11640815</th>\n",
       "      <td>223759</td>\n",
       "      <td>7207</td>\n",
       "      <td>28</td>\n",
       "      <td>20210630</td>\n",
       "      <td>20</td>\n",
       "    </tr>\n",
       "    <tr>\n",
       "      <th>11640816</th>\n",
       "      <td>223759</td>\n",
       "      <td>9966</td>\n",
       "      <td>1</td>\n",
       "      <td>20210630</td>\n",
       "      <td>21</td>\n",
       "    </tr>\n",
       "    <tr>\n",
       "      <th>11640817</th>\n",
       "      <td>223759</td>\n",
       "      <td>7207</td>\n",
       "      <td>1</td>\n",
       "      <td>20210630</td>\n",
       "      <td>22</td>\n",
       "    </tr>\n",
       "    <tr>\n",
       "      <th>11640818</th>\n",
       "      <td>223759</td>\n",
       "      <td>9945</td>\n",
       "      <td>49</td>\n",
       "      <td>20210630</td>\n",
       "      <td>23</td>\n",
       "    </tr>\n",
       "    <tr>\n",
       "      <th>11640819</th>\n",
       "      <td>223759</td>\n",
       "      <td>7673</td>\n",
       "      <td>1</td>\n",
       "      <td>20210630</td>\n",
       "      <td>24</td>\n",
       "    </tr>\n",
       "  </tbody>\n",
       "</table>\n",
       "<p>11640820 rows × 5 columns</p>\n",
       "</div>"
      ],
      "text/plain": [
       "                0         1         2          3          4\n",
       "0         USER_ID  MOVIE_ID  DURATION  WATCH_DAY  WATCH_SEQ\n",
       "1               0     11587         1   20210110          1\n",
       "2               0      7240       116   20210117          1\n",
       "3               0      9669       117   20210124          1\n",
       "4               0      9669         1   20210124          2\n",
       "...           ...       ...       ...        ...        ...\n",
       "11640815   223759      7207        28   20210630         20\n",
       "11640816   223759      9966         1   20210630         21\n",
       "11640817   223759      7207         1   20210630         22\n",
       "11640818   223759      9945        49   20210630         23\n",
       "11640819   223759      7673         1   20210630         24\n",
       "\n",
       "[11640820 rows x 5 columns]"
      ]
     },
     "execution_count": 12,
     "metadata": {},
     "output_type": "execute_result"
    }
   ],
   "source": [
    "# 시청 정보의 구성\n",
    "\n",
    "df_views"
   ]
  },
  {
   "cell_type": "markdown",
   "metadata": {},
   "source": [
    "`df_views`를 살펴보면 마찬가지로 첫 행에 각 열의 이름이 있으므로 첫 행을 지운 후 나머지 데이터를 사용합니다. 각 열의 이름은 새로 정합니다."
   ]
  },
  {
   "cell_type": "code",
   "execution_count": null,
   "metadata": {
    "id": "JFfAolAl2XwS"
   },
   "outputs": [],
   "source": [
    "# 첫 행을 지우기\n",
    "df_views.drop(index=0, inplace=True)\n",
    "\n",
    "# 열 이름 정하기\n",
    "df_views.columns = ['USER_ID', 'MOVIE_ID', 'DURATION', 'WATCH_DAY', 'WATCH_SEQ']"
   ]
  },
  {
   "cell_type": "markdown",
   "metadata": {
    "id": "GUfOGali4pDc"
   },
   "source": [
    "### [TODO] 시청 정보의 컬럼들을 박스플롯으로 그려봅니다.\n",
    "- `USER_ID`를 `int` 형으로 변경한 후에 박스플롯(boxplot)으로 그려봅니다.\n",
    "- `MOVIE_ID`를 `int` 형으로 변경한 후에 박스플롯(boxplot)으로 그려봅니다.\n",
    "- `DURATION`를 `int` 형으로 변경한 후에 박스플롯(boxplot)으로 그려봅니다.\n",
    "- `WATCH_DAY`를 `int` 형으로 변경한 후에 박스플롯(boxplot)으로 그려봅니다.\n",
    "- `WATCH_SEQ`를 `int` 형으로 변경한 후에 박스플롯(boxplot)으로 그려봅니다."
   ]
  },
  {
   "cell_type": "code",
   "execution_count": null,
   "metadata": {
    "colab": {
     "base_uri": "https://localhost:8080/",
     "height": 265
    },
    "id": "yrK-rYMv2oxK",
    "outputId": "679d06dc-8d8b-479e-c4b8-90631518ea25"
   },
   "outputs": [
    {
     "data": {
      "image/png": "[encoded data removed]",
      "text/plain": [
       "<Figure size 432x288 with 1 Axes>"
      ]
     },
     "metadata": {
      "needs_background": "light"
     },
     "output_type": "display_data"
    }
   ],
   "source": [
    "# 박스플롯을 그리기 (USER_ID)\n",
    "\n",
    "plt.boxplot(df_views.astype({'USER_ID':'int'})['USER_ID'])\n",
    "plt.show()"
   ]
  },
  {
   "cell_type": "markdown",
   "metadata": {},
   "source": [
    "`USER_ID`는 0번부터 마지막 번호까지 균일하게 분포되어 있는 것을 확인할 수 있습니다."
   ]
  },
  {
   "cell_type": "code",
   "execution_count": null,
   "metadata": {
    "colab": {
     "base_uri": "https://localhost:8080/",
     "height": 265
    },
    "id": "N7Yg8OcR2vje",
    "outputId": "7b8aa198-862f-480a-cb46-9e8c894a7e40"
   },
   "outputs": [
    {
     "data": {
      "image/png": "[encoded data removed]",
      "text/plain": [
       "<Figure size 432x288 with 1 Axes>"
      ]
     },
     "metadata": {
      "needs_background": "light"
     },
     "output_type": "display_data"
    }
   ],
   "source": [
    "# 박스플롯을 그리기 (MOVIE_ID)\n",
    "\n",
    "plt.boxplot(df_views.astype({'MOVIE_ID':'int'})['MOVIE_ID'])\n",
    "plt.show()"
   ]
  },
  {
   "cell_type": "markdown",
   "metadata": {},
   "source": [
    "마찬가지로 `MOVIE_ID`도 0번부터 마지막 번호까지 균일하게 분포되어 있는 것을 확인할 수 있습니다."
   ]
  },
  {
   "cell_type": "code",
   "execution_count": null,
   "metadata": {
    "colab": {
     "base_uri": "https://localhost:8080/",
     "height": 265
    },
    "id": "_FLfPn10265e",
    "outputId": "ed61507c-743a-444d-8cd7-2eee61aac437"
   },
   "outputs": [
    {
     "data": {
      "image/png": "[encoded data removed]",
      "text/plain": [
       "<Figure size 432x288 with 1 Axes>"
      ]
     },
     "metadata": {
      "needs_background": "light"
     },
     "output_type": "display_data"
    }
   ],
   "source": [
    "# 박스플롯을 그리기 (DURATION)\n",
    "\n",
    "plt.boxplot(df_views.astype({'DURATION':'int'})['DURATION'])\n",
    "plt.show()"
   ]
  },
  {
   "cell_type": "markdown",
   "metadata": {},
   "source": [
    "`DURATION`이 100분 미만인 데이터가 많은 것으로 보이며, 이로 인해 평균 영화 시청 시간이 짧은 것을 확인할 수 있습니다."
   ]
  },
  {
   "cell_type": "code",
   "execution_count": null,
   "metadata": {
    "colab": {
     "base_uri": "https://localhost:8080/",
     "height": 276
    },
    "id": "TA9jRpVc3Fbz",
    "outputId": "2baa51f3-b790-4420-b57b-f373a24ec4cc"
   },
   "outputs": [
    {
     "data": {
      "image/png": "[encoded data removed]",
      "text/plain": [
       "<Figure size 432x288 with 1 Axes>"
      ]
     },
     "metadata": {
      "needs_background": "light"
     },
     "output_type": "display_data"
    }
   ],
   "source": [
    "# 박스플롯을 그리기 (WATCH_DAY)\n",
    "\n",
    "plt.boxplot(df_views.astype({'WATCH_DAY':'int'})['WATCH_DAY'])\n",
    "plt.show()"
   ]
  },
  {
   "cell_type": "markdown",
   "metadata": {},
   "source": [
    "y축을 살펴보면 `WATCH_DAY`를 `int`로 나타냈기 때문에 실제로 존재하지 않는 날짜도 포함되어 있는 것을 확인할 수 있습니다."
   ]
  },
  {
   "cell_type": "code",
   "execution_count": null,
   "metadata": {
    "colab": {
     "base_uri": "https://localhost:8080/",
     "height": 265
    },
    "id": "C22OgUFG3LP9",
    "outputId": "17ab3f2f-9617-4d30-f7bc-5641e5656523"
   },
   "outputs": [
    {
     "data": {
      "image/png": "[encoded data removed]",
      "text/plain": [
       "<Figure size 432x288 with 1 Axes>"
      ]
     },
     "metadata": {
      "needs_background": "light"
     },
     "output_type": "display_data"
    }
   ],
   "source": [
    "# 박스플롯을 그리기 (WATCH_SEQ)\n",
    "\n",
    "plt.boxplot(df_views.astype({'WATCH_SEQ':'int'})['WATCH_SEQ'])\n",
    "plt.show()"
   ]
  },
  {
   "cell_type": "markdown",
   "metadata": {},
   "source": [
    "`WATCH_SEQ`의 경우 longtail 형태의 분포를 보입니다."
   ]
  },
  {
   "cell_type": "markdown",
   "metadata": {
    "id": "a9a9sw4r4pDf"
   },
   "source": [
    "### 2.3 문제 정보에 대해 전처리 및 시각화하기\n",
    "---\n",
    "\n",
    "문제 정보에 대해 전처리 및 시각화를 진행하기 위하여 데이터 프레임의 이름(`df_question`)을 입력하여 각 데이터의 구성을 살펴볼 수 있습니다. \n",
    "\n",
    "잘 정제된 데이터들이므로 간단히 박스플롯(boxplot)으로 데이터의 분포를 살펴봅니다."
   ]
  },
  {
   "cell_type": "code",
   "execution_count": null,
   "metadata": {
    "colab": {
     "base_uri": "https://localhost:8080/",
     "height": 419
    },
    "id": "88vjDY6x3Zp5",
    "outputId": "3cb7ceb9-5e39-44da-ab54-c11ff783d8a3"
   },
   "outputs": [
    {
     "data": {
      "text/html": [
       "<div>\n",
       "<style scoped>\n",
       "    .dataframe tbody tr th:only-of-type {\n",
       "        vertical-align: middle;\n",
       "    }\n",
       "\n",
       "    .dataframe tbody tr th {\n",
       "        vertical-align: top;\n",
       "    }\n",
       "\n",
       "    .dataframe thead th {\n",
       "        text-align: right;\n",
       "    }\n",
       "</style>\n",
       "<table border=\"1\" class=\"dataframe\">\n",
       "  <thead>\n",
       "    <tr style=\"text-align: right;\">\n",
       "      <th></th>\n",
       "      <th>0</th>\n",
       "      <th>1</th>\n",
       "      <th>2</th>\n",
       "      <th>3</th>\n",
       "      <th>4</th>\n",
       "    </tr>\n",
       "  </thead>\n",
       "  <tbody>\n",
       "    <tr>\n",
       "      <th>0</th>\n",
       "      <td>USER_ID</td>\n",
       "      <td>MOVIE_ID</td>\n",
       "      <td>DURATION</td>\n",
       "      <td>WATCH_DAY</td>\n",
       "      <td>WATCH_SEQ</td>\n",
       "    </tr>\n",
       "    <tr>\n",
       "      <th>1</th>\n",
       "      <td>1</td>\n",
       "      <td>4660</td>\n",
       "      <td>119</td>\n",
       "      <td>20210424</td>\n",
       "      <td>1</td>\n",
       "    </tr>\n",
       "    <tr>\n",
       "      <th>2</th>\n",
       "      <td>1</td>\n",
       "      <td>6271</td>\n",
       "      <td>1</td>\n",
       "      <td>20210313</td>\n",
       "      <td>1</td>\n",
       "    </tr>\n",
       "    <tr>\n",
       "      <th>3</th>\n",
       "      <td>1</td>\n",
       "      <td>1372</td>\n",
       "      <td>20</td>\n",
       "      <td>20210307</td>\n",
       "      <td>1</td>\n",
       "    </tr>\n",
       "    <tr>\n",
       "      <th>4</th>\n",
       "      <td>1</td>\n",
       "      <td>14282</td>\n",
       "      <td>107</td>\n",
       "      <td>20210207</td>\n",
       "      <td>1</td>\n",
       "    </tr>\n",
       "    <tr>\n",
       "      <th>...</th>\n",
       "      <td>...</td>\n",
       "      <td>...</td>\n",
       "      <td>...</td>\n",
       "      <td>...</td>\n",
       "      <td>...</td>\n",
       "    </tr>\n",
       "    <tr>\n",
       "      <th>558696</th>\n",
       "      <td>55894</td>\n",
       "      <td>633</td>\n",
       "      <td>3</td>\n",
       "      <td>20210623</td>\n",
       "      <td>1</td>\n",
       "    </tr>\n",
       "    <tr>\n",
       "      <th>558697</th>\n",
       "      <td>55894</td>\n",
       "      <td>13475</td>\n",
       "      <td>30</td>\n",
       "      <td>20210619</td>\n",
       "      <td>4</td>\n",
       "    </tr>\n",
       "    <tr>\n",
       "      <th>558698</th>\n",
       "      <td>55894</td>\n",
       "      <td>9909</td>\n",
       "      <td>1</td>\n",
       "      <td>20210619</td>\n",
       "      <td>3</td>\n",
       "    </tr>\n",
       "    <tr>\n",
       "      <th>558699</th>\n",
       "      <td>55894</td>\n",
       "      <td>13475</td>\n",
       "      <td>1</td>\n",
       "      <td>20210619</td>\n",
       "      <td>2</td>\n",
       "    </tr>\n",
       "    <tr>\n",
       "      <th>558700</th>\n",
       "      <td>55894</td>\n",
       "      <td>697</td>\n",
       "      <td>1</td>\n",
       "      <td>20210619</td>\n",
       "      <td>1</td>\n",
       "    </tr>\n",
       "  </tbody>\n",
       "</table>\n",
       "<p>558701 rows × 5 columns</p>\n",
       "</div>"
      ],
      "text/plain": [
       "              0         1         2          3          4\n",
       "0       USER_ID  MOVIE_ID  DURATION  WATCH_DAY  WATCH_SEQ\n",
       "1             1      4660       119   20210424          1\n",
       "2             1      6271         1   20210313          1\n",
       "3             1      1372        20   20210307          1\n",
       "4             1     14282       107   20210207          1\n",
       "...         ...       ...       ...        ...        ...\n",
       "558696    55894       633         3   20210623          1\n",
       "558697    55894     13475        30   20210619          4\n",
       "558698    55894      9909         1   20210619          3\n",
       "558699    55894     13475         1   20210619          2\n",
       "558700    55894       697         1   20210619          1\n",
       "\n",
       "[558701 rows x 5 columns]"
      ]
     },
     "execution_count": 20,
     "metadata": {},
     "output_type": "execute_result"
    }
   ],
   "source": [
    "# 문제 정보의 구성\n",
    "\n",
    "df_question"
   ]
  },
  {
   "cell_type": "markdown",
   "metadata": {},
   "source": [
    "`df_question`도 첫 행에 각 열의 이름이 있으므로 첫 행을 지운 후 나머지 데이터를 사용합니다. 각 열의 이름은 새로 정합니다."
   ]
  },
  {
   "cell_type": "code",
   "execution_count": null,
   "metadata": {
    "id": "opY3oM3E3c0F"
   },
   "outputs": [],
   "source": [
    "# 첫 행을 지우기\n",
    "df_question.drop(index=0, inplace=True)\n",
    "\n",
    "# 열 이름 정하기\n",
    "df_question.columns = ['USER_ID', 'MOVIE_ID', 'DURATION', 'WATCH_DAY', 'WATCH_SEQ']"
   ]
  },
  {
   "cell_type": "markdown",
   "metadata": {
    "id": "fyvz853U4pDg"
   },
   "source": [
    "### [TODO] 문제 정보의 컬럼들을 박스플롯으로 그려봅니다.\n",
    "- `USER_ID`를 `int` 형으로 변경한 후에 박스플롯(boxplot)으로 그려봅니다.\n",
    "- `MOVIE_ID`를 `int` 형으로 변경한 후에 박스플롯(boxplot)으로 그려봅니다.\n",
    "- `DURATION`를 `int` 형으로 변경한 후에 박스플롯(boxplot)으로 그려봅니다.\n",
    "- `WATCH_DAY`를 `int` 형으로 변경한 후에 박스플롯(boxplot)으로 그려봅니다.\n",
    "- `WATCH_SEQ`를 `int` 형으로 변경한 후에 박스플롯(boxplot)으로 그려봅니다."
   ]
  },
  {
   "cell_type": "code",
   "execution_count": null,
   "metadata": {
    "colab": {
     "base_uri": "https://localhost:8080/",
     "height": 265
    },
    "id": "MPeY5pZ23lcY",
    "outputId": "b04916e0-4ec6-4edd-8328-a19fd4b0dda3"
   },
   "outputs": [
    {
     "data": {
      "image/png": "[encoded data removed]",
      "text/plain": [
       "<Figure size 432x288 with 1 Axes>"
      ]
     },
     "metadata": {
      "needs_background": "light"
     },
     "output_type": "display_data"
    }
   ],
   "source": [
    "# 박스플롯을 그리기 (USER_ID)\n",
    "\n",
    "plt.boxplot(df_question.astype({'USER_ID':'int'})['USER_ID'])\n",
    "plt.show()"
   ]
  },
  {
   "cell_type": "markdown",
   "metadata": {},
   "source": [
    "`USER_ID`는 0번부터 마지막 번호까지 균일하게 분포되어 있는 것을 확인할 수 있습니다."
   ]
  },
  {
   "cell_type": "code",
   "execution_count": null,
   "metadata": {
    "colab": {
     "base_uri": "https://localhost:8080/",
     "height": 265
    },
    "id": "KVUblbOG3qXU",
    "outputId": "24e0231b-18a0-4597-8f64-3f065facc495"
   },
   "outputs": [
    {
     "data": {
      "image/png": "[encoded data removed]",
      "text/plain": [
       "<Figure size 432x288 with 1 Axes>"
      ]
     },
     "metadata": {
      "needs_background": "light"
     },
     "output_type": "display_data"
    }
   ],
   "source": [
    "# 박스플롯을 그리기 (MOVIE_ID)\n",
    "\n",
    "plt.boxplot(df_question.astype({'MOVIE_ID':'int'})['MOVIE_ID'])\n",
    "plt.show()"
   ]
  },
  {
   "cell_type": "markdown",
   "metadata": {},
   "source": [
    "`MOVIE_ID`도 0번부터 마지막 번호까지 균일하게 분포되어 있는 것을 확인할 수 있습니다."
   ]
  },
  {
   "cell_type": "code",
   "execution_count": null,
   "metadata": {
    "colab": {
     "base_uri": "https://localhost:8080/",
     "height": 265
    },
    "id": "YyXh31U83tH5",
    "outputId": "66942728-2d9b-4234-f814-241b1619c813"
   },
   "outputs": [
    {
     "data": {
      "image/png": "[encoded data removed]",
      "text/plain": [
       "<Figure size 432x288 with 1 Axes>"
      ]
     },
     "metadata": {
      "needs_background": "light"
     },
     "output_type": "display_data"
    }
   ],
   "source": [
    "# 박스플롯을 그리기 (DURATION)\n",
    "\n",
    "plt.boxplot(df_question.astype({'DURATION':'int'})['DURATION'])\n",
    "plt.show()"
   ]
  },
  {
   "cell_type": "markdown",
   "metadata": {},
   "source": [
    "`DURATION`이 100분 미만인 데이터가 많은 것으로 보이며, 이로 인해 평균 영화 시청 시간이 짧은 것을 확인할 수 있습니다."
   ]
  },
  {
   "cell_type": "code",
   "execution_count": null,
   "metadata": {
    "colab": {
     "base_uri": "https://localhost:8080/",
     "height": 276
    },
    "id": "OWKRC_IX3wO1",
    "outputId": "64c1dbe5-2bf7-4049-d2f7-d405bdd04d2f"
   },
   "outputs": [
    {
     "data": {
      "image/png": "[encoded data removed]",
      "text/plain": [
       "<Figure size 432x288 with 1 Axes>"
      ]
     },
     "metadata": {
      "needs_background": "light"
     },
     "output_type": "display_data"
    }
   ],
   "source": [
    "# 박스플롯을 그리기 (WATCH_DAY)\n",
    "\n",
    "plt.boxplot(df_question.astype({'WATCH_DAY':'int'})['WATCH_DAY'])\n",
    "plt.show()"
   ]
  },
  {
   "cell_type": "markdown",
   "metadata": {},
   "source": [
    "y축을 살펴보면 `WATCH_DAY`를 `int`로 나타냈기 때문에 실제로 존재하지 않는 날짜도 포함되어 있는 것을 확인할 수 있습니다."
   ]
  },
  {
   "cell_type": "code",
   "execution_count": null,
   "metadata": {
    "colab": {
     "base_uri": "https://localhost:8080/",
     "height": 265
    },
    "id": "KNf4qyv630U4",
    "outputId": "9ad22db9-b558-4ba2-f32e-2d957c596218"
   },
   "outputs": [
    {
     "data": {
      "image/png": "[encoded data removed]",
      "text/plain": [
       "<Figure size 432x288 with 1 Axes>"
      ]
     },
     "metadata": {
      "needs_background": "light"
     },
     "output_type": "display_data"
    }
   ],
   "source": [
    "# 박스플롯을 그리기 (WATCH_SEQ)\n",
    "\n",
    "plt.boxplot(df_question.astype({'WATCH_SEQ':'int'})['WATCH_SEQ'])\n",
    "plt.show()"
   ]
  },
  {
   "cell_type": "markdown",
   "metadata": {},
   "source": [
    "`WATCH_SEQ`의 경우 longtail 형태의 분포를 보입니다."
   ]
  },
  {
   "cell_type": "markdown",
   "metadata": {
    "id": "HgZ0jj-G4pDh"
   },
   "source": [
    "### 2.4 정답 정보에 대해 전처리 및 시각화하기\n",
    "---\n",
    "\n",
    "정답 정보에 대해 전처리 및 시각화를 진행하기 위하여 데이터 프레임의 이름(`df_test`)을 입력하여 각 데이터의 구성을 살펴볼 수 있습니다. \n",
    "\n",
    "잘 정제된 데이터들이므로 간단히 박스플롯으로 데이터의 분포를 살펴봅니다."
   ]
  },
  {
   "cell_type": "code",
   "execution_count": null,
   "metadata": {
    "colab": {
     "base_uri": "https://localhost:8080/",
     "height": 419
    },
    "id": "XlnBqIpV33Hd",
    "outputId": "574fa311-646d-4cec-cbb7-5c89c4f4dbf6"
   },
   "outputs": [
    {
     "data": {
      "text/html": [
       "<div>\n",
       "<style scoped>\n",
       "    .dataframe tbody tr th:only-of-type {\n",
       "        vertical-align: middle;\n",
       "    }\n",
       "\n",
       "    .dataframe tbody tr th {\n",
       "        vertical-align: top;\n",
       "    }\n",
       "\n",
       "    .dataframe thead th {\n",
       "        text-align: right;\n",
       "    }\n",
       "</style>\n",
       "<table border=\"1\" class=\"dataframe\">\n",
       "  <thead>\n",
       "    <tr style=\"text-align: right;\">\n",
       "      <th></th>\n",
       "      <th>0</th>\n",
       "      <th>1</th>\n",
       "      <th>2</th>\n",
       "    </tr>\n",
       "  </thead>\n",
       "  <tbody>\n",
       "    <tr>\n",
       "      <th>0</th>\n",
       "      <td>USER_ID</td>\n",
       "      <td>MOVIE_ID</td>\n",
       "      <td>TITLE</td>\n",
       "    </tr>\n",
       "    <tr>\n",
       "      <th>1</th>\n",
       "      <td>0</td>\n",
       "      <td>1892</td>\n",
       "      <td>해리포터와마법사의돌</td>\n",
       "    </tr>\n",
       "    <tr>\n",
       "      <th>2</th>\n",
       "      <td>0</td>\n",
       "      <td>3082</td>\n",
       "      <td>아바타</td>\n",
       "    </tr>\n",
       "    <tr>\n",
       "      <th>3</th>\n",
       "      <td>0</td>\n",
       "      <td>3720</td>\n",
       "      <td>백설공주와일곱난쟁이</td>\n",
       "    </tr>\n",
       "    <tr>\n",
       "      <th>4</th>\n",
       "      <td>0</td>\n",
       "      <td>7938</td>\n",
       "      <td>미녀와야수(2017)</td>\n",
       "    </tr>\n",
       "    <tr>\n",
       "      <th>...</th>\n",
       "      <td>...</td>\n",
       "      <td>...</td>\n",
       "      <td>...</td>\n",
       "    </tr>\n",
       "    <tr>\n",
       "      <th>1583167</th>\n",
       "      <td>55899</td>\n",
       "      <td>12582</td>\n",
       "      <td>레전드오브타잔</td>\n",
       "    </tr>\n",
       "    <tr>\n",
       "      <th>1583168</th>\n",
       "      <td>55899</td>\n",
       "      <td>12812</td>\n",
       "      <td>일대종사</td>\n",
       "    </tr>\n",
       "    <tr>\n",
       "      <th>1583169</th>\n",
       "      <td>55899</td>\n",
       "      <td>13092</td>\n",
       "      <td>동네사람들</td>\n",
       "    </tr>\n",
       "    <tr>\n",
       "      <th>1583170</th>\n",
       "      <td>55899</td>\n",
       "      <td>13544</td>\n",
       "      <td>토탈리콜(2012)</td>\n",
       "    </tr>\n",
       "    <tr>\n",
       "      <th>1583171</th>\n",
       "      <td>55899</td>\n",
       "      <td>14142</td>\n",
       "      <td>쇼크웨이브2</td>\n",
       "    </tr>\n",
       "  </tbody>\n",
       "</table>\n",
       "<p>1583172 rows × 3 columns</p>\n",
       "</div>"
      ],
      "text/plain": [
       "               0         1            2\n",
       "0        USER_ID  MOVIE_ID        TITLE\n",
       "1              0      1892   해리포터와마법사의돌\n",
       "2              0      3082          아바타\n",
       "3              0      3720   백설공주와일곱난쟁이\n",
       "4              0      7938  미녀와야수(2017)\n",
       "...          ...       ...          ...\n",
       "1583167    55899     12582      레전드오브타잔\n",
       "1583168    55899     12812         일대종사\n",
       "1583169    55899     13092        동네사람들\n",
       "1583170    55899     13544   토탈리콜(2012)\n",
       "1583171    55899     14142       쇼크웨이브2\n",
       "\n",
       "[1583172 rows x 3 columns]"
      ]
     },
     "execution_count": 27,
     "metadata": {},
     "output_type": "execute_result"
    }
   ],
   "source": [
    "# 정답 정보의 구성\n",
    "\n",
    "df_test"
   ]
  },
  {
   "cell_type": "markdown",
   "metadata": {},
   "source": [
    "`df_test`도 첫 행에 각 열의 이름이 있으므로 첫 행을 지운 후 나머지 데이터를 사용합니다. 각 열의 이름은 새로 정합니다."
   ]
  },
  {
   "cell_type": "code",
   "execution_count": null,
   "metadata": {
    "id": "aj4CdjJp3_CI"
   },
   "outputs": [],
   "source": [
    "# 첫 행을 지우기\n",
    "df_test.drop(index=0, inplace=True)\n",
    "\n",
    "# 열 이름 정하기\n",
    "df_test.columns = ['USER_ID', 'MOVIE_ID', 'TITLE']"
   ]
  },
  {
   "cell_type": "markdown",
   "metadata": {
    "id": "3Aw1YLt64pDi"
   },
   "source": [
    "### [TODO] 정답 정보의 컬럼들을 박스플롯으로 그려봅니다.\n",
    "- `USER_ID`를 `int` 형으로 변경한 후에 박스플롯(boxplot)으로 그려봅니다.\n",
    "- `MOVIE_ID`를 `int` 형으로 변경한 후에 박스플롯(boxplot)으로 그려봅니다."
   ]
  },
  {
   "cell_type": "code",
   "execution_count": null,
   "metadata": {
    "colab": {
     "base_uri": "https://localhost:8080/",
     "height": 265
    },
    "id": "yj2cb3px4MZJ",
    "outputId": "1b5112f9-e1f6-4e62-b29e-3ebb5eb6e796",
    "scrolled": true
   },
   "outputs": [
    {
     "data": {
      "image/png": "[encoded data removed]",
      "text/plain": [
       "<Figure size 432x288 with 1 Axes>"
      ]
     },
     "metadata": {
      "needs_background": "light"
     },
     "output_type": "display_data"
    }
   ],
   "source": [
    "# 박스플롯을 그리기 (USER_ID)\n",
    "\n",
    "plt.boxplot(df_test.astype({'USER_ID':'int'})['USER_ID'])\n",
    "plt.show()"
   ]
  },
  {
   "cell_type": "markdown",
   "metadata": {},
   "source": [
    "`USER_ID`는 0번부터 마지막 번호까지 균일하게 분포되어 있는 것을 확인할 수 있습니다."
   ]
  },
  {
   "cell_type": "code",
   "execution_count": null,
   "metadata": {
    "colab": {
     "base_uri": "https://localhost:8080/",
     "height": 265
    },
    "id": "CP3dI-js4Yp2",
    "outputId": "2ee7b52a-31ea-48df-d4ea-2db829660183"
   },
   "outputs": [
    {
     "data": {
      "image/png": "[encoded data removed]",
      "text/plain": [
       "<Figure size 432x288 with 1 Axes>"
      ]
     },
     "metadata": {
      "needs_background": "light"
     },
     "output_type": "display_data"
    }
   ],
   "source": [
    "# 박스플롯을 그리기 (MOVIE_ID)\n",
    "\n",
    "plt.boxplot(df_test.astype({'MOVIE_ID':'int'})['MOVIE_ID'])\n",
    "plt.show()"
   ]
  },
  {
   "cell_type": "markdown",
   "metadata": {},
   "source": [
    "`MOVIE_ID`도 0번부터 마지막 번호까지 균일하게 분포되어 있는 것을 확인할 수 있습니다."
   ]
  },
  {
   "cell_type": "markdown",
   "metadata": {
    "id": "HcuTeDho4pDj"
   },
   "source": [
    "---"
   ]
  }
 ],
 "metadata": {
  "colab": {
   "collapsed_sections": [],
   "name": "[프로젝트2] 데이터 결측치 살펴보고 시각화하기.ipynb",
   "provenance": []
  },
  "kernelspec": {
   "display_name": "Python 3",
   "language": "python",
   "name": "python3"
  },
  "language_info": {
   "codemirror_mode": {
    "name": "ipython",
    "version": 3
   },
   "file_extension": ".py",
   "mimetype": "text/x-python",
   "name": "python",
   "nbconvert_exporter": "python",
   "pygments_lexer": "ipython3",
   "version": "3.8.6"
  }
 },
 "nbformat": 4,
 "nbformat_minor": 4
}
