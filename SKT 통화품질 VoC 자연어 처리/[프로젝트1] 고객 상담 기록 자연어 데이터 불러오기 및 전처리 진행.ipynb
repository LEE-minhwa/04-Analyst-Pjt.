{
 "cells": [
  {
   "cell_type": "markdown",
   "metadata": {},
   "source": [
    "# [프로젝트1] 고객 상담 기록 자연어 데이터 불러오기 및 전처리 진행"
   ]
  },
  {
   "cell_type": "markdown",
   "metadata": {},
   "source": [
    "---"
   ]
  },
  {
   "cell_type": "markdown",
   "metadata": {
    "id": "BG_0zjG13zZy"
   },
   "source": [
    "\n",
    "## 프로젝트 목표\n",
    "---\n",
    "- 프로젝트에서 진행하는 고객 상담 기록 자연어 데이터 불러오기\n",
    "- 고객 상담 기록 데이터 분석하기\n",
    "- 고객 상담 기록 데이터 중 자연어 데이터 부분 전처리 진행하기\n"
   ]
  },
  {
   "cell_type": "markdown",
   "metadata": {
    "id": "pS7RvUWi5vJe"
   },
   "source": [
    "## 프로젝트 목차\n",
    "---\n",
    "\n",
    "1. **자연어 데이터 불러오기:** 프로젝트에서 사용하는 라이브러리를 설치 및 불러오고, 고객 상담 기록 데이터를 불러옵니다.\n",
    "\n",
    "2. **고객 상담 기록 데이터 분석하기:** 프로젝트에서 사용하는 데이터를 분석합니다.\n",
    "\n",
    "3. **자연어 데이터 전처리 진행하기:** 데이터 중 자연어 데이터에 대한 전처리를 진행합니다.\n"
   ]
  },
  {
   "cell_type": "markdown",
   "metadata": {
    "id": "K-rxhtJI5_D2"
   },
   "source": [
    "## 프로젝트 개요\n",
    "---\n",
    "\n",
    "본 실습에서는 분석을 진행하기 전, 데이터를 불러오고 분석해보도록 하겠습니다.\n",
    "\n",
    "이를 위하여 필요한 라이브러리를 설치 및 불러오고 그 중 `pandas` 라이브러리를 통하여 csv 파일로 저장되어 있는 데이터를 불러오고 라이브러리의 내장 함수를 통하여 데이터를 분석해봅니다.\n",
    "\n",
    "마지막으로 데이터 중 자연어로 되어있는 데이터에 대하여 자연어 데이터 전처리 기법을 적용해봅니다."
   ]
  },
  {
   "cell_type": "markdown",
   "metadata": {},
   "source": [
    "## 1. 자연어 데이터 불러오기\n",
    "\n",
    "---\n",
    "\n",
    "### 1.1. 라이브러리 설치 및 불러오기\n",
    "\n"
   ]
  },
  {
   "cell_type": "markdown",
   "metadata": {},
   "source": [
    "본 실습 코드는 Python 기반으로 작성되어 있으며 실습에 필요한 Python Package를 아래와 같이 설치 및 불러옵니다."
   ]
  },
  {
   "cell_type": "code",
   "execution_count": 1,
   "metadata": {},
   "outputs": [],
   "source": [
    "import pandas as pd"
   ]
  },
  {
   "cell_type": "markdown",
   "metadata": {},
   "source": [
    "### 1.2. 데이터 불러오기\n",
    "---\n",
    "\n",
    "csv 파일을 pandas DataFrame 형태로 불러옵니다."
   ]
  },
  {
   "cell_type": "code",
   "execution_count": 2,
   "metadata": {},
   "outputs": [
    {
     "data": {
      "text/html": [
       "<div>\n",
       "<style scoped>\n",
       "    .dataframe tbody tr th:only-of-type {\n",
       "        vertical-align: middle;\n",
       "    }\n",
       "\n",
       "    .dataframe tbody tr th {\n",
       "        vertical-align: top;\n",
       "    }\n",
       "\n",
       "    .dataframe thead th {\n",
       "        text-align: right;\n",
       "    }\n",
       "</style>\n",
       "<table border=\"1\" class=\"dataframe\">\n",
       "  <thead>\n",
       "    <tr style=\"text-align: right;\">\n",
       "      <th></th>\n",
       "      <th>id</th>\n",
       "      <th>상담유형1_상담사</th>\n",
       "      <th>상담유형2_상담사</th>\n",
       "      <th>상담유형3_상담사</th>\n",
       "      <th>HDVoice단말여부</th>\n",
       "      <th>메모</th>\n",
       "      <th>상담유형1_GT</th>\n",
       "      <th>상담유형2_GT</th>\n",
       "      <th>상담유형3_GT</th>\n",
       "    </tr>\n",
       "  </thead>\n",
       "  <tbody>\n",
       "    <tr>\n",
       "      <th>0</th>\n",
       "      <td>545</td>\n",
       "      <td>통화품질</td>\n",
       "      <td>HD Voice품질</td>\n",
       "      <td>음질불량</td>\n",
       "      <td>Y</td>\n",
       "      <td>[HDV][원클릭-양호](L-시설공급)  1. 상세증상 :  통화, 문자 수신 실패...</td>\n",
       "      <td>통화품질</td>\n",
       "      <td>HD Voice품질</td>\n",
       "      <td>발수신불가</td>\n",
       "    </tr>\n",
       "    <tr>\n",
       "      <th>1</th>\n",
       "      <td>6079</td>\n",
       "      <td>통화품질</td>\n",
       "      <td>HD Voice품질</td>\n",
       "      <td>음질불량</td>\n",
       "      <td>Y</td>\n",
       "      <td>[코로나양해][HDV][원클릭-양호](L-시설공급) 1. 상세증상 : - 이사이후 ...</td>\n",
       "      <td>통화품질</td>\n",
       "      <td>HD Voice품질</td>\n",
       "      <td>호단절</td>\n",
       "    </tr>\n",
       "    <tr>\n",
       "      <th>2</th>\n",
       "      <td>4171</td>\n",
       "      <td>통화품질</td>\n",
       "      <td>HD Voice품질</td>\n",
       "      <td>발신불가</td>\n",
       "      <td>Y</td>\n",
       "      <td>- 방금전부터 위치무관 수신은 되나 발신이 안된다고 함 - 전원재부팅 해도 동일 -...</td>\n",
       "      <td>통화품질</td>\n",
       "      <td>HD Voice품질</td>\n",
       "      <td>수신불가</td>\n",
       "    </tr>\n",
       "    <tr>\n",
       "      <th>3</th>\n",
       "      <td>6435</td>\n",
       "      <td>통화품질</td>\n",
       "      <td>HD Voice품질</td>\n",
       "      <td>발수신불가</td>\n",
       "      <td>Y</td>\n",
       "      <td>(중계기 A/S요청)  1. A/S희망일시 :  담당자 방문전 연락드림안내 2. 추...</td>\n",
       "      <td>통화품질</td>\n",
       "      <td>HD Voice품질</td>\n",
       "      <td>호단절</td>\n",
       "    </tr>\n",
       "    <tr>\n",
       "      <th>4</th>\n",
       "      <td>5382</td>\n",
       "      <td>통화품질</td>\n",
       "      <td>HD Voice품질</td>\n",
       "      <td>음질불량</td>\n",
       "      <td>Y</td>\n",
       "      <td>[HDV] (중계기AS요청) 1. A/S희망일시(시간준수/협의가능): 방문전 방문일...</td>\n",
       "      <td>통화품질</td>\n",
       "      <td>HD Voice품질</td>\n",
       "      <td>음질불량</td>\n",
       "    </tr>\n",
       "  </tbody>\n",
       "</table>\n",
       "</div>"
      ],
      "text/plain": [
       "     id 상담유형1_상담사   상담유형2_상담사 상담유형3_상담사 HDVoice단말여부  \\\n",
       "0   545      통화품질  HD Voice품질      음질불량           Y   \n",
       "1  6079      통화품질  HD Voice품질      음질불량           Y   \n",
       "2  4171      통화품질  HD Voice품질      발신불가           Y   \n",
       "3  6435      통화품질  HD Voice품질     발수신불가           Y   \n",
       "4  5382      통화품질  HD Voice품질      음질불량           Y   \n",
       "\n",
       "                                                  메모 상담유형1_GT    상담유형2_GT  \\\n",
       "0  [HDV][원클릭-양호](L-시설공급)  1. 상세증상 :  통화, 문자 수신 실패...     통화품질  HD Voice품질   \n",
       "1  [코로나양해][HDV][원클릭-양호](L-시설공급) 1. 상세증상 : - 이사이후 ...     통화품질  HD Voice품질   \n",
       "2  - 방금전부터 위치무관 수신은 되나 발신이 안된다고 함 - 전원재부팅 해도 동일 -...     통화품질  HD Voice품질   \n",
       "3  (중계기 A/S요청)  1. A/S희망일시 :  담당자 방문전 연락드림안내 2. 추...     통화품질  HD Voice품질   \n",
       "4  [HDV] (중계기AS요청) 1. A/S희망일시(시간준수/협의가능): 방문전 방문일...     통화품질  HD Voice품질   \n",
       "\n",
       "  상담유형3_GT  \n",
       "0    발수신불가  \n",
       "1      호단절  \n",
       "2     수신불가  \n",
       "3      호단절  \n",
       "4     음질불량  "
      ]
     },
     "execution_count": 2,
     "metadata": {},
     "output_type": "execute_result"
    }
   ],
   "source": [
    "# csv 파일 불러오기\n",
    "data = pd.read_csv('./01_data.csv', encoding='cp949')\n",
    "data.head()  # 데이터 상위 5개 행 출력"
   ]
  },
  {
   "cell_type": "markdown",
   "metadata": {},
   "source": [
    "## 2. 고객 상담 기록 데이터 분석하기\n",
    "\n",
    "---\n",
    "\n",
    "Pandas Dataframe으로 불러온 데이터를 간단히 분석해 봅시다.\n",
    "\n"
   ]
  },
  {
   "cell_type": "code",
   "execution_count": 3,
   "metadata": {},
   "outputs": [],
   "source": [
    "num_examples = len(data)  # 데이터 행 개수"
   ]
  },
  {
   "cell_type": "code",
   "execution_count": 4,
   "metadata": {},
   "outputs": [
    {
     "name": "stdout",
     "output_type": "stream",
     "text": [
      "열 정보 :  Index(['id', '상담유형1_상담사', '상담유형2_상담사', '상담유형3_상담사', 'HDVoice단말여부', '메모',\n",
      "       '상담유형1_GT', '상담유형2_GT', '상담유형3_GT'],\n",
      "      dtype='object')\n"
     ]
    }
   ],
   "source": [
    "print('열 정보 : ', data.columns) # 열 정보"
   ]
  },
  {
   "cell_type": "code",
   "execution_count": 5,
   "metadata": {},
   "outputs": [
    {
     "name": "stdout",
     "output_type": "stream",
     "text": [
      "라벨 종류 :  ['발수신불가', '호단절', '수신불가', '음질불량', '발신불가', '속도저하', '3G천이', '초기접속불가', '데이터 사용중 끊김', 'MMS', '기업형메시지(금융권인증SMS)', '단문메세지(SMS)', '통화중대기', '이설요청/철거요청', '통품상담성', '기타 Application', 'T제공 어플', '카카오']\n"
     ]
    }
   ],
   "source": [
    "label_list = data['상담유형3_GT'].unique().tolist()  # '상담유형3_GT' 열 클래스 종류\n",
    "print('라벨 종류 : ', label_list)"
   ]
  },
  {
   "cell_type": "code",
   "execution_count": 6,
   "metadata": {},
   "outputs": [
    {
     "name": "stdout",
     "output_type": "stream",
     "text": [
      "데이터 개수 :  5000\n",
      "데이터 한국어 라벨 첫 10개 : \n",
      " 0    발수신불가\n",
      "1      호단절\n",
      "2     수신불가\n",
      "3      호단절\n",
      "4     음질불량\n",
      "5     음질불량\n",
      "6    발수신불가\n",
      "7    발수신불가\n",
      "8    발수신불가\n",
      "9      호단절\n",
      "Name: 상담유형3_GT, dtype: object\n",
      "데이터 숫자 라벨 첫 10개 :  [0, 1, 2, 1, 3, 3, 0, 0, 0, 1]\n"
     ]
    }
   ],
   "source": [
    "train_labels = data['상담유형3_GT'].apply(label_list.index).tolist() # 한국어로 써 있는 라벨을 숫자로 변경\n",
    "print('데이터 개수 : ', len(train_labels))\n",
    "print('데이터 한국어 라벨 첫 10개 : \\n', data['상담유형3_GT'][:10])\n",
    "print('데이터 숫자 라벨 첫 10개 : ', train_labels[:10])"
   ]
  },
  {
   "cell_type": "code",
   "execution_count": 7,
   "metadata": {},
   "outputs": [
    {
     "name": "stdout",
     "output_type": "stream",
     "text": [
      "데이터 개수 :  5000\n",
      "예시 메모 데이터 :  [HDV][원클릭-양호](L-시설공급)  1. 상세증상 :  통화, 문자 수신 실패 . 발신정상.  데이터 지연 불량.   / 타지역정상.  2. SKT 타폰 비교 : 비교못함.  3. 내부품질 : 불량 4. 외부품질 : 양호 5. 상담원 조치 사항 : HDV,3G 모두 활성화 되어있어 IMS 초기화 실행 전원 재부팅.  6. 추가 연락처 :   7. 기타 전달사항 : 중계이 없음.\n"
     ]
    }
   ],
   "source": [
    "train_texts = data['메모'].tolist() # 자연어 데이터를 리스트 형식으로 변환합니다\n",
    "print('데이터 개수 : ', len(train_texts))\n",
    "print('예시 메모 데이터 : ', train_texts[0])"
   ]
  },
  {
   "cell_type": "markdown",
   "metadata": {},
   "source": [
    "## 3. 자연어 데이터 전처리 진행하기\n",
    "\n",
    "---\n",
    "\n",
    "### 3.1 한국어 데이터 전처리 모듈 불러오기\n"
   ]
  },
  {
   "cell_type": "code",
   "execution_count": 8,
   "metadata": {},
   "outputs": [],
   "source": [
    "import re\n",
    "from konlpy.tag import Okt"
   ]
  },
  {
   "cell_type": "markdown",
   "metadata": {},
   "source": [
    "### [TODO] 전처리 함수에서 불용어 처리를 진행하는 코드를 작성하세요.\n",
    "- 토큰화과 완료된 `text_token`에서 리스트 형태로 불용어가 적혀있는 `stopword`를 활용하여 불용어를 제거하세요."
   ]
  },
  {
   "cell_type": "code",
   "execution_count": 9,
   "metadata": {},
   "outputs": [],
   "source": [
    "def preprocess(text, tokenizer, stopword=None):\n",
    "    # 정제: 한글, 공백 제외한 문자 제거\n",
    "    text_cleaning = re.sub('[^가-힣ㄱ-ㅎㅏ-ㅣ\\\\s]', '', text)\n",
    "    \n",
    "    # 토큰화\n",
    "    text_token = tokenizer.morphs(text_cleaning, stem=True)\n",
    "    \n",
    "    # 불용어 처리\n",
    "    if stopword is not None:\n",
    "        text_token_stop = [token for token in text_token if not token in stopword] # 불용어 처리가 완료된 토큰화된 텍스트\n",
    "    return text_cleaning, text_token, text_token_stop"
   ]
  },
  {
   "cell_type": "markdown",
   "metadata": {},
   "source": [
    "### [TODO] 위에서 작성한 전처리 함수를 활용하여 고객 상담 기록 데이터를 전처리하는 코드를 작성하세요."
   ]
  },
  {
   "cell_type": "code",
   "execution_count": 11,
   "metadata": {},
   "outputs": [],
   "source": [
    "tokenizer = Okt()\n",
    "stopword = ['은','는','이','가','하','아','것','들','의','있','되','수','보','주','등','한']\n",
    "train_texts_cleaning = []\n",
    "train_texts_token = []\n",
    "train_texts_token_stop = []\n",
    "num_train_texts = len(train_texts) # 학습 텍스트 데이터의 개수\n",
    "for i in range(num_train_texts):\n",
    "    text_clean, text_token, text_token_stop = preprocess(train_texts[i], tokenizer, stopword) # 전처리 함수를 사용하여 나온 결과물\n",
    "    train_texts_cleaning.append(text_clean)\n",
    "    train_texts_token.append(text_token)\n",
    "    train_texts_token_stop.append(text_token_stop)"
   ]
  },
  {
   "cell_type": "markdown",
   "metadata": {},
   "source": [
    "전처리가 어떻게 진행되었는지 확인할 수 있습니다."
   ]
  },
  {
   "cell_type": "code",
   "execution_count": 12,
   "metadata": {},
   "outputs": [
    {
     "name": "stdout",
     "output_type": "stream",
     "text": [
      "전처리 전 :  [HDV][원클릭-양호](L-시설공급)  1. 상세증상 :  통화, 문자 수신 실패 . 발신정상.  데이터 지연 불량.   / 타지역정상.  2. SKT 타폰 비교 : 비교못함.  3. 내부품질 : 불량 4. 외부품질 : 양호 5. 상담원 조치 사항 : HDV,3G 모두 활성화 되어있어 IMS 초기화 실행 전원 재부팅.  6. 추가 연락처 :   7. 기타 전달사항 : 중계이 없음.\n",
      "==================================================\n",
      "정제 후 :  원클릭양호시설공급   상세증상   통화 문자 수신 실패  발신정상  데이터 지연 불량    타지역정상    타폰 비교  비교못함   내부품질  불량  외부품질  양호  상담원 조치 사항   모두 활성화 되어있어  초기화 실행 전원 재부팅   추가 연락처     기타 전달사항  중계이 없음\n",
      "==================================================\n",
      "토큰화 후 :  ['원클릭', '양호', '시설', '공급', '상세', '증상', '통화', '문자', '수신', '실패', '발신', '정상', '데이터', '지연', '불량', '타', '지역', '정상', '타폰', '비교', '비교', '못', '하다', '내부', '품질', '불량', '외부', '품질', '양호', '상담', '원', '조치', '사항', '모두', '활성화', '되어다', '초기', '화', '실행', '전원', '재부팅', '추가', '연락처', '기타', '전달', '사항', '중계', '이', '없다']\n",
      "==================================================\n",
      "불용어 처리 후 :  ['원클릭', '양호', '시설', '공급', '상세', '증상', '통화', '문자', '수신', '실패', '발신', '정상', '데이터', '지연', '불량', '타', '지역', '정상', '타폰', '비교', '비교', '못', '하다', '내부', '품질', '불량', '외부', '품질', '양호', '상담', '원', '조치', '사항', '모두', '활성화', '되어다', '초기', '화', '실행', '전원', '재부팅', '추가', '연락처', '기타', '전달', '사항', '중계', '없다']\n"
     ]
    }
   ],
   "source": [
    "print('전처리 전 : ', train_texts[0])\n",
    "print('='*50)\n",
    "print('정제 후 : ', train_texts_cleaning[0])\n",
    "print('='*50)\n",
    "print('토큰화 후 : ', train_texts_token[0])\n",
    "print('='*50)\n",
    "print('불용어 처리 후 : ', train_texts_token_stop[0])"
   ]
  }
 ],
 "metadata": {
  "kernelspec": {
   "display_name": "Python 3",
   "language": "python",
   "name": "python3"
  },
  "language_info": {
   "codemirror_mode": {
    "name": "ipython",
    "version": 3
   },
   "file_extension": ".py",
   "mimetype": "text/x-python",
   "name": "python",
   "nbconvert_exporter": "python",
   "pygments_lexer": "ipython3",
   "version": "3.8.6"
  },
  "toc": {
   "base_numbering": 1,
   "nav_menu": {},
   "number_sections": false,
   "sideBar": true,
   "skip_h1_title": false,
   "title_cell": "Table of Contents",
   "title_sidebar": "Contents",
   "toc_cell": false,
   "toc_position": {},
   "toc_section_display": true,
   "toc_window_display": true
  },
  "varInspector": {
   "cols": {
    "lenName": 16,
    "lenType": 16,
    "lenVar": 40
   },
   "kernels_config": {
    "python": {
     "delete_cmd_postfix": "",
     "delete_cmd_prefix": "del ",
     "library": "var_list.py",
     "varRefreshCmd": "print(var_dic_list())"
    },
    "r": {
     "delete_cmd_postfix": ") ",
     "delete_cmd_prefix": "rm(",
     "library": "var_list.r",
     "varRefreshCmd": "cat(var_dic_list()) "
    }
   },
   "types_to_exclude": [
    "module",
    "function",
    "builtin_function_or_method",
    "instance",
    "_Feature"
   ],
   "window_display": false
  }
 },
 "nbformat": 4,
 "nbformat_minor": 4
}
